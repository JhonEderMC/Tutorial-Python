{
 "cells": [
  {
   "cell_type": "markdown",
   "metadata": {},
   "source": [
    "# 33 - Variantes de la estructura repetitiva for para recorrer tuplas y listas\n",
    "Hasta ahora siempre que recorremos una lista o una tupla utilizando un for procedemos de la siguiente manera:"
   ]
  },
  {
   "cell_type": "code",
   "execution_count": 4,
   "metadata": {
    "scrolled": true
   },
   "outputs": [
    {
     "name": "stdout",
     "output_type": "stream",
     "text": [
      "2\n",
      "3\n",
      "50\n",
      "7\n",
      "9\n"
     ]
    }
   ],
   "source": [
    "lista=[2, 3, 50, 7, 9]\n",
    "\n",
    "for x in range(len(lista)):\n",
    "    print(lista[x])"
   ]
  },
  {
   "cell_type": "markdown",
   "metadata": {},
   "source": [
    "Esta forma de recorrer la lista es utilizada obligatoriamente cuando queremos modificar sus elementos como podría ser:b"
   ]
  },
  {
   "cell_type": "code",
   "execution_count": 5,
   "metadata": {},
   "outputs": [
    {
     "name": "stdout",
     "output_type": "stream",
     "text": [
      "[2, 3, 50, 7, 9]\n",
      "[0, 0, 50, 0, 0]\n"
     ]
    }
   ],
   "source": [
    "lista=[2, 3, 50, 7, 9]\n",
    "\n",
    "print(lista) # [2, 3, 50, 7, 9]\n",
    "\n",
    "for x in range(len(lista)):\n",
    "    if lista[x]<10:\n",
    "        lista[x]=0\n",
    "\n",
    "print(lista) # [0, 0, 50, 0, 0]    "
   ]
  },
  {
   "cell_type": "markdown",
   "metadata": {},
   "source": [
    "Ahora veremos una segunda forma de acceder a los elementos de una lista con la estructura repetitiva for sin indicar subíndices."
   ]
  },
  {
   "cell_type": "code",
   "execution_count": 6,
   "metadata": {},
   "outputs": [
    {
     "name": "stdout",
     "output_type": "stream",
     "text": [
      "2\n",
      "3\n",
      "50\n",
      "7\n",
      "9\n"
     ]
    }
   ],
   "source": [
    "lista=[2, 3, 50, 7, 9]\n",
    "\n",
    "for elemento in lista:\n",
    "    print(elemento)"
   ]
  },
  {
   "cell_type": "markdown",
   "metadata": {},
   "source": [
    "Como podemos ver la instrucción for requiere una variable (en este ejemplo llamada elemento), luego la palabra clave in y por último el nombre de la lista. El bloque del for se ejecuta tantas veces como elementos tenga la lista, y en cada vuelta del for la variable elemento almacena un valor de la lista."
   ]
  },
  {
   "cell_type": "markdown",
   "metadata": {},
   "source": [
    "## Ejemplos\n",
    "### Ejemplo 1\n",
    "Confeccionar un programa que permita la carga de una lista de 5 enteros por teclado.\n",
    "Luego en otras funciones:\n",
    "\n",
    "1) Imprimirla en forma completa.\n",
    "\n",
    "2) Obtener y mostrar el mayor.\n",
    "\n",
    "3) Mostrar la suma de todas sus componentes.\n",
    "\n",
    "Utilizar la nueva sintaxis de for vista en este concepto."
   ]
  },
  {
   "cell_type": "code",
   "execution_count": 15,
   "metadata": {
    "scrolled": true
   },
   "outputs": [
    {
     "name": "stdout",
     "output_type": "stream",
     "text": [
      "Enter number 1 of 5: 1\n",
      "Enter number 2 of 5: 2\n",
      "Enter number 3 of 5: 3\n",
      "Enter number 4 of 5: 4\n",
      "Enter number 5 of 5: 5\n",
      "[1, 2, 3, 4, 5]\n",
      "************************\n",
      "greater [1, 2, 3, 4, 5]\n",
      "Sum:  15\n"
     ]
    }
   ],
   "source": [
    "## function enter numbers\n",
    "# return list of five numbers\n",
    "def number_enter():\n",
    "    listN=[]\n",
    "    for f in range(5):\n",
    "        numb=int(input(f\"Enter number {f+1} of {5}: \"))\n",
    "        listN.append(numb)\n",
    "    return listN\n",
    "\n",
    "# function greater number\n",
    "# return greater number\n",
    "def number_greater(v=0,*v1):\n",
    "    greater=v\n",
    "    for number in v1:\n",
    "        if(number>greater):\n",
    "            greater=number\n",
    "    return greater\n",
    "\n",
    "# sum components\n",
    "def numb_sum(v):\n",
    "    suma=0\n",
    "    for numb in v:\n",
    "        suma+=numb\n",
    "    return suma\n",
    "\n",
    "\n",
    "\n",
    "# main \n",
    "numb=number_enter()\n",
    "print(numb)\n",
    "print(\"************************\")\n",
    "greater=number_greater(numb)\n",
    "print(\"greater\", greater)\n",
    "print(\"Sum: \",numb_sum(numb))\n",
    "    \n",
    "    \n"
   ]
  },
  {
   "cell_type": "markdown",
   "metadata": {},
   "source": [
    "### Ejemplo 2 \n",
    "Almacenar en una lista de 5 elementos las tuplas con el nombre de empleado y su sueldo.\n",
    "Implementar las funciones:\n",
    "\n",
    "1) Carga de empleados.\n",
    "\n",
    "2) Impresión de los empleados y sus sueldos.\n",
    "\n",
    "3) Nombre del empleado con sueldo mayor.\n",
    "\n",
    "4) Cantidad de empleados con sueldo menor a 1000."
   ]
  },
  {
   "cell_type": "code",
   "execution_count": 6,
   "metadata": {},
   "outputs": [
    {
     "name": "stdout",
     "output_type": "stream",
     "text": [
      "Enter employe name1 of 5: Sergio\n",
      "Enter Sergio salary: $600\n",
      "Enter employe name2 of 5: Santiago\n",
      "Enter Santiago salary: $2000\n",
      "Enter employe name3 of 5: Diego\n",
      "Enter Diego salary: $700\n",
      "Enter employe name4 of 5: Arbey\n",
      "Enter Arbey salary: $1000\n",
      "Enter employe name5 of 5: Yustin\n",
      "Enter Yustin salary: $999\n",
      "*************************\n",
      "Employee data: \n",
      "Sergio: $600\n",
      "Santiago: $2000\n",
      "Diego: $700\n",
      "Arbey: $1000\n",
      "Yustin: $999\n",
      "*************************\n",
      " Santiago is employe with greater salary of $2000\n",
      "*************************\n",
      "The number of employee with salary less than 1000: 3\n"
     ]
    }
   ],
   "source": [
    "# function enter employee data (five)\n",
    "# return list data employe [(name, salary),(name,salary)....]\n",
    "def employee_enter_data():\n",
    "    # list data\n",
    "    listData=[]\n",
    "    for f in range(5):\n",
    "        # employee name\n",
    "        name=input(f\"Enter employe name{f+1} of {5}: \")\n",
    "        # employee salary\n",
    "        salary= int(input(f\"Enter {name} salary: $\"))\n",
    "        listData.append((name,salary))\n",
    "    return listData\n",
    "\n",
    "# function print employee data\n",
    "# param list employee\n",
    "# print (name, salary)\n",
    "def employee_print_data(employeeData):\n",
    "    # print employee data\n",
    "    for name, salary in employeeData:\n",
    "        print(name,salary,sep=\": $\" )\n",
    "\n",
    "# function return employee greater data\n",
    "# param employe data\n",
    "# return name greater employee\n",
    "def employee_greater_salary(employeeData):\n",
    "    # this takes with a greater\n",
    "    greater=employeeData[0] #(name,salary)\n",
    "    for emp in employeeData:\n",
    "        # search greater salary\n",
    "        if (emp[1]>greater[1]):\n",
    "            greater=emp\n",
    "    return greater[0],greater[1]\n",
    "\n",
    "# function number of employees with salary is less 1000\n",
    "def employee_number_less_1000(employeeData):\n",
    "    count=0\n",
    "    for emp in employeeData:\n",
    "        # less than 100\n",
    "        if(emp[1]<1000):\n",
    "            count+=1\n",
    "    return count\n",
    "\n",
    "# main\n",
    "employeeData=employee_enter_data()\n",
    "print(\"*\"*25)\n",
    "print(\"Employee data: \")\n",
    "employee_print_data(employeeData)\n",
    "print(\"*\"*25)\n",
    "[name,salary]=employee_greater_salary(employeeData)\n",
    "print(f\" {name} is employe with greater salary of ${salary}\")\n",
    "print(\"*\"*25)\n",
    "countLess=employee_number_less_1000(employeeData)\n",
    "print(\"The number of employee with salary less than 1000:\",countLess)\n"
   ]
  },
  {
   "cell_type": "markdown",
   "metadata": {},
   "source": [
    "Algo nuevo podemos ver ahora en el for para recuperar cada tupla almacenada en la lista. **Podemos ver que desempaquetamos la tupla que devuelve el for en cada vuelta en las variables nombre y sueldo**. Esto nos facilita la impresión de los datos sin tener que indicar subíndices para los elementos de la tupla:\n",
    "\n",
    "`def employee_print_data(employeeData):\n",
    "    # print employee data\n",
    "    for name, salary in employeeData:\n",
    "        print(name,salary,sep=\": $\" )\n",
    "        \n",
    "Para obtener el sueldo mayor y el nombre del empleado definimos una variable local llamada greater que almacene el primer elemento de la lista empleados.\n",
    "En cada vuelta del for en la variable emp se almacena una tupla de la lista empleados y procedemos a analizar si el sueldo es mayor al que hemos considerado mayor hasta ese momento, en caso afirmativo actualizamos la variable greater:\n",
    "\n",
    "`def employee_greater_salary(employeeData):\n",
    "    # this takes with a greater\n",
    "    greater=employeeData[0] #(name,salary)\n",
    "    for emp in employeeData:\n",
    "        # search greater salary\n",
    "        if (emp[1]>greater[1]):\n",
    "            greater=emp\n",
    "    return greater[0],greater[1]`\n",
    "        \n",
    "## Problemas propuestos\n",
    "### Problema 1\n",
    "Definir una función que cargue una lista con palabras y la retorne.\n",
    "Luego otra función tiene que mostrar todas las palabras de la lista que tienen más de 5 caracteres."
   ]
  },
  {
   "cell_type": "code",
   "execution_count": 9,
   "metadata": {},
   "outputs": [
    {
     "name": "stdout",
     "output_type": "stream",
     "text": [
      "Enter a word (stop to stop): lower\n",
      "Enter a word (stop to stop): vowel\n",
      "Enter a word (stop to stop): azucar\n",
      "Enter a word (stop to stop): sal\n",
      "Enter a word (stop to stop): limon\n",
      "Enter a word (stop to stop): aceite\n",
      "Enter a word (stop to stop): domingo\n",
      "Enter a word (stop to stop): frutas\n",
      "Enter a word (stop to stop): Stop\n",
      "List:  ['lower', 'vowel', 'azucar', 'sal', 'limon', 'aceite', 'domingo', 'frutas']\n",
      "Words with more than 5 characters: \n",
      "azucar\n",
      "aceite\n",
      "domingo\n",
      "frutas\n"
     ]
    }
   ],
   "source": [
    "# function enter word list\n",
    "# return listWord\n",
    "def word_enter():\n",
    "    # list word\n",
    "    listWord=[]\n",
    "    # stop enter words\n",
    "    stop=False\n",
    "    while(stop!=True):\n",
    "        # enter word\n",
    "        word=input(\"Enter a word (stop to stop): \")\n",
    "        # if stop or no\n",
    "        if(word.lower()!=\"stop\"):\n",
    "            listWord.append(word)\n",
    "        else:\n",
    "            stop= True\n",
    "    return listWord\n",
    "\n",
    "# print word with lenght is greater than 5\n",
    "def word_print_greater_5(ListWord):\n",
    "    for word in listWord:\n",
    "        if(len(word)>5):\n",
    "            print(word)\n",
    "            \n",
    "\n",
    "# main\n",
    "listWord=word_enter()\n",
    "print(\"List: \",listWord)\n",
    "print(\"Words with more than 5 characters: \")\n",
    "word_print_greater_5(listWord)\n",
    "            "
   ]
  },
  {
   "cell_type": "markdown",
   "metadata": {},
   "source": [
    "### Problema 2\n",
    "Almacenar los nombres de 5 productos y sus precios. Utilizar una lista y cada elemento una tupla con el nombre y el precio.\n",
    "Desarrollar las funciones:\n",
    "\n",
    "1) Cargar por teclado.\n",
    "\n",
    "2) Listar los productos y precios.\n",
    "\n",
    "3) Imprimir los productos con precios comprendidos entre 10 y 15."
   ]
  },
  {
   "cell_type": "code",
   "execution_count": 11,
   "metadata": {},
   "outputs": [
    {
     "name": "stdout",
     "output_type": "stream",
     "text": [
      "Enter product name1 of 5: Azucar\n",
      "Enter price of Azucar: $5\n",
      "Enter product name2 of 5: Sal\n",
      "Enter price of Sal: $10\n",
      "Enter product name3 of 5: Aceite\n",
      "Enter price of Aceite: $15\n",
      "Enter product name4 of 5: Arroz\n",
      "Enter price of Arroz: $40\n",
      "Enter product name5 of 5: Leche\n",
      "Enter price of Leche: $11\n",
      "[('Azucar', 5), ('Sal', 10), ('Aceite', 15), ('Arroz', 40), ('Leche', 11)]\n",
      "*************************\n",
      "Azucar --> $5\n",
      "Sal --> $10\n",
      "Aceite --> $15\n",
      "Arroz --> $40\n",
      "Leche --> $11\n",
      "*************************\n",
      "Products with price is between 10 and 15: \n",
      "Sal\n",
      "Aceite\n",
      "Leche\n"
     ]
    }
   ],
   "source": [
    "# list of products and their price\n",
    "def product_enter_list():\n",
    "    # list of products [(name,price)]\n",
    "    listProduct=[]\n",
    "    for f in range(5):\n",
    "        name=input(f\"Enter product name{f+1} of {5}: \")\n",
    "        price=int(input(f\"Enter price of {name}: $\"))\n",
    "        # add to list\n",
    "        listProduct.append((name,price))\n",
    "    return listProduct\n",
    "\n",
    "# print products and prices\n",
    "def product_print(listProduct):\n",
    "    for name, price in listProduct:\n",
    "        print(name,price,sep=\" --> $\")\n",
    "\n",
    "# products with prices is between 10 and 15\n",
    "def producto_price_between(listProduct):\n",
    "    for name,price in listProduct:\n",
    "        if(price>=10 and price<= 15):\n",
    "            print(name)\n",
    "# main \n",
    "listProduct=product_enter_list()\n",
    "print(listProduct)\n",
    "print(\"*\"*25)\n",
    "product_print(listProduct)\n",
    "print(\"*\"*25)\n",
    "print(\"Products with price is between 10 and 15: \")\n",
    "producto_price_between(listProduct)"
   ]
  }
 ],
 "metadata": {
  "kernelspec": {
   "display_name": "Python 3",
   "language": "python",
   "name": "python3"
  },
  "language_info": {
   "codemirror_mode": {
    "name": "ipython",
    "version": 3
   },
   "file_extension": ".py",
   "mimetype": "text/x-python",
   "name": "python",
   "nbconvert_exporter": "python",
   "pygments_lexer": "ipython3",
   "version": "3.7.6"
  }
 },
 "nbformat": 4,
 "nbformat_minor": 4
}
