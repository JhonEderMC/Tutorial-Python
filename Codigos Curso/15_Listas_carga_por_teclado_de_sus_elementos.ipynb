{
 "cells": [
  {
   "cell_type": "markdown",
   "metadata": {},
   "source": [
    "# 15 - Listas: carga por teclado de sus elementos\n",
    "Una lista en Python es una estructura mutable (es decir puede ir cambiando durante la ejecución del programa)\n",
    "\n",
    "Hemos visto que podemos definir una lista por asignación indicando entre corchetes los valores a almacenar:\n",
    "\n",
    "`lista=[10, 20, 40]`\n",
    "Una lista luego de definida podemos agregarle nuevos elementos a la colección. La primera forma que veremos para que nuestra lista crezca es utilizar el método **_append_** que tiene la lista y pasar como parámetro el nuevo elemento:\n",
    "\n",
    "`lista=[10, 20, 30]\n",
    "print(len(lista))    # imprime un 3\n",
    "lista.append(100)\n",
    "print(len(lista))    # imprime un 4\n",
    "print(lista[0])      # imprime un 10\n",
    "print(lista[3])      # imprime un 100`\n",
    "\n",
    "\n",
    "Definimos una lista con tres elementos:\n",
    "\n",
    "`lista=[10, 20, 30]`\n",
    "\n",
    "Imprimimos la cantidad de elementos que tiene la lista, en nuestro caso lo definimos con 3:\n",
    "\n",
    "`print(len(lista))    # imprime un 3`\n",
    "\n",
    "Agregamos una nuevo elemento al final de la lista llamando al método append:\n",
    "\n",
    "`lista.append(100)`\n",
    "\n",
    "Si llamamos nuevamente a la función len y le pasamos el nombre de nuestra lista ahora retorna un 4:\n",
    "\n",
    "`print(len(lista))    # imprime un 4`\n",
    "\n",
    "Imprimimos ahora el primer y cuarto elemento de la lista (recordar que se numeran a partir de cero):\n",
    "\n",
    "`print(lista[0])      # imprime un 10\n",
    "print(lista[3])      # imprime un 100`\n",
    "\n",
    "## Ejemplos\n",
    "### Ejemplo 1\n",
    "Definir una lista vacía y luego solicitar la carga de 5 enteros por teclado y añadirlos a la lista. Imprimir la lista generada."
   ]
  },
  {
   "cell_type": "code",
   "execution_count": 2,
   "metadata": {},
   "outputs": [
    {
     "name": "stdout",
     "output_type": "stream",
     "text": [
      "Enter a number: 1\n",
      "Enter a number: 2\n",
      "Enter a number: 3\n",
      "Enter a number: 4\n",
      "Enter a number: 5\n",
      "List is:  [1, 2, 3, 4, 5]\n"
     ]
    }
   ],
   "source": [
    "#list empty\n",
    "list1=[]\n",
    "i=0\n",
    "#entre five elemnts\n",
    "while i<5:\n",
    "    list1.append(int(input(\"Enter a number: \")))\n",
    "    # increase counter\n",
    "    i+=1\n",
    "# print list\n",
    "print(\"List is: \",list1)"
   ]
  },
  {
   "cell_type": "markdown",
   "metadata": {},
   "source": [
    "## Ejemplo 2\n",
    "Realizar la carga de valores enteros por teclado, almacenarlos en una lista. Finalizar la carga de enteros al ingresar el cero. Mostrar finalmente el tamaño de la lista."
   ]
  },
  {
   "cell_type": "code",
   "execution_count": 3,
   "metadata": {},
   "outputs": [
    {
     "name": "stdout",
     "output_type": "stream",
     "text": [
      "Enter a number: 1\n",
      "Enter a number: 2\n",
      "Enter a number: 3\n",
      "Enter a number: 4\n",
      "Enter a number: 5\n",
      "Enter a number: 6\n",
      "Enter a number: 7\n",
      "Enter a number: 8\n",
      "Enter a number: 9\n",
      "Enter a number: 10\n",
      "Enter a number: 0\n",
      "List:  [1, 2, 3, 4, 5, 6, 7, 8, 9, 10]\n"
     ]
    }
   ],
   "source": [
    "# list empty\n",
    "list1=[]\n",
    "# Stop with zero\n",
    "stop=False\n",
    "while stop!=True:\n",
    "    #input number\n",
    "    number=int(input(\"Enter a number: \"))    \n",
    "    if(number!=0):\n",
    "        #add list end list1\n",
    "        list1.append(number)\n",
    "    else: #stop\n",
    "        stop=True\n",
    "print(\"List: \",list1)"
   ]
  },
  {
   "cell_type": "markdown",
   "metadata": {},
   "source": [
    "## Problemas\n",
    "### Problema 1\n",
    "Almacenar en una lista los sueldos (valores float) de 5 operarios. Imprimir la lista y el promedio de sueldos."
   ]
  },
  {
   "cell_type": "code",
   "execution_count": 1,
   "metadata": {},
   "outputs": [
    {
     "name": "stdout",
     "output_type": "stream",
     "text": [
      "Enter a worker salary: $100\n",
      "Enter a worker salary: $200\n",
      "Enter a worker salary: $300\n",
      "Enter a worker salary: $400\n",
      "Enter a worker salary: $500\n",
      "Worker salaries:  [100.0, 200.0, 300.0, 400.0, 500.0]\n",
      "Worker average:  300.0\n"
     ]
    }
   ],
   "source": [
    "#list salary\n",
    "salary=[]\n",
    "# enter salary\n",
    "suma=0\n",
    "for sal in range(5):\n",
    "    salary.append(float(input(\"Enter a worker salary: $\")))\n",
    "    suma+=salary[sal]\n",
    "print(\"Worker salaries: \",salary)\n",
    "print(\"Worker average: \",suma/5) "
   ]
  },
  {
   "cell_type": "markdown",
   "metadata": {},
   "source": [
    "### Problema 2\n",
    "Cargar por teclado y almacenar en una lista las alturas de 5 personas (valores float)\n",
    "Obtener el promedio de las mismas. Contar cuántas personas son más altas que el promedio y cuántas más bajas."
   ]
  },
  {
   "cell_type": "code",
   "execution_count": 5,
   "metadata": {},
   "outputs": [
    {
     "name": "stdout",
     "output_type": "stream",
     "text": [
      "Enter a height: 1.56\n",
      "Enter a height: 1.68\n",
      "Enter a height: 1.75\n",
      "Enter a height: 1.92\n",
      "Enter a height: 1.84\n",
      "average height:  1.75\n",
      "The amount of people greater than average:  2\n"
     ]
    }
   ],
   "source": [
    "# list Heights\n",
    "listHeight=[]\n",
    "suma=0\n",
    "for x in range(5):\n",
    "    listHeight.append(float(input(\"Enter a height: \")))\n",
    "    # acumulate height\n",
    "    suma+=listHeight[x]\n",
    "#average \n",
    "averageHeight=suma/5\n",
    "# count greater height\n",
    "countGeat=0\n",
    "for x in listHeight:\n",
    "    # greater average height\n",
    "    if(x>averageHeight):\n",
    "        countGeat+=1\n",
    "print(\"average height: \",averageHeight)\n",
    "print(\"The amount of people greater than average: \",countGeat)"
   ]
  },
  {
   "cell_type": "markdown",
   "metadata": {},
   "source": [
    "### Problema 3 \n",
    "Una empresa tiene dos turnos (mañana y tarde) en los que trabajan 8 empleados (4 por la mañana y 4 por la tarde) Confeccionar un programa que permita almacenar los sueldos de los empleados agrupados en dos listas.\n",
    "Imprimir las dos listas de sueldos."
   ]
  },
  {
   "cell_type": "code",
   "execution_count": 9,
   "metadata": {},
   "outputs": [
    {
     "name": "stdout",
     "output_type": "stream",
     "text": [
      "Enter worker0's salry in the morning: $100\n",
      "Enter worker1's salry in the morning: $200\n",
      "Enter worker2's salry in the morning: $300\n",
      "Enter worker3's salry in the morning: $400\n",
      "Enter worker0's salry in the afternoon: $40\n",
      "Enter worker1's salry in the afternoon: $30\n",
      "Enter worker2's salry in the afternoon: $20\n",
      "Enter worker3's salry in the afternoon: $10\n",
      "Morning:  [100.0, 200.0, 300.0, 400.0]\n",
      "Afternoon:  [40.0, 30.0, 20.0, 10.0]\n"
     ]
    }
   ],
   "source": [
    "## list of salaries \n",
    "listSalaryMorning=[]\n",
    "listSalaryAfternoon=[]\n",
    "\n",
    "# morning\n",
    "for f in range(4):\n",
    "    listSalaryMorning.append(float(input(f\"Enter worker{f}'s salry in the morning: $\")))\n",
    "# afternoon\n",
    "for f in range(4):\n",
    "    listSalaryAfternoon.append(float(input(f\"Enter worker{f}'s salry in the afternoon: $\")))\n",
    "# print list\n",
    "print(\"Morning: \",listSalaryMorning)\n",
    "print(\"Afternoon: \",listSalaryAfternoon)\n",
    "    "
   ]
  }
 ],
 "metadata": {
  "kernelspec": {
   "display_name": "Python 3",
   "language": "python",
   "name": "python3"
  },
  "language_info": {
   "codemirror_mode": {
    "name": "ipython",
    "version": 3
   },
   "file_extension": ".py",
   "mimetype": "text/x-python",
   "name": "python",
   "nbconvert_exporter": "python",
   "pygments_lexer": "ipython3",
   "version": "3.7.6"
  }
 },
 "nbformat": 4,
 "nbformat_minor": 4
}
