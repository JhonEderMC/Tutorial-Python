{
 "cells": [
  {
   "cell_type": "markdown",
   "metadata": {},
   "source": [
    "# 10 - Estructura repetitiva for\n",
    "Cualquier problema que requiera una estructura repetitiva se puede resolver empleando la estructura while, pero hay otra estructura repetitiva cuyo planteo es más sencillo en ciertas situaciones que tenemos que recorrer una lista de datos.\n",
    "\n",
    ">En general, la estructura repetitiva for se usa en aquellas situaciones en las cuales queremos que una variable vaya tomando un valor de una lista definida de valores.\n",
    "\n",
    "Veremos con una serie de ejemplos el empleo del for.\n",
    "\n",
    "### ejemplo 1\n",
    "Realizar un programa que imprima en pantalla los números del 0 al 20"
   ]
  },
  {
   "cell_type": "code",
   "execution_count": 2,
   "metadata": {},
   "outputs": [
    {
     "name": "stdout",
     "output_type": "stream",
     "text": [
      "0\n",
      "1\n",
      "2\n",
      "3\n",
      "4\n",
      "5\n",
      "6\n",
      "7\n",
      "8\n",
      "9\n",
      "10\n",
      "11\n",
      "12\n",
      "13\n",
      "14\n",
      "15\n",
      "16\n",
      "17\n",
      "18\n",
      "19\n",
      "20\n"
     ]
    }
   ],
   "source": [
    "for x in range (21):\n",
    "    print(x)"
   ]
  },
  {
   "cell_type": "markdown",
   "metadata": {},
   "source": [
    "_La función range retorna la primera vez el valor 0 y se almacena en x, luego el 1 y así sucesivamente hasta que retorna el valor que le pasamos a range menos uno (es decir en nuestro ejemplo al final retorna un 100)_"
   ]
  },
  {
   "cell_type": "markdown",
   "metadata": {},
   "source": [
    "### ejemplo 2\n",
    "Realizar un programa que imprima en pantalla los números del 20 al 30.\n"
   ]
  },
  {
   "cell_type": "code",
   "execution_count": 4,
   "metadata": {},
   "outputs": [
    {
     "name": "stdout",
     "output_type": "stream",
     "text": [
      "20\n",
      "21\n",
      "22\n",
      "23\n",
      "24\n",
      "25\n",
      "26\n",
      "27\n",
      "28\n",
      "29\n",
      "30\n"
     ]
    }
   ],
   "source": [
    "for x in range (20,31):\n",
    "    print (x)"
   ]
  },
  {
   "cell_type": "markdown",
   "metadata": {},
   "source": [
    "_La función range puede tener dos parámetros, el primero indica el valor inicial que tomará la variable x, cada vuelta del for la variable x toma el valor siguiente hasta llegar al valor indicado por el segundo parámetro de la función range menos uno._\n",
    "\n",
    "### Ejemplo 3\n",
    "Imprimir todos los números impares que hay entre 1 y 100."
   ]
  },
  {
   "cell_type": "code",
   "execution_count": 5,
   "metadata": {},
   "outputs": [
    {
     "name": "stdout",
     "output_type": "stream",
     "text": [
      "1\n",
      "3\n",
      "5\n",
      "7\n",
      "9\n",
      "11\n",
      "13\n",
      "15\n",
      "17\n",
      "19\n",
      "21\n",
      "23\n",
      "25\n",
      "27\n",
      "29\n",
      "31\n",
      "33\n",
      "35\n",
      "37\n",
      "39\n",
      "41\n",
      "43\n",
      "45\n",
      "47\n",
      "49\n",
      "51\n",
      "53\n",
      "55\n",
      "57\n",
      "59\n",
      "61\n",
      "63\n",
      "65\n",
      "67\n",
      "69\n",
      "71\n",
      "73\n",
      "75\n",
      "77\n",
      "79\n",
      "81\n",
      "83\n",
      "85\n",
      "87\n",
      "89\n",
      "91\n",
      "93\n",
      "95\n",
      "97\n",
      "99\n"
     ]
    }
   ],
   "source": [
    "for x in range (1,101,2):\n",
    "    print(x)"
   ]
  },
  {
   "cell_type": "markdown",
   "metadata": {},
   "source": [
    "_a función range puede tener también tres parámetros, el primero indica el valor inicial que tomará la variable x, el segundo parámetro el valor final (que no se incluye) y el tercer parámetro indica cuanto se incrementa cada vuelta x._\n",
    "\n",
    "### Ejemplo 4\n",
    "Desarrollar un programa que permita la carga de 10 valores por teclado y nos muestre posteriormente la suma de los valores ingresados y su promedio."
   ]
  },
  {
   "cell_type": "code",
   "execution_count": 2,
   "metadata": {
    "scrolled": true
   },
   "outputs": [
    {
     "name": "stdout",
     "output_type": "stream",
     "text": [
      "Enter the number1: 10\n",
      "Enter the number2: 10\n",
      "Enter the number3: 10\n",
      "Enter the number4: 10\n",
      "Enter the number5: 10\n",
      "Enter the number6: 10\n",
      "Enter the number7: 10\n",
      "Enter the number8: 10\n",
      "Enter the number9: 10\n",
      "Enter the number10: 10\n",
      "The addiction is: 10.0\n"
     ]
    }
   ],
   "source": [
    "# addiction\n",
    "suma=0\n",
    "for f in range (1,11):\n",
    "    numb=int(input(f\"Enter the number{f}: \"))\n",
    "    #acumulate\n",
    "    suma+=numb\n",
    "average=suma/10\n",
    "print(f\"The addiction is: {suma}\")\n",
    "print(f\"The average is: {average}\")"
   ]
  },
  {
   "cell_type": "markdown",
   "metadata": {},
   "source": [
    "### Ejemplo 5\n",
    "Escribir un programa que solicite por teclado 10 notas de alumnos y nos informe cuántos tienen notas mayores o iguales a 3 y cuántos menores."
   ]
  },
  {
   "cell_type": "code",
   "execution_count": 3,
   "metadata": {
    "scrolled": true
   },
   "outputs": [
    {
     "name": "stdout",
     "output_type": "stream",
     "text": [
      "Enter grade0:3.5\n",
      "Enter grade1:3\n",
      "Enter grade2:2.9\n",
      "Enter grade3:4\n",
      "Enter grade4:2.2\n",
      "Enter grade5:2.6\n",
      "Enter grade6:2.8\n",
      "Enter grade7:3\n",
      "Enter grade8:3.3\n",
      "Enter grade9:3\n",
      "Enter grade10:2\n",
      "The number of stundents with greater grade: 6\n",
      "The number of students with less grade: 4\n"
     ]
    }
   ],
   "source": [
    "# counter greater\n",
    "# grade great 3\n",
    "countGreat=0\n",
    "for i in range(11):\n",
    "    grade=float(input(f\"Enter grade{i}:\"))\n",
    "    if(grade>=3):\n",
    "        countGreat+=1\n",
    "print(f\"The number of stundents with greater grade: {countGreat}\")\n",
    "print(f\"The number of students with less grade: {10-countGreat}\")"
   ]
  },
  {
   "cell_type": "markdown",
   "metadata": {},
   "source": [
    "#### Ejemplo 6\n",
    "Escribir un programa que lea 10 números enteros y luego muestre cuántos valores ingresados fueron múltiplos de 3 y cuántos de 5."
   ]
  },
  {
   "cell_type": "code",
   "execution_count": 5,
   "metadata": {
    "scrolled": true
   },
   "outputs": [
    {
     "name": "stdout",
     "output_type": "stream",
     "text": [
      "Enter a number1:10\n",
      "Enter a number2:3\n",
      "Enter a number3:5\n",
      "Enter a number4:12\n",
      "Enter a number5:11\n",
      "Enter a number6:7\n",
      "Enter a number7:4\n",
      "Enter a number8:25\n",
      "Enter a number9:15\n",
      "Enter a number10:30\n",
      "Multiple of 3: 4\n",
      "Multiple of 5: 5\n"
     ]
    }
   ],
   "source": [
    "# Counters\n",
    "mult3=0\n",
    "mult5=0\n",
    "for i in range(1,11):\n",
    "    number=int(input(f\"Enter a number{i}:\"))\n",
    "    if(number%3==0):\n",
    "        mult3+=1\n",
    "    if(number%5==0):\n",
    "        mult5+=1\n",
    "print(f\"Multiple of 3: {mult3}\")\n",
    "print(f\"Multiple of 5: {mult5}\")"
   ]
  },
  {
   "cell_type": "markdown",
   "metadata": {},
   "source": [
    "### Ejemplo 7\n",
    "Codificar un programa que lea n números enteros y calcule la cantidad de valores mayores o iguales a 1000 (n se carga por teclado)"
   ]
  },
  {
   "cell_type": "code",
   "execution_count": 12,
   "metadata": {},
   "outputs": [
    {
     "name": "stdout",
     "output_type": "stream",
     "text": [
      "Enter amount of numbers: 5\n",
      "Enter a number1: 1000\n",
      "Enter a number2: 300\n",
      "Enter a number3: 200\n",
      "Enter a number4: 2000\n",
      "Enter a number5: 400\n",
      "The amount of numbers greater than 1000 are: 2\n"
     ]
    }
   ],
   "source": [
    "# the amount of number\n",
    "n=int (input(\"Enter amount of numbers: \"))\n",
    "#counter\n",
    "count=0\n",
    "for i in range (1,n+1):\n",
    "    number=int(input(f\"Enter a number{i}: \"))\n",
    "    if(number>=1000):\n",
    "        count+=1\n",
    "print(f\"The amount of numbers greater than 1000 are: {count}\")"
   ]
  },
  {
   "cell_type": "markdown",
   "metadata": {},
   "source": [
    "## Problemas\n",
    "Ha llegado nuevamente la parte fundamental, que es el momento donde uno desarrolla individualmente un algoritmo para la resolución de un problema.\n",
    "### Problema 1\n",
    "Confeccionar un programa que lea n pares de datos, cada par de datos corresponde a la medida de la base y la altura de un triángulo. El programa deberá informar:\n",
    "a) De cada triángulo la medida de su base, su altura y su superficie.\n",
    "b) La cantidad de triángulos cuya superficie es mayor a 12."
   ]
  },
  {
   "cell_type": "code",
   "execution_count": 16,
   "metadata": {},
   "outputs": [
    {
     "name": "stdout",
     "output_type": "stream",
     "text": [
      "The number of triangles: 3\n",
      "The triangle height1: 11\n",
      "The triangle base1: 4\n",
      "The triangle height2: 12\n",
      "The triangle base2: 6\n",
      "The triangle height3: 6\n",
      "The triangle base3: 2\n",
      "The number of triangles with area greater than 12 are: 2\n"
     ]
    }
   ],
   "source": [
    "#### number of triangles\n",
    "n=int (input(\"The number of triangles: \"))\n",
    "# counter greater than 12 area\n",
    "count=0\n",
    "for i in range(1,n+1):\n",
    "    height=float(input(f\"The triangle height{i}: \"))\n",
    "    base=float(input(f\"The triangle base{i}: \"))\n",
    "    # area\n",
    "    area=(height*base)/2\n",
    "    if (area>=12):\n",
    "        count+=1\n",
    "print(f\"The number of triangles with area greater than 12 are: {count}\")"
   ]
  },
  {
   "cell_type": "markdown",
   "metadata": {},
   "source": [
    "### Problema 2\n",
    "Desarrollar un programa que solicite la carga de 10 números e imprima la suma de los últimos 5 valores ingresados."
   ]
  },
  {
   "cell_type": "code",
   "execution_count": 20,
   "metadata": {},
   "outputs": [
    {
     "name": "stdout",
     "output_type": "stream",
     "text": [
      "Enter number0: 1\n",
      "Enter number1: 2\n",
      "Enter number2: 3\n",
      "Enter number3: 4\n",
      "Enter number4: 5\n",
      "Enter number5: 6\n",
      "Enter number6: 7\n",
      "Enter number7: 8\n",
      "Enter number8: 9\n",
      "Enter number9: 10\n",
      "Sum:  45\n"
     ]
    }
   ],
   "source": [
    "# acumulate\n",
    "sum=0\n",
    "for x in range(10):\n",
    "    numb=int(input(f\"Enter number{x}: \"))\n",
    "    # acmulate\n",
    "    if (x>=4):\n",
    "        sum+=numb\n",
    "print (\"Sum: \",sum)"
   ]
  },
  {
   "cell_type": "markdown",
   "metadata": {},
   "source": [
    "### Problema 3\n",
    "Confeccionar un programa que permita ingresar un valor del 1 al 10 y nos muestre la tabla de multiplicar del mismo (los primeros 12 términos)"
   ]
  },
  {
   "cell_type": "code",
   "execution_count": 3,
   "metadata": {},
   "outputs": [
    {
     "name": "stdout",
     "output_type": "stream",
     "text": [
      "Enter a number: 2\n",
      "2\n",
      "4\n",
      "6\n",
      "8\n",
      "10\n",
      "12\n",
      "14\n",
      "16\n",
      "18\n",
      "20\n",
      "22\n",
      "24\n"
     ]
    }
   ],
   "source": [
    "# input number\n",
    "number=int(input(\"Enter a number: \"))\n",
    "for i in range (1,13):\n",
    "    print(i*number)"
   ]
  },
  {
   "cell_type": "markdown",
   "metadata": {},
   "source": [
    "### Problema 4\n",
    "Realizar un programa que lea los lados de n triángulos, e informar:\n",
    "<ul>\n",
    "<lo> a) De cada uno de ellos, qué tipo de triángulo es: equilátero (tres lados iguales), isósceles (dos    lados iguales), o escaleno (ningún lado igual)</lo>\n",
    "    \n",
    "<lo> b) Cantidad de triángulos de cada tipo.</lo>\n",
    "</ul>"
   ]
  },
  {
   "cell_type": "code",
   "execution_count": 1,
   "metadata": {},
   "outputs": [
    {
     "name": "stdout",
     "output_type": "stream",
     "text": [
      "Number of triangles: 5\n",
      "Enter side1: 2\n",
      "Enter side2: 2\n",
      "Enter side3: 2\n",
      "Enter side1: 3\n",
      "Enter side2: 2\n",
      "Enter side3: 3\n",
      "Enter side1: 1\n",
      "Enter side2: 2\n",
      "Enter side3: 3\n",
      "Enter side1: 0\n",
      "Enter side2: 0\n",
      "Enter side3: 2\n",
      "Enter side1: 1\n",
      "Enter side2: 2\n",
      "Enter side3: 1\n",
      "Equilateral:  1\n",
      "Isosceles:  3\n",
      "Scalene:  1\n"
     ]
    }
   ],
   "source": [
    "# counters\n",
    "countEquilateral=0\n",
    "countIsosceles=0\n",
    "countScalene=0\n",
    "# the amount of triangles\n",
    "n= int (input(\"Number of triangles: \"))\n",
    "for i in range(n):\n",
    "    side1=int(input(\"Enter side1: \"))\n",
    "    side2=int(input(\"Enter side2: \"))\n",
    "    side3=int(input(\"Enter side3: \"))\n",
    "    # type of triangle\n",
    "    if(side1==side2 and side1==side3): #equilateral\n",
    "        countEquilateral+=1\n",
    "    elif(side1==side2 or side1==side3 or side1==side3): #isoceles\n",
    "        countIsosceles+=1\n",
    "    else: #scalene\n",
    "        countScalene+=1\n",
    "print(\"Equilateral: \",countEquilateral)\n",
    "print(\"Isosceles: \",countIsosceles)\n",
    "print(\"Scalene: \", countScalene)"
   ]
  },
  {
   "attachments": {
    "image.png": {
     "image/png": "[encoded data removed]"
    }
   },
   "cell_type": "markdown",
   "metadata": {},
   "source": [
    "### Problema 5\n",
    "Escribir un programa que pida ingresar coordenadas (x,y) que representan puntos en el plano.\n",
    "Informar cuántos puntos se han ingresado en el primer, segundo, tercer y cuarto cuadrante. Al comenzar el programa se pide que se ingrese la cantidad de puntos a procesar.\n",
    "![image.png](attachment:image.png)"
   ]
  },
  {
   "cell_type": "code",
   "execution_count": 7,
   "metadata": {},
   "outputs": [
    {
     "name": "stdout",
     "output_type": "stream",
     "text": [
      "Enter the number of points: 5\n",
      "axis X: 1\n",
      "axis Y: 1\n",
      "The point is first quadrant\n",
      "axis X: -1\n",
      "axis Y: 1\n",
      "The point is Second quadrant\n",
      "axis X: -2\n",
      "axis Y: -3\n",
      "The point is third quadrant\n",
      "axis X: 2\n",
      "axis Y: -3\n",
      "The point is four quadrant\n",
      "axis X: 6\n",
      "axis Y: 7\n",
      "The point is first quadrant\n",
      "\n",
      " The number of point in each quadrant\n",
      "First:  2\n",
      "Second:  1\n",
      "Third:  1\n",
      "Four:  1\n"
     ]
    }
   ],
   "source": [
    "# number of points\n",
    "n=int(input(\"Enter the number of points: \"))\n",
    "#counter\n",
    "quadrantFirst=0\n",
    "quadrantSecond=0\n",
    "quadrantThird=0\n",
    "quadrantFour=0\n",
    "for i in range (n):\n",
    "    x=int(input(\"axis X: \"))\n",
    "    y=int(input(\"axis Y: \"))\n",
    "    #cartesian plane    \n",
    "    if(x==0 and y==0):\n",
    "        print(\"The point is origin\")\n",
    "    elif(x==0 and y>0):\n",
    "        print(\"The point is axis Y positive\")\n",
    "    elif(x==0 and y<0):\n",
    "        print(\"The point is axis Y negative\")\n",
    "    elif(x>0 and y==0):\n",
    "        print(\"The point is axis X positive\")\n",
    "    elif(x<0 and y==0):\n",
    "        print(\"The point is axis X negative\")\n",
    "    elif(x>0 and y>0):\n",
    "        print(\"The point is first quadrant\")\n",
    "        quadrantFirst+=1\n",
    "    elif(x<0 and y>0):\n",
    "        print(\"The point is Second quadrant\")\n",
    "        quadrantSecond+=1\n",
    "    elif(x<0 and y<0):\n",
    "        print(\"The point is third quadrant\")\n",
    "        quadrantThird+=1\n",
    "    elif (x>0 and y<0):\n",
    "        print(\"The point is four quadrant\")\n",
    "        quadrantFour+=1\n",
    "print(\"\\n The number of point in each quadrant\")\n",
    "print(\"First: \",quadrantFirst)\n",
    "print(\"Second: \",quadrantSecond)\n",
    "print(\"Third: \",quadrantThird)\n",
    "print(\"Four: \",quadrantFour)\n"
   ]
  },
  {
   "cell_type": "markdown",
   "metadata": {},
   "source": [
    "### Problema 6\n",
    "Se cuenta con la siguiente información:\n",
    "Las edades de 5 estudiantes del turno mañana.\n",
    "Las edades de 6 estudiantes del turno tarde.\n",
    "Las edades de 11 estudiantes del turno noche.\n",
    "Las edades de cada estudiante deben ingresarse por teclado.\n",
    "<ul>\n",
    "<lo>a) Obtener el promedio de las edades de cada turno (tres promedios)</lo>\n",
    "    \n",
    "<lo>b) Imprimir dichos promedios (promedio de cada turno)</lo>    \n",
    "<lo>c) Mostrar por pantalla un mensaje que indique cual de los tres turnos tiene un promedio de edades mayor.</lo>\n",
    "    </ul>"
   ]
  },
  {
   "cell_type": "code",
   "execution_count": 10,
   "metadata": {},
   "outputs": [
    {
     "name": "stdout",
     "output_type": "stream",
     "text": [
      "Morning:\n",
      "student's age1: 11\n",
      "student's age2: 12\n",
      "student's age3: 14\n",
      "student's age4: 12\n",
      "student's age5: 9\n",
      "Afternoon:\n",
      "student's age1: 10\n",
      "student's age2: 15\n",
      "student's age3: 14\n",
      "student's age4: 13\n",
      "student's age5: 16\n",
      "student's age6: 15\n",
      "Evenning:\n",
      "student's age1: 19\n",
      "student's age2: 20\n",
      "student's age3: 22\n",
      "student's age4: 18\n",
      "student's age5: 16\n",
      "student's age6: 17\n",
      "student's age7: 18\n",
      "student's age8: 19\n",
      "student's age9: 20\n",
      "student's age10: 16\n",
      "student's age11: 21\n",
      "Morning:  11\n",
      "Afternoon:  13\n",
      "Evening:  18\n"
     ]
    }
   ],
   "source": [
    "# average stundents\n",
    "averageMorning=0\n",
    "averageAfternoon=0\n",
    "averageEvening=0\n",
    "#Morning \n",
    "print(\"Morning:\")\n",
    "for f in range(5):\n",
    "    age=int(input(f\"student's age{f+1}: \"))\n",
    "    averageMorning+=age\n",
    "#afternoon\n",
    "print(\"Afternoon:\")\n",
    "for f in range(6):\n",
    "    age=int(input(f\"student's age{f+1}: \"))\n",
    "    averageAfternoon+=age\n",
    "# evenning\n",
    "print(\"Evenning:\")\n",
    "for f in range(11):\n",
    "    age=int(input(f\"student's age{f+1}: \"))\n",
    "    averageEvening+=age\n",
    "# average\n",
    "averageMorning=averageMorning//5\n",
    "averageAfternoon=averageAfternoon//6\n",
    "averageEvening=averageEvening//11\n",
    "# print data\n",
    "print(\"Morning: \",averageMorning)\n",
    "print(\"Afternoon: \",averageAfternoon)\n",
    "print(\"Evening: \",averageEvening)\n",
    "    "
   ]
  }
 ],
 "metadata": {
  "kernelspec": {
   "display_name": "Python 3",
   "language": "python",
   "name": "python3"
  },
  "language_info": {
   "codemirror_mode": {
    "name": "ipython",
    "version": 3
   },
   "file_extension": ".py",
   "mimetype": "text/x-python",
   "name": "python",
   "nbconvert_exporter": "python",
   "pygments_lexer": "ipython3",
   "version": "3.7.6"
  }
 },
 "nbformat": 4,
 "nbformat_minor": 4
}
