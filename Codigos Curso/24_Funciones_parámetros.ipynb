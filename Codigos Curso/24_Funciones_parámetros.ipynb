{
 "cells": [
  {
   "cell_type": "markdown",
   "metadata": {},
   "source": [
    "# 24 - Funciones: parámetros\n",
    "Vimos en el concepto anterior que una función resuelve una parte de nuestro algoritmo.\n",
    "Tenemos por un lado la declaración de la función por medio de un nombre y el algoritmo de la función seguidamente. Luego para que se ejecute la función la llamamos desde el bloque principal de nuestro programa.\n",
    "\n",
    "Ahora veremos que una función puede tener parámetros para recibir datos. Los parámetros nos permiten comunicarle algo a la función y la hace más flexible.\n",
    "## Ejemplos\n",
    "### Ejemplo 1\n",
    "Confeccionar una aplicación que muestre una presentación en pantalla del programa. Solicite la carga de dos valores y nos muestre la suma. Mostrar finalmente un mensaje de despedida del programa."
   ]
  },
  {
   "cell_type": "code",
   "execution_count": 2,
   "metadata": {},
   "outputs": [
    {
     "name": "stdout",
     "output_type": "stream",
     "text": [
      "welcome to this program!\n",
      "**************************\n",
      "Enter a number1: 3\n",
      "Enter a number2: 4\n",
      "Sum:  7\n",
      "thank you by uses this program\n",
      "**************************\n"
     ]
    }
   ],
   "source": [
    "# function message\n",
    "def message(msg):\n",
    "    print(msg)\n",
    "    print(\"**************************\")\n",
    "\n",
    "# function sum of two values\n",
    "def suma(val1,val2):\n",
    "    v=val1+val2;\n",
    "    print(\"Sum: \",v)\n",
    "\n",
    "# main\n",
    "msg=(\"welcome to this program!\")\n",
    "# call function\n",
    "message(msg)\n",
    "val1=int(input(\"Enter a number1: \"))\n",
    "val2=int(input(\"Enter a number2: \"))\n",
    "# cal function\n",
    "suma(val1,val2)\n",
    "msg=(\"thank you by uses this program\")\n",
    "# call function\n",
    "message(msg)"
   ]
  },
  {
   "cell_type": "markdown",
   "metadata": {},
   "source": [
    "Ahora para resolver este pequeño problema hemos planteado una función llamada `message`  que recibe como parámetro un string (cadena de caracteres) y lo muestra en pantalla.\n",
    "\n",
    "Los parámetros van seguidos del nombre de la función encerrados entre paréntesis (y en el caso de tener más de un parámetro los mismos deben ir separados por coma)"
   ]
  },
  {
   "cell_type": "markdown",
   "metadata": {},
   "source": [
    "### Ejemplo 2\n",
    "Confeccionar una función que reciba tres enteros y nos muestre el mayor de ellos. La carga de los valores hacerlo por teclado."
   ]
  },
  {
   "cell_type": "code",
   "execution_count": 10,
   "metadata": {},
   "outputs": [
    {
     "name": "stdout",
     "output_type": "stream",
     "text": [
      "Enter a number1: -7\n",
      "Enter a number2: -15\n",
      "Enter a number3: -3\n",
      "greater number:  -3\n"
     ]
    }
   ],
   "source": [
    "# function greater of three number\n",
    "def greater_number(v1,v2,v3):\n",
    "    if (v1>=v2 and v1>=v3):\n",
    "        greater=v1\n",
    "    elif(v2>=v1 and v2>=v3):\n",
    "        greater=v2\n",
    "    else:\n",
    "        greater=v3\n",
    "    return greater\n",
    "\n",
    "# main \n",
    "v1=int(input(\"Enter a number1: \"))\n",
    "v2=int(input(\"Enter a number2: \"))\n",
    "v3=int(input(\"Enter a number3: \"))\n",
    "print(\"greater number: \",greater_number(v1,v2,v3))"
   ]
  },
  {
   "cell_type": "markdown",
   "metadata": {},
   "source": [
    "Es importante notar que un programa en Python no ejecuta en forma lineal las funciones definidas en el archivo *.py sino que arranca en la zona del bloque principal. En nuestro ejemplo se llama primero a la función \"cargar()\", esta función no tiene parámetros.\n",
    "\n",
    "La función cargar solicita el ingreso de tres enteros por teclado y llama a la función mostrar_mayor y le pasa a sus parámetros las tres variable enteras valor1, valor2 y valor3.\n",
    "\n",
    "La función mostrar_mayor recibe en sus parámetros v1, v2 y v3 los valores cargados en las variables valor1, valor2 y valor3."
   ]
  },
  {
   "cell_type": "markdown",
   "metadata": {},
   "source": [
    "### Ejemplo 3\n",
    "Desarrollar un programa que permita ingresar el lado de un cuadrado. Luego preguntar si quiere calcular y mostrar su perímetro o su superficie"
   ]
  },
  {
   "cell_type": "code",
   "execution_count": 2,
   "metadata": {
    "scrolled": true
   },
   "outputs": [
    {
     "name": "stdout",
     "output_type": "stream",
     "text": [
      "enter a number for: 1 area , 2 perimeter, 0 stop!: 1\n",
      "Enter a square side: 3\n",
      "Square area:  9\n",
      "*****************************\n",
      "enter a number for: 1 area , 2 perimeter, 0 stop!: 2\n",
      "Enter a square side: 4\n",
      "Square perimeter:  16\n",
      "*****************************\n",
      "enter a number for: 1 area , 2 perimeter, 0 stop!: 0\n",
      "Enter a valid value!!!!\n"
     ]
    }
   ],
   "source": [
    "# function square area\n",
    "# this function receives a paremter(square side)\n",
    "def square_area (side):\n",
    "    area=side*side\n",
    "    print(\"Square area: \", area)\n",
    "    print(\"*****************************\")\n",
    "\n",
    "# function square perimeter\n",
    "# this function receives a parameter (square side)\n",
    "def square_perimeter(side):\n",
    "    perimeter=4*side\n",
    "    print(\"Square perimeter: \",perimeter)\n",
    "    print(\"*****************************\")\n",
    "\n",
    "# main\n",
    "stop=False\n",
    "while stop!=True:\n",
    "    x=int(input(\"enter a number for: 1 area , 2 perimeter, 0 stop!: \"))\n",
    "    if(x==0):\n",
    "        stop=True \n",
    "    if(x==1):\n",
    "        side=int(input(\"Enter a square side: \"))\n",
    "        square_area(side)\n",
    "    elif(x==2):\n",
    "        side=int(input(\"Enter a square side: \"))\n",
    "        square_perimeter(side)        \n",
    "    else:\n",
    "        print(\"Enter a valid value!!!!\")"
   ]
  },
  {
   "cell_type": "markdown",
   "metadata": {},
   "source": [
    "## Problemas propuestos\n",
    "### Problema 1\n",
    "Desarrollar una funcion que reciba un string como parametro y nos muestre la cantidad de vocales. Llamarla desde el bloque principal del programa 3 veces con string distintos"
   ]
  },
  {
   "cell_type": "code",
   "execution_count": 8,
   "metadata": {
    "scrolled": false
   },
   "outputs": [
    {
     "name": "stdout",
     "output_type": "stream",
     "text": [
      "Enter a text: Esto es un texto\n",
      "The number of vowels:  6\n"
     ]
    }
   ],
   "source": [
    "\n",
    "# fuction the number of vowels\n",
    "def vowel_number(cad):\n",
    "    countVowel=0\n",
    "    cad=cad.lower()\n",
    "    for f in range(len(cad)):\n",
    "        if(cad[f]==\"a\" or cad[f]==\"e\" or cad[f]==\"i\" or cad[f]==\"o\" or cad[f]==\"u\"):\n",
    "            countVowel+=1\n",
    "    print(\"The number of vowels: \",countVowel)\n",
    "\n",
    "# main\n",
    "cad=input(\"Enter a text: \")\n",
    "vowel_number(cad)\n",
    "\n",
    "        "
   ]
  },
  {
   "cell_type": "markdown",
   "metadata": {},
   "source": [
    "### Problema 2\n",
    "Confeccionar una función que reciba tres enteros y los muestre ordenados de menor a mayor. En otra función solicitar la carga de 3 enteros por teclado y proceder a llamar a la primer función definida."
   ]
  },
  {
   "cell_type": "code",
   "execution_count": 12,
   "metadata": {},
   "outputs": [
    {
     "name": "stdout",
     "output_type": "stream",
     "text": [
      "Enter a number1: 10\n",
      "Enter a number2: 10\n",
      "Enter a number3: 10\n",
      " 10 - 10 - 10\n"
     ]
    }
   ],
   "source": [
    "# function ordered minor to greater\n",
    "def ordered(v1,v2,v3):\n",
    "    if(v1>v2 and v1>v3):\n",
    "        if(v2>v3):\n",
    "            print(f\"List: {v1} - {v2} - {v3}\")\n",
    "        else:\n",
    "            print(f\"List: {v1} - {v3} - {v2}\")\n",
    "    elif(v2>v1 and v2>v3):\n",
    "        if(v1>v3):\n",
    "            print(f\"List: {v2} - {v1} - {v3}\")\n",
    "        else:\n",
    "            print(f\"List: {v2} - {v3} - {v1}\")\n",
    "    elif(v3>v1 and v3>v2):\n",
    "        if(v1>v2):\n",
    "            print(f\"List: {v3} - {v1} - {v2}\")\n",
    "        else:\n",
    "            print(f\"List: {v1} - {v3} - {v2}\")\n",
    "    else:\n",
    "        print(f\" {v1} - {v2} - {v3}\")\n",
    "\n",
    "# function enter data\n",
    "def enter_values():\n",
    "    v1=int(input(\"Enter a number1: \"))\n",
    "    v2=int(input(\"Enter a number2: \"))\n",
    "    v3=int(input(\"Enter a number3: \"))\n",
    "    ordered(v1,v2,v3)\n",
    "# main\n",
    "enter_values()"
   ]
  }
 ],
 "metadata": {
  "kernelspec": {
   "display_name": "Python 3",
   "language": "python",
   "name": "python3"
  },
  "language_info": {
   "codemirror_mode": {
    "name": "ipython",
    "version": 3
   },
   "file_extension": ".py",
   "mimetype": "text/x-python",
   "name": "python",
   "nbconvert_exporter": "python",
   "pygments_lexer": "ipython3",
   "version": "3.7.6"
  }
 },
 "nbformat": 4,
 "nbformat_minor": 4
}
