{
 "cells": [
  {
   "cell_type": "markdown",
   "metadata": {},
   "source": [
    "# 38 - Indices negativos en listas, tuplas y cadenas de caracteres\n",
    "Hemos visto que para acceder a un elemento de una lista, tupla o cadena de caracteres debemos indicar mediante un subíndice que comienza a numerarse a partir de cero.\n",
    "\n",
    "También hemos visto el concepto anterior que podemos generar otra lista, tupla o cadena de caracteres indicando una porción con el caracter \":\"\n",
    "\n",
    "Ahora veremos que podemos utilizar un valor negativo para acceder a un elemento de la estructura de datos.\n",
    "## Ejemplos\n",
    "### Ejemplo 1"
   ]
  },
  {
   "cell_type": "code",
   "execution_count": 6,
   "metadata": {},
   "outputs": [
    {
     "name": "stdout",
     "output_type": "stream",
     "text": [
      "6\n",
      "5\n",
      "1\n"
     ]
    }
   ],
   "source": [
    "list1=[0,1,2,3,4,5,6]\n",
    "print(list1[-1]) # 6\n",
    "print(list1[-2]) # 5\n",
    "print(list1[-6]) # 1"
   ]
  },
  {
   "cell_type": "markdown",
   "metadata": {},
   "source": [
    "En Python podemos acceder fácilmente al último elemento de la secuencia indicando un subíndice -1:\n",
    "\n",
    "`print(lista1[-1]) # 6`\n",
    "\n",
    "Luego el anteúltimo se accede con la sintaxis:\n",
    "\n",
    "`print(lista1[-2]) # 5`\n",
    "\n",
    "### Ejemplo 2 \n",
    "Confeccionar una función que reciba una palabra y verifique si es capicúa (es decir que se lee igual de izquierda a derecha que de derecha a izquierda)"
   ]
  },
  {
   "cell_type": "code",
   "execution_count": 51,
   "metadata": {
    "scrolled": true
   },
   "outputs": [
    {
     "name": "stdout",
     "output_type": "stream",
     "text": [
      "Is palindrome: False\n",
      "Is palindrome: True\n",
      "Is palindrome: False\n",
      "Is palindrome: True\n"
     ]
    }
   ],
   "source": [
    "# function is palindrome\n",
    "def is_palindrome(cad):\n",
    "    # go to right\n",
    "    r=0 # counter right --> (first value)\n",
    "    # go to left\n",
    "    l=-1 # counter left <--(last value)\n",
    "    palindrome=True\n",
    "    while r<len(cad):\n",
    "        right=cad[r]        \n",
    "        left=cad[l]\n",
    "        # if they are no equals then it is not palindrome\n",
    "        if (right!=left):\n",
    "            return False\n",
    "        # increase counters\n",
    "        r+=1\n",
    "        l-=1\n",
    "    return palindrome  \n",
    "     \n",
    "            \n",
    "        \n",
    " # main     \n",
    "print(\"Is palindrome:\", is_palindrome(\"abcedf\"))\n",
    "print(\"Is palindrome:\", is_palindrome(\"neuquen\"))\n",
    "print(\"Is palindrome:\", is_palindrome(\"casa\"))\n",
    "print(\"Is palindrome:\", is_palindrome(\"reconocer\"))\n"
   ]
  },
  {
   "cell_type": "markdown",
   "metadata": {},
   "source": [
    "Se tiene una funcion que recorre el texto de derecha a izquierda (negativo) y de izquierda a derecha (positivo) al mismo tiempo, comparando caracter por caracter. Si en un caracter no son exactametne iguales, no es un palidromo.\n",
    "\n",
    "## Problemas propuestos\n",
    "### Problema 1\n",
    "Cargar una cadena de caracteres por teclado. Mostrar la cadena del final al principio utilizando subíndices negativos.Confeccionar un programa con las siguientes funciones:\n"
   ]
  },
  {
   "cell_type": "code",
   "execution_count": 4,
   "metadata": {},
   "outputs": [
    {
     "name": "stdout",
     "output_type": "stream",
     "text": [
      "Enter a text: recuerdo\n",
      "odreucer"
     ]
    }
   ],
   "source": [
    "# function print reverse (right to left)\n",
    "def text_print_right_to_left(text):\n",
    "    i=-1\n",
    "    while i>=len(text)*-1:\n",
    "        print(text[i],end=\"\")\n",
    "        # decrease counter\n",
    "        i-=1\n",
    "\n",
    "text_print_right_to_left(input(\"Enter a text: \")) "
   ]
  },
  {
   "cell_type": "markdown",
   "metadata": {},
   "source": [
    "### Problema 2\n",
    "Confeccionar un programa con las siguientes funciones:\n",
    "1. Cargar una lista con 5 palabras.\n",
    "2. Intercambiar la primer palabra con la última.\n",
    "3. Imprimir la lista"
   ]
  },
  {
   "cell_type": "code",
   "execution_count": 9,
   "metadata": {},
   "outputs": [
    {
     "name": "stdout",
     "output_type": "stream",
     "text": [
      "Enter a text1 of 5: First\n",
      "Enter a text2 of 5: Second\n",
      "Enter a text3 of 5: Third\n",
      "Enter a text4 of 5: Four\n",
      "Enter a text5 of 5: Five\n",
      "***********************************\n",
      "['First', 'Second', 'Third', 'Four', 'Five']\n",
      "***********************************\n",
      "['Five', 'Second', 'Third', 'Four', 'First']\n"
     ]
    }
   ],
   "source": [
    "# enter list\n",
    "def text_enter_list():\n",
    "    listText=[]\n",
    "    for f in range(5):\n",
    "        t=input(f\"Enter a text{f+1} of 5: \")\n",
    "        listText.append(t)\n",
    "    return listText\n",
    "  \n",
    "# function exchange the first word with the last\n",
    "def text_exchange_1_last(text):\n",
    "    auxTxt=text[0]\n",
    "    text[0]=text[len(text)-1]\n",
    "    # or the lasth component\n",
    "    #text[0]=text[-1]\n",
    "    text[len(text)-1]=auxTxt\n",
    "    # or \n",
    "    #text[-1]=auxTxt\n",
    "    \n",
    "#main    \n",
    "lText=text_enter_list()\n",
    "print(\"*\"*35)\n",
    "print(lText)\n",
    "print(\"*\"*35)\n",
    "text_exchange_1_last(lText)\n",
    "print(lText)\n"
   ]
  },
  {
   "cell_type": "markdown",
   "metadata": {},
   "source": [
    "**Nota:** Recordemos que en python cuando le pasamos una variable a una función, si se modifica en dicha función tambien se modifica en la variable que hemos pasado (original)"
   ]
  }
 ],
 "metadata": {
  "kernelspec": {
   "display_name": "Python 3",
   "language": "python",
   "name": "python3"
  },
  "language_info": {
   "codemirror_mode": {
    "name": "ipython",
    "version": 3
   },
   "file_extension": ".py",
   "mimetype": "text/x-python",
   "name": "python",
   "nbconvert_exporter": "python",
   "pygments_lexer": "ipython3",
   "version": "3.7.6"
  }
 },
 "nbformat": 4,
 "nbformat_minor": 4
}
