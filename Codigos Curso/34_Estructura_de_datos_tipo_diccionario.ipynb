{
 "cells": [
  {
   "cell_type": "markdown",
   "metadata": {},
   "source": [
    "# 34 - Estructura de datos tipo diccionario\n",
    "Hasta ahora hemos presentado dos estructuras fundamentales de datos en Python: listas y tuplas. Ahora presentaremos y comenzaremos a utilizar la estructura de datos tipo diccionario.\n",
    "\n",
    "**La estructura de datos tipo diccionario utiliza una clave para acceder a un valor**. El subíndice puede ser un entero, un float, un string, una tupla etc. (en general cualquier tipo de dato inmutable)\n",
    "\n",
    "Podemos relacionarlo con conceptos que conocemos:\n",
    "\n",
    "- Un diccionario tradicional que conocemos podemos utilizar un diccionario de Python para representarlo. La clave sería la palabra y el valor sería la definición de dicha palabra.\n",
    "- Una agenda personal también la podemos representar como un diccionario. La fecha sería la clave y las actividades de dicha fecha sería el valor.\n",
    "- Un conjunto de usuarios de un sitio web podemos almacenarlo en un diccionario. El nombre de usuario sería la clave y como valor podríamos almacenar su mail, clave, fechas de login etc.\n",
    "\n",
    "Hay muchos problemas de la realidad que se pueden representar mediante un diccionario de Python.\n",
    "\n",
    "Recordemos que las listas son mutables y las tuplas inmutables. Un diccionario es una estructura de datos mutable es decir podemos agregar elementos, modificar y borrar.\n",
    "\n",
    "`Definición de un diccionario por asignación.\n",
    "productos={\"manzanas\":39, \"peras\":32, \"lechuga\":17}\n",
    "print(productos)`\n",
    "\n",
    "Como vemos debemos encerrar entre llaves los elementos separados por coma. A cada elementos debemos indicar del lado izquierdo del caracter : la clave y al lado derecho el valor asignado para dicha clave. Por ejemplo para la clave \"peras\" tenemos asociado el valor entero 32."
   ]
  },
  {
   "cell_type": "code",
   "execution_count": 18,
   "metadata": {},
   "outputs": [
    {
     "name": "stdout",
     "output_type": "stream",
     "text": [
      "{'manzanas': 39, 'peras': 32, 'lechuga': 17}\n",
      "3\n",
      "True\n"
     ]
    },
    {
     "ename": "KeyError",
     "evalue": "2",
     "output_type": "error",
     "traceback": [
      "\u001b[1;31m---------------------------------------------------------------------------\u001b[0m",
      "\u001b[1;31mKeyError\u001b[0m                                  Traceback (most recent call last)",
      "\u001b[1;32m<ipython-input-18-ef74c041cf57>\u001b[0m in \u001b[0;36m<module>\u001b[1;34m\u001b[0m\n\u001b[0;32m      4\u001b[0m \u001b[0mprint\u001b[0m\u001b[1;33m(\u001b[0m\u001b[1;34m\"manzanas\"\u001b[0m \u001b[1;32min\u001b[0m \u001b[0mproductos\u001b[0m\u001b[1;33m)\u001b[0m\u001b[1;33m\u001b[0m\u001b[1;33m\u001b[0m\u001b[0m\n\u001b[0;32m      5\u001b[0m \u001b[0mproductos\u001b[0m\u001b[1;33m[\u001b[0m\u001b[1;34m\"peras\"\u001b[0m\u001b[1;33m]\u001b[0m\u001b[1;33m\u001b[0m\u001b[1;33m\u001b[0m\u001b[0m\n\u001b[1;32m----> 6\u001b[1;33m \u001b[0mprint\u001b[0m\u001b[1;33m(\u001b[0m\u001b[0mproductos\u001b[0m\u001b[1;33m[\u001b[0m\u001b[1;36m2\u001b[0m\u001b[1;33m]\u001b[0m\u001b[1;33m)\u001b[0m\u001b[1;33m\u001b[0m\u001b[1;33m\u001b[0m\u001b[0m\n\u001b[0m",
      "\u001b[1;31mKeyError\u001b[0m: 2"
     ]
    }
   ],
   "source": [
    "productos={\"manzanas\":39, \"peras\":32,\"lechuga\":17}\n",
    "print(productos)\n",
    "print(len(productos))\n",
    "print(\"manzanas\" in productos)\n",
    "productos[\"peras\"]\n",
    "\n"
   ]
  },
  {
   "cell_type": "markdown",
   "metadata": {},
   "source": [
    "## Ejemplos\n",
    "### Ejemplo 1 \n",
    "En el bloque principal del programa definir un diccionario que almacene los nombres de paises como clave y como valor la cantidad de habitantes. Implementar una función para mostrar cada clave y valor."
   ]
  },
  {
   "cell_type": "code",
   "execution_count": 19,
   "metadata": {
    "scrolled": true
   },
   "outputs": [
    {
     "name": "stdout",
     "output_type": "stream",
     "text": [
      "Colombia: 40000\n",
      "Perú: 35000\n",
      "EE.UU: 300000\n",
      "Chile: 28000\n"
     ]
    }
   ],
   "source": [
    "# function print country and pupulation\n",
    "# key=name\n",
    "def country_print_data(country):\n",
    "    for name in country:\n",
    "        print(name,country[name],sep=\": \")\n",
    "# main\n",
    "# dictionary name country and population\n",
    "country={\"Colombia\":40000,\"Perú\":35000,\"EE.UU\":300000,\"Chile\":28000}\n",
    "country_print_data(country) \n"
   ]
  },
  {
   "cell_type": "markdown",
   "metadata": {},
   "source": [
    "En el bloque principal de nuestro programa inicializamos un diccionario con cuatro elementos y lo pasamos a la función imprimir:\n",
    "\n",
    "`country={\"Colombia\":40000,\"Perú\":35000,\"EE.UU\":300000,\"Chile\":28000}\n",
    "country_print_data(country) `\n",
    "\n",
    "Mediante el ciclo repetitivo for podemos acceder sucesivamente a las claves almacenadas en el diccionario y luego conociendo la clave podemos acceder al valor de forma similar a las listas indicando como subíndice la clave:\n",
    "\n",
    "`# key=name\n",
    "def country_print_data(country):\n",
    "    for name in country:\n",
    "        print(name,country[name],sep=\": \") `\n",
    "        \n",
    "### Ejemplo 2\n",
    "Crear un diccionario que permita almacenar 5 artículos, utilizar como clave el nombre de productos y como valor el precio del mismo.\n",
    "Desarrollar además las funciones de:\n",
    "\n",
    "1. Imprimir en forma completa el diccionario\n",
    "2. Imprimir solo los artículos con precio superior a 100."
   ]
  },
  {
   "cell_type": "code",
   "execution_count": 22,
   "metadata": {},
   "outputs": [
    {
     "name": "stdout",
     "output_type": "stream",
     "text": [
      "Enter a product name1 of 5: Zanahoria\n",
      "Enter Zanahoria's price: $20\n",
      "Enter a product name2 of 5: Azucar\n",
      "Enter Azucar's price: $100\n",
      "Enter a product name3 of 5: Arroz\n",
      "Enter Arroz's price: $150\n",
      "Enter a product name4 of 5: Aceite\n",
      "Enter Aceite's price: $200\n",
      "Enter a product name5 of 5: Frijoles\n",
      "Enter Frijoles's price: $60\n",
      "*************************\n",
      "Zanahoria: 20\n",
      "Azucar: 100\n",
      "Arroz: 150\n",
      "Aceite: 200\n",
      "Frijoles: 60\n",
      "*************************\n",
      "Podruct's with price greater than 100: \n",
      "Arroz - Aceite - "
     ]
    }
   ],
   "source": [
    "# function to create a dictionary of product and price\n",
    "# return dictinary {\"name\":price}\n",
    "def dictionary_create():\n",
    "    # dictionary empty\n",
    "    product={}\n",
    "    # enter data\n",
    "    for f in range(5):\n",
    "        # input data\n",
    "        name=input(f\"Enter a product name{f+1} of 5: \")\n",
    "        price=int(input(f\"Enter {name}'s price: $\"))\n",
    "        # add dictionary key and value\n",
    "        # key->name value->price\n",
    "        product[name]=price\n",
    "    return product\n",
    "\n",
    "# print list products\n",
    "def dictionary_print_list(product):\n",
    "    # key prod\n",
    "    for prod in product:\n",
    "        print(prod,product[prod],sep=\": \")\n",
    "        \n",
    "# print products greater than 100\n",
    "def dictionary_print_greater(product):\n",
    "    for prod in product:\n",
    "        if(product[prod]>100):\n",
    "            print(prod,end=\" - \")\n",
    "\n",
    "\n",
    "\n",
    "# main \n",
    "# dicitionary of products\n",
    "product=dictionary_create()\n",
    "print(\"*\"*25)\n",
    "dictionary_print_list(product)\n",
    "print(\"*\"*25)\n",
    "print(\"Podruct's with price greater than 100: \")\n",
    "dictionary_print_greater(product)\n",
    "        \n",
    "    "
   ]
  },
  {
   "cell_type": "markdown",
   "metadata": {},
   "source": [
    "Para agregar elementos a un diccionario procedemos a asignar el valor e indicamos como subíndice la clave:\n",
    "\n",
    "`name=input(f\"Enter a product name{f+1} of 5: \")\n",
    "        price=int(input(f\"Enter {name}'s price: \"))\n",
    "        # add dictionary key and value\n",
    "        # key->name value->price\n",
    "        product[name]=price `\n",
    " \n",
    "#### **Nota:** Si ya existe el nombre de producto en el diccionario se modifica el valor para esa clave.\n",
    "\n",
    "### Operador in con diccionarios\n",
    "Para consultar si una clave se encuentra en el diccionario podemos utilizar el operador in:\n",
    "\n",
    "`if clave in diccionario:\n",
    "    print(diccionario[clave])`\n",
    "\n",
    "Esto muy conveniente hacerlo ya que si no existe la clave produce un error al tratar de accederlo:\n",
    "`print(diccionario[clave])`\n"
   ]
  },
  {
   "cell_type": "code",
   "execution_count": 25,
   "metadata": {},
   "outputs": [
    {
     "data": {
      "text/plain": [
       "True"
      ]
     },
     "execution_count": 25,
     "metadata": {},
     "output_type": "execute_result"
    }
   ],
   "source": [
    "productos={\"manzanas\":39, \"peras\":32,\"lechuga\":17}\n",
    "\"manzanas\" in productos"
   ]
  },
  {
   "cell_type": "markdown",
   "metadata": {},
   "source": [
    "### Ejemplo 3\n",
    "Desarrollar una aplicación que nos permita crear un diccionario ingles/castellano. La clave es la palabra en ingles y el valor es la palabra en castellano.\n",
    "Crear las siguientes funciones:\n",
    "1. Cargar el diccionario.\n",
    "2. Listado completo del diccionario.\n",
    "3. Ingresar por teclado una palabra en ingles y si existe en el diccionario mostrar su traducción."
   ]
  },
  {
   "cell_type": "code",
   "execution_count": 30,
   "metadata": {},
   "outputs": [
    {
     "name": "stdout",
     "output_type": "stream",
     "text": [
      "Enter the number of words: 7\n",
      "Enter a word: word\n",
      "Enter word meaning: palabra\n",
      "Enter a word: English\n",
      "Enter English meaning: inglés\n",
      "Enter a word: find\n",
      "Enter find meaning: Encontro\n",
      "Enter a word: work\n",
      "Enter work meaning: trabajo\n",
      "Enter a word: eat\n",
      "Enter eat meaning: comer\n",
      "Enter a word: drink\n",
      "Enter drink meaning: tomar\n",
      "Enter a word: sell\n",
      "Enter sell meaning: vender\n",
      "*************************\n",
      "word: palabra\n",
      "English: inglés\n",
      "find: Encontro\n",
      "work: trabajo\n",
      "eat: comer\n",
      "drink: tomar\n",
      "sell: vender\n",
      "*************************\n",
      "enter word to search: Sell\n",
      "word no found\n",
      "enter word to search: sell\n",
      "sell: vender\n",
      "enter word to search: work\n",
      "work: trabajo\n",
      "enter word to search: buscar\n",
      "word no found\n",
      "enter word to search: vender\n",
      "word no found\n",
      "enter word to search: english\n",
      "word no found\n",
      "enter word to search: English\n",
      "English: inglés\n",
      "enter word to search: -1\n",
      "word no found\n"
     ]
    }
   ],
   "source": [
    "# function create dictionary (English/spanish))\n",
    "def dictionary_word_create():\n",
    "    # number of words \n",
    "    n=int(input(\"Enter the number of words: \"))\n",
    "    # dictionarey\n",
    "    dictWord={}\n",
    "    for f in range(n):\n",
    "        word=input(\"Enter a word: \")\n",
    "        meaningWord=input(f\"Enter {word} meaning: \")\n",
    "        # add dictionary (key)=value\n",
    "        dictWord[word]=meaningWord\n",
    "    return dictWord\n",
    "\n",
    "#print dictionary word\n",
    "def dictionary_word_print(dictWord):\n",
    "    for word in dictWord:\n",
    "        print(word,dictWord[word], sep=\": \")\n",
    "\n",
    "# search word\n",
    "def dictionary_word_search(dictWord):\n",
    "    stop=False\n",
    "    while(stop!=True):\n",
    "        # word to search\n",
    "        w=input(\"enter word to search: \")\n",
    "        # search in dictionary\n",
    "        if w in dictWord:\n",
    "            # it was found\n",
    "            print(w,dictWord[w],sep=\": \")\n",
    "        else: \n",
    "            # it was not found\n",
    "            print(\"word no found\")\n",
    "        x=input(\"Do you want to enter another word: [s/n]\") \n",
    "        if(x.lower==\"s\" or x.lower==\"si\"):\n",
    "            stop=True\n",
    "            \n",
    "\n",
    "# main\n",
    "dictWord=dictionary_word_create()\n",
    "print(\"*\"*25)\n",
    "dictionary_word_print(dictWord)\n",
    "print(\"*\"*25)\n",
    "dictionary_word_search(dictWord)\n",
    "\n",
    "\n",
    "        \n",
    "        \n",
    "        "
   ]
  },
  {
   "cell_type": "markdown",
   "metadata": {},
   "source": [
    "Lo nuevo aparece cuando queremos consultar la traducción de una palabra.\n",
    "Se solicita al operador que ingrese la palabra en ingles que desconoce y mediante el operador in verificamos si dicha palabra se encuentra dentro del diccionario, en caso afirmativo procedemos a mostrar el valor del diccionario, es decir la palabra en castellano\n",
    "\n",
    "### Problema 1\n",
    "Crear un diccionario en Python que defina como clave el número de documento de una persona y como valor un string con su nombre.\n",
    "Desarrollar las siguientes funciones:\n",
    "1. Cargar por teclado los datos de 4 personas.\n",
    "2. Listado completo del diccionario.\n",
    "3. Consulta del nombre de una persona ingresando su número de documento."
   ]
  },
  {
   "cell_type": "code",
   "execution_count": 1,
   "metadata": {},
   "outputs": [
    {
     "name": "stdout",
     "output_type": "stream",
     "text": [
      "Enter people's name: pepe\n",
      "Enter pepe's ID: 1111\n",
      "Enter people's name: Juan\n",
      "Enter Juan's ID: 1234\n",
      "Enter people's name: Jualia\n",
      "Enter Jualia's ID: 0000\n",
      "Enter people's name: Adriana\n",
      "Enter Adriana's ID: 4321\n",
      "Enter people's name: Lucia\n",
      "Enter Lucia's ID: 2222\n",
      "*************************\n",
      "People data:\n",
      "pepe: 1111\n",
      "Juan: 1234\n",
      "Jualia: 0\n",
      "Adriana: 4321\n",
      "Lucia: 2222\n",
      "*************************\n",
      "Enter a document to search: 222\n",
      "document was not found\n",
      "Do you want search  another document?[y/n]: y\n",
      "Enter a document to search: 2222\n",
      "Lucia: 2222\n",
      "Do you want search  another document?[y/n]: y\n",
      "Enter a document to search: 4321\n",
      "Adriana: 4321\n",
      "Do you want search  another document?[y/n]: 0\n",
      "Enter a document to search: 0\n",
      "Jualia: 0\n",
      "Do you want search  another document?[y/n]: n\n"
     ]
    }
   ],
   "source": [
    "# funcion create dictionary people data\n",
    "# key= document, value= name\n",
    "def people_enter_data():\n",
    "    # dictionary\n",
    "    dictPeopleData={}\n",
    "    for f in range(5):\n",
    "        name=input(\"Enter people's name: \")\n",
    "        document=int(input(f\"Enter {name}'s ID: \"))\n",
    "        # add dictionary        \n",
    "        dictPeopleData[document]=name\n",
    "    return dictPeopleData\n",
    "\n",
    "# function print people data\n",
    "def people_print_data(dictPeopleData):\n",
    "    # print data\n",
    "    for document in dictPeopleData:\n",
    "        print(dictPeopleData[document],document,sep=\": \")\n",
    "\n",
    "# function search people with Id\n",
    "def people_search(dictPeopleData):\n",
    "    stop=False\n",
    "    # search person\n",
    "    while(stop!=True):\n",
    "        # document to seaerc\n",
    "        doc=int(input(\"Enter a document to search: \"))\n",
    "        # dictionary\n",
    "        if doc in dictPeopleData:\n",
    "            # it was found\n",
    "            print(dictPeopleData[doc],doc,sep=\": \")\n",
    "        else:\n",
    "            print(\"document was not found\")\n",
    "        cont=input(\"Do you want search  another document?[y/n]: \")\n",
    "        # stop or no\n",
    "        if(cont.lower()=='n' or cont.lower()==\"no\"):\n",
    "            stop=True\n",
    "        \n",
    "        \n",
    "#main\n",
    "dictPeopleData=people_enter_data()\n",
    "print(\"*\"*25)\n",
    "print(\"People data:\")\n",
    "people_print_data(dictPeopleData)\n",
    "print(\"*\"*25)\n",
    "people_search(dictPeopleData)\n",
    "        "
   ]
  }
 ],
 "metadata": {
  "kernelspec": {
   "display_name": "Python 3",
   "language": "python",
   "name": "python3"
  },
  "language_info": {
   "codemirror_mode": {
    "name": "ipython",
    "version": 3
   },
   "file_extension": ".py",
   "mimetype": "text/x-python",
   "name": "python",
   "nbconvert_exporter": "python",
   "pygments_lexer": "ipython3",
   "version": "3.7.6"
  }
 },
 "nbformat": 4,
 "nbformat_minor": 4
}
