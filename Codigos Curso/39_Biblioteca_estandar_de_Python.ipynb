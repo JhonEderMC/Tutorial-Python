{
 "cells": [
  {
   "cell_type": "markdown",
   "metadata": {},
   "source": [
    "# 39 - Biblioteca estándar de Python\n",
    "Todos los conceptos que hemos visto hasta ahora los hemos resuelto utilizando solo la sintaxis que nos provee Python y un conjunto de funciones básicas que se incluyen automáticamente como por ejemplo son print, range, len etc.\n",
    "\n",
    "En Python se incluye una biblioteca extra de funciones, variables, clases etc. que nos facilitan la resolución de problemas en una gran diversidad de áreas como matemáticas, estadísticas, compresión de datos, internet, interfaces visuales etc.\n",
    "\n",
    "Veremos en este concepto como se importa un módulo de la biblioteca estándar y como se accede a su funcionalidad.\n",
    "\n",
    "## Ejemplos\n",
    "### Ejemplo 1\n",
    "Confeccionar un programa que simule tirar dos dados y luego muestre los valores que salieron. Imprimir un mensaje que ganó si la suma de los mismos es igual a 7.\n",
    "\n",
    "Para resolver este problema requerimos un algoritmo para que se genere un valor aleatorio entre 1 y 6. Como la generación de valores aleatorios es un tema muy frecuente la biblioteca estándar de Python incluye un módulo que nos resuelve la generación de valores aleatorios."
   ]
  },
  {
   "cell_type": "code",
   "execution_count": 3,
   "metadata": {},
   "outputs": [
    {
     "name": "stdout",
     "output_type": "stream",
     "text": [
      "dice1: 4\n",
      "dice2: 5\n",
      "you lose\n"
     ]
    }
   ],
   "source": [
    "import random\n",
    "# random numbers (number between 1 to 6)\n",
    "dice1=random.randint(1,6)\n",
    "dice2=random.randint(1,6)\n",
    "print(\"dice1:\",dice1)\n",
    "print(\"dice2:\",dice2)\n",
    "# result dices\n",
    "result=dice1+dice2\n",
    "# if is equal 7\n",
    "if(result==7):\n",
    "    print(\"you win\")\n",
    "else:\n",
    "    print(\"you lose\")\n",
    "\n"
   ]
  },
  {
   "cell_type": "markdown",
   "metadata": {},
   "source": [
    "Para importar un módulo de la biblioteca estándar de Python utilizamos la palabra clave import seguida por el nombre del módulo que necesitamos importar:\n",
    "\n",
    "`import random`\n",
    "\n",
    "Como dijimos la biblioteca estándar de Python se instala junto con Python.\n",
    "\n",
    "Para acceder a todas las funciones contenidas en el módulo random es necesario primero importar el módulo y luego dentro del algoritmo de nuestro programa anteceder primero el nombre del módulo y seguidamente la función que queremos acceder: Si disponemos un nombre de módulo inexistente aparecerá un error.\n",
    "\n",
    "`dice=random.randint(1,6)`\n",
    "\n",
    "Si tratamos de acceder directamente al nombre de la función sin disponer el nombre del módulo se produce un error\n",
    "Entonces la sintaxis para acceder a la funcionalidad de un módulo requiere que dispongamos primero el nombre del módulo y seguidamente el nombre de la función.\n",
    "\n",
    "Como podemos imaginar la función randint retorna un valor aleatorio comprendido entre los dos valores indicados en los parámetros.\n",
    "\n",
    "### Ejemplo 2\n",
    "Desarrollar un programa que cargue una lista con 10 enteros.\n",
    "Cargar los valores aleatorios con números enteros comprendidos entre 0 y 1000.\n",
    "Mostrar la lista por pantalla.\n",
    "Luego mezclar los elementos de la lista y volver a mostrarlo."
   ]
  },
  {
   "cell_type": "code",
   "execution_count": 7,
   "metadata": {},
   "outputs": [
    {
     "name": "stdout",
     "output_type": "stream",
     "text": [
      "***********************************\n",
      "Aleatory list: [377, 332, 489, 319, 755, 964, 849, 401, 727, 495]\n",
      "***********************************\n",
      "Shuffle list: [964, 495, 401, 377, 319, 489, 755, 849, 727, 332]\n"
     ]
    }
   ],
   "source": [
    "import random\n",
    "#function create list with ten aleatory numbers\n",
    "def numb_creat_aleatory_list():\n",
    "    numbList=[]\n",
    "    for f in range(10):\n",
    "        num=random.randint(0,1000)\n",
    "        numbList.append(num)\n",
    "    return numbList\n",
    "\n",
    "# function suffle the list\n",
    "def numb_suffle_list(numb):\n",
    "    return random.shuffle(numb)\n",
    "\n",
    "# main\n",
    "# create list\n",
    "numb=numb_creat_aleatory_list()\n",
    "print(\"*\"*35)\n",
    "# print list\n",
    "print(\"Aleatory list:\",numb)\n",
    "print(\"*\"*35)\n",
    "numb_suffle_list(numb)\n",
    "print(\"Shuffle list:\",numb)\n",
    "\n",
    "        "
   ]
  },
  {
   "cell_type": "markdown",
   "metadata": {},
   "source": [
    "No hay ningún problema de llamar a las funciones de un módulo dentro de una función propia siempre y cuando indiquemos el import respectivo:\n",
    "\n",
    "`def numb_creat_aleatory_list():\n",
    "    numbList=[]\n",
    "    for f in range(10):\n",
    "        num=random.randint(0,1000)\n",
    "        numbList.append(num)\n",
    "    return numbList `\n",
    "    \n",
    "El módulo random cuenta con otra función llamada shuffle que le pasamos como parámetro una lista y nos la devuelve con los elementos mezclados (pensemos esto nos podría servir si estamos desarrollando un juego de naipes y necesitamos mezclarlos)\n",
    "\n",
    "`def numb_suffle_list(numb):\n",
    "    return random.shuffle(numb)`\n",
    " \n",
    " En la documentación oficial de Python podemos consultar todas las funciones que nos provee el módulo random [random.](https://docs.python.org/3/library/random.html)\n",
    "\n",
    "Y en general podemos también consultar todos los módulos de la [Biblioteca estándar de Python.](https://docs.python.org/3/library/index.html)\n",
    " \n",
    " ## Problemas propuestos \n",
    " ### Problema 1\n",
    "Confeccionar un programa que genere un número aleatorio entre 1 y 100 y no se muestre.\n",
    "El operador debe tratar de adivinar el número ingresado.\n",
    "Cada vez que ingrese un número mostrar un mensaje \"Gano\" si es igual al generado o \"El número aleatorio es mayor\" o \"El número aleatorio es menor\".\n",
    "Mostrar cuando gana el jugador cuantos intentos necesitó."
   ]
  },
  {
   "cell_type": "code",
   "execution_count": 11,
   "metadata": {
    "scrolled": true
   },
   "outputs": [
    {
     "name": "stdout",
     "output_type": "stream",
     "text": [
      "enter a number: 50\n",
      "The aleatory number is greater\n",
      "do you want to keep trying?[y/n]y\n",
      "enter a number: 80\n",
      "The aleatory number is greater\n",
      "do you want to keep trying?[y/n]y\n",
      "enter a number: 90\n",
      "The aleatory number is less\n",
      "do you want to keep trying?[y/n]y\n",
      "enter a number: 89\n",
      "The aleatory number is less\n",
      "do you want to keep trying?[y/n]y\n",
      "enter a number: 88\n",
      "The aleatory number is less\n",
      "do you want to keep trying?[y/n]y\n",
      "enter a number: 87\n",
      "The aleatory number is less\n",
      "do you want to keep trying?[y/n]y\n",
      "enter a number: 86\n",
      "The aleatory number is less\n",
      "do you want to keep trying?[y/n]y\n",
      "enter a number: 85\n",
      "The aleatory number is less\n",
      "do you want to keep trying?[y/n]y\n",
      "enter a number: 84\n",
      "The aleatory number is less\n",
      "do you want to keep trying?[y/n]y\n",
      "enter a number: 83\n",
      "You win\n",
      "do you want to keep trying?[y/n]n\n",
      "the number of attempts was: 10\n"
     ]
    }
   ],
   "source": [
    "import random\n",
    "\n",
    "# game\n",
    "numbAleatory=random.randint(1,100)\n",
    "#counter\n",
    "count=0\n",
    "stop=False\n",
    "while stop!=True:\n",
    "    #number aleatory    \n",
    "    numbPlayer=int(input(\"enter a number: \"))\n",
    "     # a try\n",
    "    if(numbAleatory==numbPlayer): \n",
    "        count+=1\n",
    "        print(\"You win\")\n",
    "        stop=True\n",
    "    elif(numbAleatory>numbPlayer):\n",
    "        count+=1\n",
    "        print(\"The aleatory number is greater\")\n",
    "    elif(numbAleatory<numbPlayer):\n",
    "        count+=1\n",
    "        print(\"The aleatory number is less\")   \n",
    "    # exit or not (Condition)\n",
    "    cond=input(\"do you want to keep trying?[y/n]\")\n",
    "    if(cond.lower()==\"n\" or cond.lower()==\"no\"):\n",
    "        stop=True\n",
    "#number of intentos\n",
    "print(\"the number of attempts was:\",count)"
   ]
  },
  {
   "cell_type": "markdown",
   "metadata": {},
   "source": [
    "### Problema 2\n",
    "Confeccionar una programa con las siguientes funciones:\n",
    "1. Generar una lista con 4 elementos enteros aleatorios comprendidos entre 1 y 3. Agregar un quinto elemento con un 1.\n",
    "2. Controlar que el primer elemento de la lista sea un 1, en el caso que haya un 2 o 3 mezclar la lista y volver a controlar hasta que haya un 1.\n",
    "3. Imprimir la lista."
   ]
  },
  {
   "cell_type": "code",
   "execution_count": 3,
   "metadata": {},
   "outputs": [
    {
     "name": "stdout",
     "output_type": "stream",
     "text": [
      "***********************************\n",
      "List:  [2, 1, 3, 2, 1]\n",
      "***********************************\n",
      "List:  [1, 2, 2, 3, 1]\n"
     ]
    }
   ],
   "source": [
    "# import librarys\n",
    "import random\n",
    "\n",
    "# function to create random list of numbers \n",
    "# return list\n",
    "def number_aleatory_1_3():\n",
    "    # list numbers\n",
    "    listN=[]\n",
    "    # four numbers\n",
    "    for f in range(4):\n",
    "        numb=random.randint(1,3)\n",
    "        listN.append(numb)\n",
    "    # add five elemente, number one\n",
    "    listN.append(1)\n",
    "    # return list\n",
    "    return listN\n",
    "\n",
    "# shuffle listNumbers\n",
    "def number_shuffle_diferent_1(listN):\n",
    "    # if the firts element is diferent of one\n",
    "    while (listN[0]!=1):\n",
    "        # mixed (shuffle)\n",
    "        random.shuffle(listN)\n",
    "    return listN\n",
    "\n",
    "# main\n",
    "# crate list\n",
    "number=number_aleatory_1_3()\n",
    "print(\"*\"*35)\n",
    "print(\"List: \",number)\n",
    "print(\"*\"*35)\n",
    "print(\"List: \",number_shuffle_diferent_1(number))    \n",
    "        \n",
    "        \n",
    "    "
   ]
  }
 ],
 "metadata": {
  "kernelspec": {
   "display_name": "Python 3",
   "language": "python",
   "name": "python3"
  },
  "language_info": {
   "codemirror_mode": {
    "name": "ipython",
    "version": 3
   },
   "file_extension": ".py",
   "mimetype": "text/x-python",
   "name": "python",
   "nbconvert_exporter": "python",
   "pygments_lexer": "ipython3",
   "version": "3.7.6"
  }
 },
 "nbformat": 4,
 "nbformat_minor": 4
}
