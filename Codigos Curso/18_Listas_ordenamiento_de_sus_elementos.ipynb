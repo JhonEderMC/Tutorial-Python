{
 "cells": [
  {
   "cell_type": "markdown",
   "metadata": {},
   "source": [
    "# 18 - Listas: ordenamiento de sus elementos\n",
    "Otro algoritmo muy común que debe conocer y entender un programador es el ordenamiento de una lista de datos.\n",
    "\n",
    "El ordenamiento de una lista se logra intercambiando las componentes de manera que:\n",
    "lista[0] <= lista[1] <= lista[2] etc.\n",
    "\n",
    "El contenido de la componente lista[0] sea menor o igual al contenido de la componente lista[1] y así sucesivamente.\n",
    "Si se cumple lo dicho anteriormente decimos que la lista está ordenado de menor a mayor. Igualmente podemos ordenar una lista de mayor a menor.\n",
    "\n",
    "Tengamos en cuenta que la estructura de datos lista en Python es mutable, eso significa que podemos modificar sus elementos por otros.\n",
    "\n",
    "Se puede ordenar tanto listas con componentes de tipo int, float como cadena de caracteres. En este último caso el ordenamiento es alfabético.\n",
    "\n",
    "## Ejemplos\n",
    "### Ejemplo 1\n",
    "Se debe crear y cargar una lista donde almacenar 5 sueldos. Desplazar el valor mayor de la lista a la última posición."
   ]
  },
  {
   "cell_type": "code",
   "execution_count": 2,
   "metadata": {
    "scrolled": true
   },
   "outputs": [
    {
     "name": "stdout",
     "output_type": "stream",
     "text": [
      "Enter Salary1: $500\n",
      "Enter Salary2: $400\n",
      "Enter Salary3: $600\n",
      "Enter Salary4: $300\n",
      "Enter Salary5: $100\n",
      "Salary:  [500.0, 400.0, 600.0, 300.0, 100.0]\n",
      "Salary [400.0, 500.0, 300.0, 100.0, 600.0]\n"
     ]
    }
   ],
   "source": [
    "# enter salary\n",
    "listSalary=[]\n",
    "for f in range(5):\n",
    "    listSalary.apperend(float(input(f\"Enter Salary{f+1}: $\")))\n",
    "print(\"Salary: \",listSalary)\n",
    "# ordered (N-1 iterations)\n",
    "for f in range (5-1):\n",
    "    if(listSalary[f]>listSalary[f+1]):\n",
    "        auxSal=listSalary[f]\n",
    "        listSalary[f]=listSalary[f+1]\n",
    "        listSalary[f+1]=auxSal\n",
    "print(\"Salary\",listSalary)\n",
    "        "
   ]
  },
  {
   "cell_type": "markdown",
   "metadata": {},
   "source": [
    "La primera aproximación para llegar en el próximo problema al ordenamiento completo de una lista tiene por objetivo analizar los intercambios de elementos dentro de la lista y dejar el mayor en la última posición.\n",
    "\n",
    "El algoritmo consiste en comparar si la primera componente es mayor a la segunda, en caso que la condición sea verdadera, intercambiamos los contenidos de las componentes.\n",
    "\n",
    "Vamos a suponer que se ingresan los siguientes valores por teclado:\n",
    "\n",
    "`1200\n",
    "750\n",
    "820\n",
    "550\n",
    "490`\n",
    "\n",
    "En este ejemplo: ¿es 1200 mayor a 750? La respuesta es verdadera, por lo tanto intercambiamos el contenido de la componente 0 con el de la componente 1.\n",
    "Luego comparamos el contenido de la componente 1 con el de la componente 2: ¿Es 1200 mayor a 820?\n",
    "La respuesta es verdadera entonces intercambiamos.\n",
    "Si hay 5 componentes hay que hacer 4 comparaciones, por eso el for se repite 4 veces.\n",
    "Generalizando: si la lista tiene N componentes hay que hacer N-1 comparaciones.\n",
    "\n",
    "Cuando\t\tx = 0\t\tx = 1\t\tx  = 2\t\tx = 3\n",
    "\t\t\n",
    "\t\t750\t\t750\t\t750\t\t750\n",
    "\t\t1200\t\t820\t\t820\t\t820\n",
    "\t\t820\t\t1200\t\t550\t\t550\n",
    "\t\t550\t\t550\t\t1200\t\t490\n",
    "\t\t490\t\t490\t\t490\t\t1200\n",
    "        \n",
    "Podemos ver cómo el valor más grande de la lista desciende a la última componente. Empleamos una variable auxiliar (aux) para el proceso de intercambio\n",
    "\n",
    "Al salir del for el contenido de la lista es la siguiente:\n",
    "\n",
    "`750\n",
    "820\n",
    "550\n",
    "490\n",
    "1200`\n",
    "\n",
    "Analizando el algoritmo podemos comprobar que el elemento mayor de la lista se ubica ahora en el último lugar.\n",
    "Podemos volver a ejecutar el programa y veremos que siempre el elemento mayor queda al final.\n",
    "\n",
    "Pero con un único for no se ordena una lista. Solamente está ordenado el último elemento de la lista.\n",
    "\n",
    "### Ejemplo 2\n",
    "Se debe crear y cargar una lista donde almacenar 5 sueldos. Ordenar de menor a mayor la lista.\n"
   ]
  },
  {
   "cell_type": "code",
   "execution_count": 5,
   "metadata": {},
   "outputs": [
    {
     "name": "stdout",
     "output_type": "stream",
     "text": [
      "Enter Salary1: $750\n",
      "Enter Salary2: $1200\n",
      "Enter Salary3: $820\n",
      "Enter Salary4: $550\n",
      "Enter Salary5: $490\n",
      "Salary:  [750.0, 1200.0, 820.0, 550.0, 490.0]\n",
      "Salary [490.0, 550.0, 750.0, 820.0, 1200.0]\n"
     ]
    }
   ],
   "source": [
    "# enter salary\n",
    "listSalary=[]\n",
    "for f in range(5):\n",
    "    listSalary.append(float(input(f\"Enter Salary{f+1}: $\")))\n",
    "print(\"Salary: \",listSalary)\n",
    "# ordered (N-1 iterations)\n",
    "for k in range (4):\n",
    "    for f in range(4-k):        \n",
    "        if(listSalary[f]>listSalary[f+1]):\n",
    "            auxSal=listSalary[f]\n",
    "            listSalary[f]=listSalary[f+1]\n",
    "            listSalary[f+1]=auxSal\n",
    "print(\"Salary\",listSalary)"
   ]
  },
  {
   "cell_type": "markdown",
   "metadata": {},
   "source": [
    "Ahora bien como vimos en el problema anterior con los 4 elementos que nos quedan podemos hacer el mismo proceso visto anteriormente, con lo cual quedará ordenado otro elemento de la lista. Este proceso lo repetiremos hasta que quede ordenado por completo la lista.\n",
    "\n",
    "Como debemos repetir el mismo algoritmo podemos englobar todo el bloque en otra estructura repetitiva.\n",
    "\n",
    "Realicemos una prueba del siguiente algoritmo:\n",
    "\n",
    "`Cuando k = 0\n",
    "\t\tx = 0\t\tx = 1\t\tx = 2\t\tx = 3\n",
    "\t\t750\t\t750\t\t750\t\t750\n",
    "\t\t1200\t\t820\t\t820\t\t820\n",
    "\t\t820\t\t1200\t\t550\t\t550\n",
    "\t\t550\t\t550\t\t1200\t\t490\n",
    "\t\t490\t\t490\t\t490\t\t1200\n",
    "        `\n",
    "\t\t\n",
    "`Cuando k = 1\n",
    "\t\tx = 0\t\tx = 1\t\tx = 2\t\tx = 3\n",
    "\t\t750\t\t750\t\t750\t\t750\t\n",
    "\t\t820\t\t550\t\t550\t\t550\n",
    "\t\t550\t\t820\t\t490\t\t490\n",
    "\t\t490\t\t490\t\t820\t\t820\n",
    "\t\t1200\t\t1200\t\t1200\t\t1200`\n",
    "\n",
    "`Cuando k = 2\n",
    "\t\tx = 0\t\tx = 1\t\tx  = 2\t\tx = 3\n",
    "\t\t550\t\t550\t\t550\t\t550\n",
    "\t\t750\t\t490\t\t490\t\t490\n",
    "\t\t490\t\t750\t\t750\t\t750\n",
    "\t\t820\t\t820\t\t820\t\t820\n",
    "\t\t1200\t\t1200\t\t1200\t\t1200`\n",
    "\n",
    "\n",
    "`Cuando k = 3\n",
    "\t\tx = 0\t\tx = 1\t\tx  = 2\t\tx = 3\n",
    "\t\t490\t\t490\t\t490\t\t490\n",
    "\t\t550\t\t550\t\t550\t\t550\n",
    "\t\t750\t\t750\t\t750\t\t750\n",
    "\t\t820\t\t820\t\t820\t\t820\n",
    "\t\t1200\t\t1200\t\t1200\t\t1200`\n",
    "        \n",
    "\n",
    "¿Porque repetimos 4 veces el for externo?\n",
    "Como sabemos cada vez que se repite en forma completa el for interno queda ordenada una componente de la lista. A primera vista diríamos que deberíamos repetir el for externo la cantidad de componentes de la lista, en este ejemplo la lista sueldos tiene 5 componentes.\n",
    "\n",
    "_Si observamos, cuando quedan dos elementos por ordenar, al ordenar uno de ellos queda el otro automáticamente ordenado (podemos imaginar que si tenemos una lista con 2 elementos no se requiere el for externo, porque este debería repetirse una única vez)_\n",
    "\n",
    "Una última consideración a este ALGORITMO de ordenamiento es que los elementos que se van ordenando continuamos comparándolos.\n",
    "\n",
    "Ejemplo: En la primera ejecución del for interno el valor 1200 queda ubicado en la posición 4 de la lista. En la segunda ejecución comparamos si el 820 es mayor a 1200, lo cual seguramente será falso.\n",
    "Podemos concluir que la primera vez debemos hacer para este ejemplo 4 comparaciones, en la segunda ejecución del for interno debemos hacer 3 comparaciones y en general debemos ir reduciendo en uno la cantidad de comparaciones.\n",
    "Si bien el algoritmo planteado funciona, un algoritmo más eficiente, que se deriva del anterior es el plantear un for interno con la siguiente estructura:\n",
    "\n",
    "Es decir restarle el valor del contador del for externo (4-k)\n",
    "\n",
    "## Problemas propuestos\n",
    "### Problema 1\n",
    "Crear una lista y almacenar los nombres de 5 países. Ordenar alfabéticamente la lista e imprimirla."
   ]
  },
  {
   "cell_type": "code",
   "execution_count": 9,
   "metadata": {},
   "outputs": [
    {
     "name": "stdout",
     "output_type": "stream",
     "text": [
      "Enter a contry1: Uruguay\n",
      "Enter a contry2: Colombia\n",
      "Enter a contry3: Argentina\n",
      "Enter a contry4: Chile\n",
      "Enter a contry5: Brasil\n",
      "Countries:  ['Uruguay', 'Colombia', 'Argentina', 'Chile', 'Brasil']\n",
      "Countries Ordered:  ['Argentina', 'Brasil', 'Chile', 'Colombia', 'Uruguay']\n"
     ]
    }
   ],
   "source": [
    "# list countries\n",
    "listCountry=[]\n",
    "# enter country (N-1 iterations)\n",
    "for f in range(5):\n",
    "    listCountry.append(input(f\"Enter a contry{f+1}: \"))\n",
    "print(\"Countries: \",listCountry)\n",
    "# ordered, n-1-k iterations\n",
    "for k in range(4):\n",
    "    for f in range(4-k):\n",
    "        if(listCountry[f]>listCountry[f+1]):\n",
    "            auxCountry=listCountry[f]\n",
    "            listCountry[f]=listCountry[f+1]\n",
    "            listCountry[f+1]=auxCountry\n",
    "print(\"Countries Ordered: \",listCountry)\n",
    "\n",
    "    \n"
   ]
  },
  {
   "cell_type": "markdown",
   "metadata": {},
   "source": [
    "### Problema 2\n",
    "Solicitar por teclado la cantidad de empleados que tiene la empresa. Crear y cargar una lista con todos los sueldos de dichos empleados. Imprimir la lista de sueldos ordenamos de menor a mayor."
   ]
  },
  {
   "cell_type": "code",
   "execution_count": 14,
   "metadata": {},
   "outputs": [
    {
     "name": "stdout",
     "output_type": "stream",
     "text": [
      "Enter the amount of employee: 6\n",
      "Enter employee salary1: $600\n",
      "Enter employee salary2: $500\n",
      "Enter employee salary3: $400\n",
      "Enter employee salary4: $1200\n",
      "Enter employee salary5: $200\n",
      "Enter employee salary6: $700\n",
      "Salary:  [600.0, 500.0, 400.0, 1200.0, 200.0, 700.0]\n",
      "Salary:  [200.0, 400.0, 500.0, 600.0, 700.0, 1200.0]\n"
     ]
    }
   ],
   "source": [
    "# number of empleoyer\n",
    "n=int(input(\"Enter the amount of employee: \"))\n",
    "# employer salary\n",
    "listSalary=[]\n",
    "# enter salary\n",
    "for f in range(n):\n",
    "    listSalary.append(float(input(f\"Enter employee salary{f+1}: $\")))\n",
    "print(\"Salary: \",listSalary)\n",
    "\n",
    "# ordered minor to greater\n",
    "for k in range(n-1):\n",
    "    for f in range(n-1-k):\n",
    "        if(listSalary[f]>listSalary[f+1]):\n",
    "            auxSalary=listSalary[f]\n",
    "            listSalary[f]=listSalary[f+1]\n",
    "            listSalary[f+1]=auxSalary\n",
    "print(\"Salary: \",listSalary)"
   ]
  },
  {
   "cell_type": "markdown",
   "metadata": {},
   "source": [
    "### Problema 3\n",
    "Cargar una lista con 5 elementos enteros. Ordenarla de menor a mayor y mostrarla por pantalla, luego ordenar de mayor a menor e imprimir nuevamente."
   ]
  },
  {
   "cell_type": "code",
   "execution_count": 15,
   "metadata": {},
   "outputs": [
    {
     "name": "stdout",
     "output_type": "stream",
     "text": [
      "Enter a number: 200\n",
      "Enter a number: -50\n",
      "Enter a number: 0\n",
      "Enter a number: 100\n",
      "Enter a number: 40\n",
      "list:  [200, -50, 0, 100, 40]\n",
      "list ordered minor to greater:  [-50, 0, 40, 100, 200]\n",
      "list ordered greater to minor:  [200, 100, 40, 0, -50]\n"
     ]
    }
   ],
   "source": [
    "# list integer\n",
    "listInteger=[]\n",
    "# enter data\n",
    "for f in range(5):\n",
    "    listInteger.append(int (input(\"Enter a number: \")))\n",
    "print(\"list: \",listInteger)\n",
    "    \n",
    "# ordered minor to greater\n",
    "for k in range(4):\n",
    "    for f in range(4-k):\n",
    "        if(listInteger[f]>listInteger[f+1]):\n",
    "            auxNumb=listInteger[f]\n",
    "            listInteger[f]=listInteger[f+1]\n",
    "            listInteger[f+1]=auxNumb\n",
    "print(\"list ordered minor to greater: \",listInteger)\n",
    "    \n",
    "# ordered greater to minor \n",
    "for k in range(4):\n",
    "    for f in range(4-k):\n",
    "        if(listInteger[f]<listInteger[f+1]):\n",
    "            auxNumb=listInteger[f]\n",
    "            listInteger[f]=listInteger[f+1]\n",
    "            listInteger[f+1]=auxNumb\n",
    "print(\"list ordered greater to minor: \",listInteger)"
   ]
  }
 ],
 "metadata": {
  "kernelspec": {
   "display_name": "Python 3",
   "language": "python",
   "name": "python3"
  },
  "language_info": {
   "codemirror_mode": {
    "name": "ipython",
    "version": 3
   },
   "file_extension": ".py",
   "mimetype": "text/x-python",
   "name": "python",
   "nbconvert_exporter": "python",
   "pygments_lexer": "ipython3",
   "version": "3.7.6"
  }
 },
 "nbformat": 4,
 "nbformat_minor": 4
}
