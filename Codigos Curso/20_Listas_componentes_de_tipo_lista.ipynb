{
 "cells": [
  {
   "cell_type": "markdown",
   "metadata": {},
   "source": [
    "# 20 - Listas: componentes de tipo lista\n",
    "Hasta ahora hemos trabajado con listas cuyos componentes son de tipo:\n",
    "\n",
    " `enteros\n",
    "  flotantes\n",
    "  cadenas de caracteres`\n",
    "\n",
    "Ejemplo\n",
    "\n",
    "  `notas=[8, 6, 8]\n",
    "   alturas=[1.73, 1.55, 1.92]\n",
    "   dias=[\"lunes\", \"martes\", \"miércoles\"]`\n",
    "\n",
    "Pero lo que la hace tan flexible a esta estructura de datos es que podemos almacenar componentes de tipo LISTA.\n",
    "\n",
    "   `notas=[[4,5], [6,9], [7,3]]`\n",
    "\n",
    "En la línea anterior hemos definido una lista de tres elementos de tipo lista, el primer elemento de la lista es otra lista de dos elementos de tipo entero. De forma similar los otros dos elementos de la lista notas son listas de dos elementos de tipo entero.\n",
    "\n",
    "## Ejemplos\n",
    "### Ejemplo 1\n",
    "Crear una lista por asignación. La lista tiene que tener cuatro elementos. Cada elemento debe ser una lista de 3 enteros.\n",
    "Imprimir sus elementos accediendo de diferentes modos."
   ]
  },
  {
   "cell_type": "code",
   "execution_count": 10,
   "metadata": {},
   "outputs": [
    {
     "name": "stdout",
     "output_type": "stream",
     "text": [
      "len:  3\n",
      "\n",
      "Full list:\n",
      "[[1, 2, 3], [4, 5, 6], [7, 8, 9]]\n",
      "-------------------------------\n",
      "\n",
      "Print full sublist: \n",
      "[1, 2, 3]\n",
      "[4, 5, 6]\n",
      "[7, 8, 9]\n",
      "-------------------------------\n",
      "\n",
      "print first element each sublist: \n",
      "1\n",
      "4\n",
      "7\n",
      "-------------------------------\n",
      "\n",
      "print first sublist:\n",
      "1\n",
      "2\n",
      "3\n",
      "-------------------------------\n",
      "\n",
      "Print the last sublist: \n",
      "7\n",
      "8\n",
      "9\n",
      "-------------------------------\n",
      "\n",
      "Print full list: \n",
      "1\n",
      "2\n",
      "3\n",
      "4\n",
      "5\n",
      "6\n",
      "7\n",
      "8\n",
      "9\n"
     ]
    }
   ],
   "source": [
    "# list\n",
    "list1=[[1,2,3],[4,5,6],[7,8,9]]\n",
    "print(\"len: \",len(list1))\n",
    "# print full list\n",
    "print(\"\\nFull list:\")\n",
    "print(list1)\n",
    "print(\"-------------------------------\")\n",
    "\n",
    "# print full sublist\n",
    "print(\"\\nPrint full sublist: \")\n",
    "for x in list1:\n",
    "    print(x)\n",
    "print(\"-------------------------------\")\n",
    "\n",
    "# print first element each sublist\n",
    "print(\"\\nprint first element each sublist: \")\n",
    "for f in range (len(list1)):\n",
    "    print(list1[f][0])\n",
    "print(\"-------------------------------\")  \n",
    "\n",
    "# print first sublist\n",
    "print(\"\\nprint first sublist:\")\n",
    "for f in range (len(list1[0])):\n",
    "    print(list1[0][f])\n",
    "print(\"-------------------------------\")      \n",
    "\n",
    "# print the last sublits:\n",
    "print(\"\\nPrint the last sublist: \")\n",
    "for f in range (len(list1[2])):\n",
    "    print(list1[2][f])\n",
    "print(\"-------------------------------\")      \n",
    "\n",
    "# print full list\n",
    "print(\"\\nPrint full list: \")\n",
    "for f in range (len(list1)):\n",
    "    for i in range(len(list1[f])):\n",
    "                print(list1[f][i])\n"
   ]
  },
  {
   "cell_type": "markdown",
   "metadata": {},
   "source": [
    "Al principio puede complicarse trabajar con listas de listas pero a medida que practiquemos esta estructura de datos veremos que podemos desarrollar algoritmos más complejos.\n",
    "\n",
    "Para definir y crear por asignación una lista de listas tenemos:\n",
    "\n",
    "`lista=[[1,2,3], [4,5,6], [7,8,9], [10,11,12]]`\n",
    "\n",
    "Queda claro que el primer elemento de lista es:\n",
    "\n",
    "`[1,2,3]`\n",
    "\n",
    "El segundo elemento de la variable lista es (y así sucesivamente):\n",
    "\n",
    "`[4,5,6]`\n",
    "\n",
    "La función print si le pasamos como parámetro el nombre de la lista nos muestra la lista completa por pantalla:\n",
    "\n",
    "print(lista)\n",
    "Aparece:\n",
    "\n",
    "`[[1, 2, 3], [4, 5, 6], [7, 8, 9], [10, 11, 12]]`\n",
    "\n",
    "Cuando pasamos a la función print el primer elemento de la lista:\n",
    "\n",
    "`print(lista[0])`\n",
    "\n",
    "Nos muestra la lista contenida en la primer componente de la lista principal:\n",
    "\n",
    "`[1, 2, 3]`\n",
    "\n",
    "Si queremos acceder al primer entero almacenado en la lista contenida en la primer componente de la lista principal:\n",
    "\n",
    "`print(lista[0][0])`\n",
    "Nos muestra:\n",
    "\n",
    "`1`\n",
    "\n",
    "Para acceder mediante un for a todos los elementos de la lista contenida en la primer componente de la lista principal debemos codificar:\n",
    "\n",
    "`for x in range(len(lista[0])):\n",
    "    print(lista[0][x]) `\n",
    "\n",
    "Recordemos que la función len retorna la cantidad de elementos que contiene una lista. En este caso le pasamos como parámetro `lista[0]` que hace referencia a la primer componente de la lista principal.\n",
    "\n",
    "El resultado de `len(lista[0])` es un 3 que es la cantidad de elementos que tiene la lista contenida en la primer componente de la lista principal.\n",
    "\n",
    "Cada ciclo del for accedemos a: `lista[0][0]` cuando x vale 0, `lista[0][1]` cuando x vale 1 y `lista[0][2]` cuando x vale 2.\n",
    "\n",
    "Mediante este ciclo podemos acceder a cada elemento y procesarlo.\n",
    "\n",
    "Por último con el ciclo anidado k podemos acceder a cada elemento de la lista principal y mediante el for interno acceder a cada elemento entero de las listas contenidas en la lista principal:\n",
    "\n",
    "`for k in range(len(lista)):\n",
    "    for x in range(len(lista[k])):\n",
    "        print(lista[k][x])`\n",
    "\n",
    "### Ejemplo 2\n",
    "Crear una lista por asignación. La lista tiene que tener 2 elementos. Cada elemento debe ser una lista de 5 enteros.\n",
    "Calcular y mostrar la suma de cada lista contenida en la lista principal."
   ]
  },
  {
   "cell_type": "code",
   "execution_count": 7,
   "metadata": {},
   "outputs": [
    {
     "name": "stdout",
     "output_type": "stream",
     "text": [
      "Sum1:  5\n",
      "Suma2:  10\n",
      "--------------------------\n",
      "Sum1:  5\n",
      "Suma2:  10\n",
      "--------------------------\n",
      "Sum:  15\n"
     ]
    }
   ],
   "source": [
    "# list\n",
    "list2=[[1,1,1,1,1], [2,2,2,2,2]]\n",
    "sum1=list2[0][0]+list2[0][1]+list2[0][2]++list2[0][3]+list2[0][4]\n",
    "sum2=list2[1][0]+list2[1][1]+list2[1][2]+list2[1][3]+list2[1][4]\n",
    "print(\"Sum1: \",sum1)\n",
    "print(\"Suma2: \",sum2)\n",
    "print(\"--------------------------\")\n",
    "\n",
    "# with for\n",
    "sum1=0\n",
    "sum2=0\n",
    "for f in range(len(list2[0])):\n",
    "    sum1+=list2[0][f]\n",
    "    sum2+=list2[1][f]\n",
    "print(\"Sum1: \",sum1)\n",
    "print(\"Suma2: \",sum2)\n",
    "print(\"--------------------------\")\n",
    "sumall=0\n",
    "for f in range(len(list2)):\n",
    "    for k in range(len(list2[f])):\n",
    "                   sumall+=list2[f][k]\n",
    "print(\"Sum: \",sumall)"
   ]
  },
  {
   "cell_type": "markdown",
   "metadata": {},
   "source": [
    "La última forma planteada es utilizar una estructura repetitiva anidada que suma cada fila, el for externo (f) se repite 2 veces que es el tamaño de la variable \"list2\":"
   ]
  },
  {
   "cell_type": "markdown",
   "metadata": {},
   "source": [
    "###  Ejemplo 3\n",
    "Crear una lista por asignación. La lista tiene que tener 5 elementos. Cada elemento debe ser una lista, la primera lista tiene que tener un elemento, la segunda dos elementos, la tercera tres elementos y así sucesivamente.\n",
    "Sumar todos los valores de las listas."
   ]
  },
  {
   "cell_type": "code",
   "execution_count": 17,
   "metadata": {},
   "outputs": [
    {
     "name": "stdout",
     "output_type": "stream",
     "text": [
      "Sum:  35\n"
     ]
    }
   ],
   "source": [
    "# list\n",
    "list3=[[1], [1,2], [1,2,3], [1,2,3,4], [1,2,3,4,5]]\n",
    "# acumulate\n",
    "suma=0\n",
    "# external for\n",
    "for k in range(len(list3)):\n",
    "    #internal for\n",
    "    for f in range (len(list3[k])):\n",
    "        suma+=list3[k][f]\n",
    "print(\"Sum: \",suma)\n"
   ]
  },
  {
   "cell_type": "markdown",
   "metadata": {},
   "source": [
    "## Problemas\n",
    "### Problema 1\n",
    "Se tiene la siguiente lista:\n",
    "\n",
    "`lista=[[100,7,85,8], [4,8,56,25], [67,89,23,1], [78,56]]`\n",
    "\n",
    "Imprimir la lista. Luego fijar con el valor cero todos los elementos mayores a 50 del primer elemento de \"lista\".\n",
    "Volver a imprimir la lista."
   ]
  },
  {
   "cell_type": "code",
   "execution_count": 18,
   "metadata": {},
   "outputs": [
    {
     "name": "stdout",
     "output_type": "stream",
     "text": [
      "List:  [[4, 12, 5, 66], [14, 6, 25], [3, 4, 5, 67, 89, 23, 1], [78, 56]]\n",
      "new list:  [[4, 12, 5, 0], [14, 6, 25], [3, 4, 5, 0, 0, 23, 1], [0, 0]]\n"
     ]
    }
   ],
   "source": [
    "list4=[[4,12,5,66], [14,6,25], [3,4,5,67,89,23,1], [78,56]]\n",
    "print(\"List: \",list4)\n",
    "for k in range(len(list4)):\n",
    "    for f in range(len(list4[k])):\n",
    "        if(list4[k][f]>50):\n",
    "            list4[k][f]=0\n",
    "print(\"new list: \",list4)\n",
    "    "
   ]
  },
  {
   "cell_type": "markdown",
   "metadata": {},
   "source": [
    "### Problema 2\n",
    "Se tiene la siguiente lista:\n",
    "\n",
    "`lista=[[4,12,5,66], [14,6,25], [3,4,5,67,89,23,1], [78,56]]`\n",
    "\n",
    "Imprimir la lista. Luego fijar con el valor cero todos los elementos mayores a 10 contenidos en todos los elementos de la variable \"lista\".\n",
    "Volver a imprimir la lista."
   ]
  },
  {
   "cell_type": "code",
   "execution_count": 19,
   "metadata": {
    "scrolled": true
   },
   "outputs": [
    {
     "name": "stdout",
     "output_type": "stream",
     "text": [
      "List:  [[4, 12, 5, 66], [14, 6, 25], [3, 4, 5, 67, 89, 23, 1], [78, 56]]\n",
      "new list:  [[4, 0, 5, 0], [0, 6, 0], [3, 4, 5, 0, 0, 0, 1], [0, 0]]\n"
     ]
    }
   ],
   "source": [
    "list4=[[4,12,5,66], [14,6,25], [3,4,5,67,89,23,1], [78,56]]\n",
    "print(\"List: \",list4)\n",
    "for k in range(len(list4)):\n",
    "    for f in range(len(list4[k])):\n",
    "        if(list4[k][f]>10):\n",
    "            list4[k][f]=0\n",
    "print(\"new list: \",list4)"
   ]
  },
  {
   "cell_type": "markdown",
   "metadata": {},
   "source": [
    "### Problema 3\n",
    "Crear una lista por asignación con la cantidad de elementos de tipo lista que usted desee. Luego imprimir el último elemento de la lista principal."
   ]
  },
  {
   "cell_type": "code",
   "execution_count": 57,
   "metadata": {},
   "outputs": [
    {
     "name": "stdout",
     "output_type": "stream",
     "text": [
      "1\n",
      "Last:  56\n"
     ]
    }
   ],
   "source": [
    "list4=[[4,12,5,66], [14,6,25], [3,4,5,67,89,23,1], [78,56]]\n",
    "#The last component\n",
    "print(len(list4[len(list4)-1])-1)\n",
    "print(\"Last: \",list4[len(list4)-1][len(list4[len(list4)-1])-1])"
   ]
  }
 ],
 "metadata": {
  "kernelspec": {
   "display_name": "Python 3",
   "language": "python",
   "name": "python3"
  },
  "language_info": {
   "codemirror_mode": {
    "name": "ipython",
    "version": 3
   },
   "file_extension": ".py",
   "mimetype": "text/x-python",
   "name": "python",
   "nbconvert_exporter": "python",
   "pygments_lexer": "ipython3",
   "version": "3.7.6"
  }
 },
 "nbformat": 4,
 "nbformat_minor": 4
}
