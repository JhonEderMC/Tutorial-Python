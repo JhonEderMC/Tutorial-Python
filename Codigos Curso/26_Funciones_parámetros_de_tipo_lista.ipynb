{
 "cells": [
  {
   "cell_type": "markdown",
   "metadata": {},
   "source": [
    "# 26 - Funciones: parámetros de tipo lista\n",
    "Hemos visto que si trabajamos con programación estructurada debemos dividir nuestro problema en trocitos y plantear algoritmos que resuelvan cada uno de los trozos.\n",
    "\n",
    "La división en Python se hace implementando funciones. La comunicación entre estas funciones se produce mediante el envío de datos a través de los parámetros y el valor que retorna la función.\n",
    "\n",
    "Hasta ahora hemos resuelto problemas enviando datos simples como enteros, float y cadenas de caracteres. En este concepto veremos que una función puede recibir tanto datos simples como estructuras de datos.\n",
    "La estructura de datos vista hasta este momento y que podemos enviarle a una función es la lista.\n",
    "\n",
    "## Ejemplos\n",
    "### Ejemplo 1\n",
    "Definir por asignación una lista de enteros en el bloque principal del programa. Elaborar tres funciones, la primera recibe la lista y retorna la suma de todos sus elementos, la segunda recibe la lista y retorna el mayor valor y la última recibe la lista y retorna el menor"
   ]
  },
  {
   "cell_type": "code",
   "execution_count": 5,
   "metadata": {},
   "outputs": [
    {
     "name": "stdout",
     "output_type": "stream",
     "text": [
      "about list:  [0, 1, 2, 3, 4, 5, 6, 7, 8, 9, 10]\n",
      "suma:  55\n",
      "greater:  10\n",
      "minor:  0\n"
     ]
    }
   ],
   "source": [
    "# function sum elements of list\n",
    "def suma_list(lista):\n",
    "    suma=0\n",
    "    for f in range(len(lista)):\n",
    "        suma+=lista[f]\n",
    "    return suma\n",
    "\n",
    "# greater value of list\n",
    "def greater_list(lista):\n",
    "    greater=lista[0]\n",
    "    for f in range(1,len(lista)):\n",
    "        if(lista[f]>greater):\n",
    "            greater=lista[f]\n",
    "            \n",
    "    return greater\n",
    "\n",
    "# minor value of list\n",
    "def minor_list(lista):\n",
    "    minor=lista[0]\n",
    "    for f in range(1,len(lista)):\n",
    "        if(lista[f]<minor):\n",
    "            minor=lista[f]\n",
    "    return minor\n",
    "\n",
    "# main\n",
    "list1=[0,1,2,3,4,5,6,7,8,9,10]\n",
    "print(\"about list: \",list1)\n",
    "print(\"suma: \",suma_list(list1))\n",
    "print(\"greater: \",greater_list(list1))\n",
    "print(\"minor: \",minor_list(list1))"
   ]
  },
  {
   "cell_type": "markdown",
   "metadata": {},
   "source": [
    "### Ejemplo 2\n",
    "Crear y cargar por teclado en el bloque principal del programa una lista de 5 enteros. Implementar una función que imprima el mayor y el menor valor de la lista."
   ]
  },
  {
   "cell_type": "code",
   "execution_count": 13,
   "metadata": {},
   "outputs": [
    {
     "name": "stdout",
     "output_type": "stream",
     "text": [
      "Enter a number1: -10\n",
      "Enter a number2: 0\n",
      "Enter a number3: 10\n",
      "Enter a number4: 2\n",
      "Enter a number5: 7\n",
      "about list:  [-10, 0, 10, 2, 7]\n",
      "suma:  9\n",
      "greater:  10\n",
      "minor:  -10\n"
     ]
    }
   ],
   "source": [
    "# main\n",
    "# empty list\n",
    "list1=[]\n",
    "for f in range(5):\n",
    "    list1.append(int(input(f\"Enter a number{f+1}: \")))\n",
    "# print\n",
    "print(\"about list: \",list1)\n",
    "print(\"suma: \",suma_list(list1))\n",
    "print(\"greater: \",greater_list(list1))\n",
    "print(\"minor: \",minor_list(list1))"
   ]
  },
  {
   "cell_type": "markdown",
   "metadata": {},
   "source": [
    "## Problemas \n",
    "### Problema 1\n",
    "Crear una lista de enteros por asignación. Definir una función que reciba una lista de enteros y un segundo parámetro de tipo entero. Dentro de la función mostrar cada elemento de la lista multiplicado por el valor entero enviado.\n"
   ]
  },
  {
   "cell_type": "code",
   "execution_count": 19,
   "metadata": {
    "scrolled": true
   },
   "outputs": [
    {
     "name": "stdout",
     "output_type": "stream",
     "text": [
      "Enter a number: 3\n",
      "original:  [3, 7, 8, 10, 2]\n",
      "lista  multipliate for 3:  [9, 21, 24, 30, 6]\n"
     ]
    }
   ],
   "source": [
    "# function multplication list\n",
    "# parameter(lista, number)\n",
    "def mult_list(lista,number):\n",
    "    m=[]\n",
    "    for f in range(len(lista)):\n",
    "        m.append(lista[f]*number)\n",
    "    return m\n",
    "# main\n",
    "lista=[3, 7, 8, 10, 2]\n",
    "number=int(input(\"Enter a number: \"))\n",
    "print(\"original: \",lista)\n",
    "print(f\"lista  multipliate for {number}: \",mult_list(lista,number))"
   ]
  },
  {
   "cell_type": "markdown",
   "metadata": {},
   "source": [
    "### Problema 2\n",
    "Desarrollar una función que reciba una lista de string y nos retorne el que tiene más caracteres. Si hay más de uno con dicha cantidad de caracteres debe retornar el que tiene un valor de componente más baja.\n",
    "En el bloque principal iniciamos por asignación la lista de string:\n",
    "`\n",
    "palabras=[\"enero\", \"febrero\", \"marzo\", \"abril\", \"mayo\", \"junio\"]\n",
    "print(\"Palabra con mas caracteres:\",mascaracteres(palabras))`"
   ]
  },
  {
   "cell_type": "code",
   "execution_count": 25,
   "metadata": {},
   "outputs": [
    {
     "name": "stdout",
     "output_type": "stream",
     "text": [
      "greater:  febrero\n"
     ]
    }
   ],
   "source": [
    "# function list character\n",
    "def list_character(lista):\n",
    "    greater=lista[0]\n",
    "    for f in range(1,len(lista)):\n",
    "        if(len(lista[f])>len(greater)):\n",
    "            greater=lista[f]\n",
    "    return greater\n",
    "\n",
    "# main\n",
    "palabras=[\"enero\", \"febrero\", \"marzo\", \"abril\", \"mayo\", \"junio\"]\n",
    "print(\"greater: \",list_character(palabras))\n",
    "            "
   ]
  },
  {
   "cell_type": "markdown",
   "metadata": {},
   "source": [
    "### Problema 3\n",
    "Definir una lista de enteros por asignación en el bloque principal. Llamar a una función que reciba la lista y nos retorne el producto de todos sus elementos. Mostrar dicho producto en el bloque principal de nuestro programa"
   ]
  },
  {
   "cell_type": "code",
   "execution_count": 38,
   "metadata": {},
   "outputs": [
    {
     "name": "stdout",
     "output_type": "stream",
     "text": [
      "lista:  [3, 7, 8, 10, 2]\n",
      "mulstiplicaiton:  3360\n"
     ]
    }
   ],
   "source": [
    "# multiplication all elements of list\n",
    "def mult_elemnt_list(lista):\n",
    "    m=1\n",
    "    for number in lista:\n",
    "        m*=number\n",
    "    return m\n",
    "\n",
    "# main\n",
    "lista=[3, 7, 8, 10, 2]\n",
    "print(\"lista: \",lista)\n",
    "print(\"mulstiplicaiton: \",mult_elemnt_list(lista))\n"
   ]
  }
 ],
 "metadata": {
  "kernelspec": {
   "display_name": "Python 3",
   "language": "python",
   "name": "python3"
  },
  "language_info": {
   "codemirror_mode": {
    "name": "ipython",
    "version": 3
   },
   "file_extension": ".py",
   "mimetype": "text/x-python",
   "name": "python",
   "nbconvert_exporter": "python",
   "pygments_lexer": "ipython3",
   "version": "3.7.6"
  }
 },
 "nbformat": 4,
 "nbformat_minor": 4
}
