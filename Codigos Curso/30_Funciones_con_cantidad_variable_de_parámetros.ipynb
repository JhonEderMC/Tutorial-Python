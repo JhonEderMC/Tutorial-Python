{
 "cells": [
  {
   "cell_type": "markdown",
   "metadata": {},
   "source": [
    "# 30 - Funciones: con cantidad variable de parámetros\n",
    "Otra variante en la declaración de una función en Python es la definición de una cantidad variable de parámetros.\n",
    "\n",
    "Para definir una cantidad variable de parámetros debemos anteceder el caracter asterísco (*) al último parámetro de la función.\n",
    "\n",
    "## Ejemplos\n",
    "### Ejemplo 1\n",
    "Confeccionar una función que reciba entre 2 y n (siendo n = 2,3,4,5,6 etc.) valores enteros, retornar la suma de dichos parámetros."
   ]
  },
  {
   "cell_type": "code",
   "execution_count": 2,
   "metadata": {
    "scrolled": false
   },
   "outputs": [
    {
     "name": "stdout",
     "output_type": "stream",
     "text": [
      "Sum: 1+2:   3\n",
      "Sum: 1+2+3+4:   10\n",
      "Sum: 1+2+3+4+5+6+7:   28\n",
      "Sum: 1+2+3+4+5+6+7+8+9+10:   55\n"
     ]
    }
   ],
   "source": [
    "# function sum variables\n",
    "# two parameters as minimum\n",
    "def suma(v1,v2,*lista):\n",
    "    # acumulate\n",
    "    suma=v1+v2\n",
    "    # sum rest of values\n",
    "    for f in range(len(lista)):\n",
    "        suma+=lista[f]\n",
    "    return suma\n",
    "\n",
    "# main\n",
    "print(\"Sum: 1+2:  \",suma(1,2))\n",
    "print(\"Sum: 1+2+3+4:  \",suma(1,2,3,4))\n",
    "print(\"Sum: 1+2+3+4+5+6+7:  \",suma(1,2,3,4,5,6,7))\n",
    "print(\"Sum: 1+2+3+4+5+6+7+8+9+10:  \",suma(1,2,3,4,5,6,7,8,9,10))\n",
    "        "
   ]
  },
  {
   "cell_type": "markdown",
   "metadata": {},
   "source": [
    "Para este problema definimos tres parámetros en la función,el primeros y el segundo reciben enteros y el tercero recibe una tupla (por ahora pensemos que una tupla es lo mismo que una lista, más adelante veremos sus diferencias):\n",
    "\n",
    " `def suma(v1,v2,*lista):\n",
    "    # acumulate\n",
    "    suma=v1+v2\n",
    "    # sum rest of values\n",
    "    for f in range(len(lista)):\n",
    "        suma+=lista[f]\n",
    "    return suma`\n",
    "    \n",
    "Sumamos los dos primeros valores y luego recorremos la lista y también sumamos sus elementos.\n",
    "\n",
    "Cuando llamamos a la función sumar podemos hacerlo enviando solo dos parámetros (la lista está vacía en este caso):\n",
    "\n",
    "`print(\"Sum: 1+2:  \",suma(1,2))`\n",
    "\n",
    "Podemos llamar la función enviando 4 parámetros, en este caso la lista tiene dos elementos:\n",
    "\n",
    "`print(\"Sum: 1+2+3+4:  \",suma(1,2,3,4))`\n",
    "\n",
    "Y en general podemos llamar la función enviando cualquier cantidad de enteros:\n",
    "\n",
    "`print(\"Sum: 1+2+3+4+5+6+7+8+9+10:  \",suma(1,2,3,4,5,6,7,8,9,10))`\n",
    "\n",
    "### Desempaquetar una lista o tupla\n",
    "Puede ser que tengamos una función que recibe una cantidad fija de parámetros y necesitemos llamarla enviando valores que se encuentran en una lista o tupla. La forma más sencilla es anteceder el caracter * al nombre de la variable:"
   ]
  },
  {
   "cell_type": "code",
   "execution_count": 4,
   "metadata": {},
   "outputs": [
    {
     "data": {
      "text/plain": [
       "6"
      ]
     },
     "execution_count": 4,
     "metadata": {},
     "output_type": "execute_result"
    }
   ],
   "source": [
    "# function suma\n",
    "def suma(v1,v2,v3):\n",
    "    return v1+v2+v3\n",
    "\n",
    "# main\n",
    "list1=[1,2,3]\n",
    "suma(*list1)"
   ]
  },
  {
   "cell_type": "markdown",
   "metadata": {},
   "source": [
    "La función 'sumar' tiene 3 parámetro y la llamamos con la sintaxis:\n",
    "`suma(*list1)`\n",
    "Con el caracter asterisco estamos haciendo que se descomponga la lista en sus tres elementos:\n",
    "\n",
    "`sumar(list1[0], list1[1], list1[2])`"
   ]
  },
  {
   "cell_type": "markdown",
   "metadata": {},
   "source": [
    "#### Prueba"
   ]
  },
  {
   "cell_type": "code",
   "execution_count": 17,
   "metadata": {},
   "outputs": [
    {
     "name": "stdout",
     "output_type": "stream",
     "text": [
      "Suma: 0\n",
      "Suma: 10\n",
      "Suma: 3\n",
      "Suma: 36\n",
      "Suma: 55\n",
      "Suma: 66\n"
     ]
    }
   ],
   "source": [
    "# function suma\n",
    "def suma(v1=0,v2=0,*lista):\n",
    "    suma=v1+v2\n",
    "    for f in range(len(lista)):\n",
    "        suma+=lista[f]\n",
    "    return suma\n",
    "\n",
    "# main\n",
    "print(\"Suma:\",suma())\n",
    "print(\"Suma:\",suma(10))\n",
    "print(\"Suma:\",suma(1,2))\n",
    "print(\"Suma:\",suma(1,2,3,4,5,6,7,8))\n",
    "v=[1,2,3,4,5,6,7,8,9,10]\n",
    "print(\"Suma:\",suma(*v) )\n",
    "print(\"Suma:\",suma(1,2,3,5,*v))"
   ]
  },
  {
   "cell_type": "markdown",
   "metadata": {},
   "source": [
    "### Problema \n",
    "Confeccionar una función que reciba una serie de edades y me retorne la cantidad que son mayores o iguales a 18 (como mínimo se envía un entero a la función)"
   ]
  },
  {
   "cell_type": "code",
   "execution_count": 28,
   "metadata": {
    "scrolled": true
   },
   "outputs": [
    {
     "name": "stdout",
     "output_type": "stream",
     "text": [
      "people are of age: 0\n",
      "people are of age: 2\n",
      "people are of age: 5\n"
     ]
    }
   ],
   "source": [
    "# function people are of age\n",
    "# minimum a parameter\n",
    "def of_age(v,*age):\n",
    "    # count of age\n",
    "    count=0\n",
    "    if(v>=18):\n",
    "        count+=1\n",
    "    for f in range(len(age)):\n",
    "        if(age[f]>=18):\n",
    "            count+=1\n",
    "    return count\n",
    "\n",
    "#main\n",
    "print(\"people are of age:\",of_age(10))\n",
    "print(\"people are of age:\",of_age(10,18,19))\n",
    "v=[1,0,19,30,22,24,29,10,14]\n",
    "print(\"people are of age:\",of_age(10,*v))"
   ]
  }
 ],
 "metadata": {
  "kernelspec": {
   "display_name": "Python 3",
   "language": "python",
   "name": "python3"
  },
  "language_info": {
   "codemirror_mode": {
    "name": "ipython",
    "version": 3
   },
   "file_extension": ".py",
   "mimetype": "text/x-python",
   "name": "python",
   "nbconvert_exporter": "python",
   "pygments_lexer": "ipython3",
   "version": "3.7.6"
  }
 },
 "nbformat": 4,
 "nbformat_minor": 4
}
