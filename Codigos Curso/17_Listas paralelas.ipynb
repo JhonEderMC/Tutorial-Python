{
 "cells": [
  {
   "attachments": {
    "image.png": {
     "image/png": "[encoded data removed]"
    }
   },
   "cell_type": "markdown",
   "metadata": {},
   "source": [
    "# 17 - Listas paralelas\n",
    "Podemos decir que dos listas son paralelas cuando hay una relación entre las componentes de igual subíndice (misma posición) de una lista y otra.\n",
    "![image.png](attachment:image.png)\n",
    "Si tenemos dos listas que ya hemos inicializado con 5 elementos cada una. En una se almacenan los nombres de personas en la otra las edades de dichas personas.\n",
    "Decimos que la lista nombres es paralela a la lista edades si en la componente 0 de cada lista se almacena información relacionada a una persona (Juan - 12 años)\n",
    "Es decir hay una relación entre cada componente de las dos listas.\n",
    "\n",
    "Esta relación la conoce únicamente el programador y se hace para facilitar el desarrollo de algoritmos que procesen los datos almacenados en las estructuras de datos.\n",
    "\n",
    "### Ejemplo\n",
    "Desarrollar un programa que permita cargar 5 nombres de personas y sus edades respectivas. Luego de realizar la carga por teclado de todos los datos imprimir los nombres de las personas mayores de edad (mayores o iguales a 18 años)"
   ]
  },
  {
   "cell_type": "code",
   "execution_count": 7,
   "metadata": {},
   "outputs": [
    {
     "name": "stdout",
     "output_type": "stream",
     "text": [
      "Enter the person name1: Arbey \n",
      "Enter the person age1: 11\n",
      "Enter the person name2: Jhon Eder\n",
      "Enter the person age2: 28\n",
      "Enter the person name3: Leidy 11\n",
      "Enter the person age3: 11\n",
      "Enter the person name4: Sara 14\n",
      "Enter the person age4: 14\n",
      "Enter the person name5: Dairys 18\n",
      "Enter the person age5: 18\n",
      "The people are of age: \n",
      "Jhon Eder\n",
      "Dairys 18\n"
     ]
    }
   ],
   "source": [
    "# Enter data\n",
    "listName=[]\n",
    "listAge=[]\n",
    "for f in range(5):\n",
    "    listName.append(input(f\"Enter the person name{f+1}: \"))\n",
    "    listAge.append(int(input(f\"Enter the person age{f+1}: \")))\n",
    "print(\"The people are of age: \")\n",
    "#persons are of age\n",
    "for f in range(5):\n",
    "    if(listAge[f]>=18):\n",
    "        print(listName[f])        "
   ]
  },
  {
   "cell_type": "markdown",
   "metadata": {},
   "source": [
    "## Problemas\n",
    "### Problema 1\n",
    "Crear y cargar dos listas con los nombres de 5 productos en una y sus respectivos precios en otra. Definir dos listas paralelas. Mostrar cuantos productos tienen un precio mayor al primer producto ingresado."
   ]
  },
  {
   "cell_type": "code",
   "execution_count": 10,
   "metadata": {},
   "outputs": [
    {
     "name": "stdout",
     "output_type": "stream",
     "text": [
      "Enter the product name1: Arroz \n",
      "Enter the produce price1: $100\n",
      "Enter the product name2: Arbejas\n",
      "Enter the produce price2: $20\n",
      "Enter the product name3: Zanahorias \n",
      "Enter the produce price3: $60\n",
      "Enter the product name4: Carne \n",
      "Enter the produce price4: $600\n",
      "Enter the product name5: frutas\n",
      "Enter the produce price5: $200\n",
      "Products with a price ($) greater than Arroz : \n",
      "Carne \n",
      "frutas\n"
     ]
    }
   ],
   "source": [
    "# lists\n",
    "listProductName=[]\n",
    "listProductPrice=[]\n",
    "# enter data\n",
    "for f in range (5):\n",
    "    listProductName.append(input(f\"Enter the product name{f+1}: \"))\n",
    "    listProductPrice.append(float(input(f\"Enter the produce price{f+1}: $\")))\n",
    "print(f\"Products with a price ($) greater than {listProductName[0]}: \")\n",
    "# print greaters\n",
    "i=1\n",
    "while i<5:\n",
    "    if(listProductPrice[i]>listProductPrice[0]):\n",
    "        print(listProductName[i])\n",
    "    # increase counter\n",
    "    i+=1"
   ]
  },
  {
   "cell_type": "markdown",
   "metadata": {},
   "source": [
    "### Problema 2\n",
    "En un curso de 4 alumnos se registraron las notas de sus exámenes y se deben procesar de acuerdo a lo siguiente:\n",
    "\n",
    " a) Ingresar nombre y nota de cada alumno (almacenar los datos en dos listas paralelas)\n",
    "\n",
    " b) Realizar un listado que muestre los nombres, notas y condición del alumno. En la condición, colocar \"Muy Bueno\" si la nota     es mayor o igual a 4, \"Bueno\" si la nota está entre 3.3 y 4, y colocar \"Insuficiente\" si la nota es inferior a 3.3.\n",
    "\n",
    " c) Imprimir cuantos alumnos tienen la leyenda “Muy Bueno”."
   ]
  },
  {
   "cell_type": "code",
   "execution_count": 1,
   "metadata": {},
   "outputs": [
    {
     "name": "stdout",
     "output_type": "stream",
     "text": [
      "Enter stundent's name1: Pedro\n",
      "Enter stundet's note1: 3.4\n",
      "Enter stundent's name2: Angel\n",
      "Enter stundet's note2: 3.7\n",
      "Enter stundent's name3: Blito\n",
      "Enter stundet's note3: 2.9\n",
      "Enter stundent's name4: Juanfer \n",
      "Enter stundet's note4: 4.2\n",
      "List State:  ['Pedro', 3.4, 'good', 'Angel', 3.7, 'good', 'Blito', 2.9, 'insufficient', 'Juanfer ', 4.2, 'very good']\n",
      "Stundents Very good: \n",
      "Juanfer \n"
     ]
    }
   ],
   "source": [
    "# list student data\n",
    "listName=[]\n",
    "listNote=[]\n",
    "listState=[]\n",
    "\n",
    "#Enter data\n",
    "for f in range (4):\n",
    "    listName.append(input(f\"Enter stundent's name{f+1}: \"))\n",
    "    listNote.append(float(input(f\"Enter stundet's note{f+1}: \")))\n",
    "\n",
    "#list state\n",
    "for f in range(4):\n",
    "    listState.append(listName[f])\n",
    "    listState.append(listNote[f])\n",
    "    # very good\n",
    "    if(listNote[f]>=4):\n",
    "        listState.append(\"very good\")\n",
    "    # good\n",
    "    elif(listNote[f]>=3.3 and listNote[f]<4):\n",
    "        listState.append(\"good\")\n",
    "    # insufficient\n",
    "    elif(listNote[f]<3.3):\n",
    "        listState.append(\"insufficient\")\n",
    "print(\"List State: \",listState)\n",
    "\n",
    "#print very good\n",
    "print(\"Stundents Very good: \")\n",
    "i=0\n",
    "while i<4:\n",
    "    if(listNote[i]>=4):\n",
    "        print(listName[f])\n",
    "    #increase counter\n",
    "    i+=1"
   ]
  },
  {
   "cell_type": "markdown",
   "metadata": {},
   "source": [
    "### Problema 3\n",
    "Realizar un programa que pida la carga de dos listas numéricas enteras de 4 elementos cada una. Generar una tercer lista que surja de la suma de los elementos de la misma posición de cada lista. Mostrar esta tercer lista."
   ]
  },
  {
   "cell_type": "code",
   "execution_count": 1,
   "metadata": {},
   "outputs": [
    {
     "name": "stdout",
     "output_type": "stream",
     "text": [
      "list number 1:\n",
      "Enter the number1: 1\n",
      "Enter the number2: 2\n",
      "Enter the number3: 3\n",
      "Enter the number4: 4\n",
      "list number 2:\n",
      "Enter the number1: 5\n",
      "Enter the number2: 6\n",
      "Enter the number3: 7\n",
      "Enter the number4: 8\n",
      "list 1:  [1, 2, 3, 4]\n",
      "list 2:  [5, 6, 7, 8]\n",
      "list 3:  [6, 8, 10, 12]\n"
     ]
    }
   ],
   "source": [
    "# list numbers \n",
    "listNumber1=[]\n",
    "listNumber2=[]\n",
    "listNumber3=[]\n",
    "\n",
    "# enter numbers\n",
    "print(\"list number 1:\")\n",
    "for f in range(4):\n",
    "    listNumber1.append(int(input(f\"Enter the number{f+1}: \")))\n",
    "print(\"list number 2:\")\n",
    "for f in range(4):\n",
    "    listNumber2.append(int(input(f\"Enter the number{f+1}: \")))\n",
    "\n",
    "# sum list\n",
    "i=0\n",
    "while i<4:\n",
    "    listNumber3.append(int(listNumber1[i]+listNumber2[i]))\n",
    "    # increase counter\n",
    "    i+=1\n",
    "\n",
    "#print\n",
    "print(\"list 1: \",listNumber1)\n",
    "print(\"list 2: \",listNumber2)\n",
    "print(\"list 3: \",listNumber3)"
   ]
  }
 ],
 "metadata": {
  "kernelspec": {
   "display_name": "Python 3",
   "language": "python",
   "name": "python3"
  },
  "language_info": {
   "codemirror_mode": {
    "name": "ipython",
    "version": 3
   },
   "file_extension": ".py",
   "mimetype": "text/x-python",
   "name": "python",
   "nbconvert_exporter": "python",
   "pygments_lexer": "ipython3",
   "version": "3.7.6"
  }
 },
 "nbformat": 4,
 "nbformat_minor": 4
}
