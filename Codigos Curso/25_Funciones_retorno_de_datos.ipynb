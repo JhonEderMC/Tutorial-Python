{
 "cells": [
  {
   "cell_type": "markdown",
   "metadata": {},
   "source": [
    "# 25 - Funciones: retorno de datos\n",
    "Hemos comenzado a pensar con la metodología de programación estructurada. Buscamos dividir un problema en subproblemas y plantear algoritmos en Python que los resuelvan.\n",
    "\n",
    "Vimos que una función la definimos mediante un nombre y que puede recibir datos por medio de sus parámetros.\n",
    "\n",
    "Los parámetros son la forma para que una función reciba datos para ser procesados. Ahora veremos otra característica de las funciones que es la de devolver un dato a quien invocó la función (recordemos que una función la podemos llamar desde el bloque principal de nuestro programa o desde otra función que desarrollemos)\n",
    "\n",
    "## Ejemplos \n",
    "### Ejemplo 1\n",
    "Confeccionar una función que le enviemos como parámetro el valor del lado de un cuadrado y nos retorne su superficie."
   ]
  },
  {
   "cell_type": "code",
   "execution_count": 2,
   "metadata": {},
   "outputs": [
    {
     "name": "stdout",
     "output_type": "stream",
     "text": [
      "Enter a number: 4\n",
      "Area:  16\n"
     ]
    }
   ],
   "source": [
    "# function square area\n",
    "# this function receives a paremter(square side)\n",
    "def square_area (side):\n",
    "    area=side*side\n",
    "    return area\n",
    "\n",
    "# main\n",
    "side=int(input(\"Enter a number: \"))\n",
    "print(\"Area: \",square_area(side))"
   ]
  },
  {
   "cell_type": "markdown",
   "metadata": {},
   "source": [
    "Aparece una nueva palabra clave en Python para indicar el valor devuelto por la función: return\n",
    "\n",
    "La función square_area recibe un parámetro llamado lado, definimos una variable local llamada sup donde almacenamos el producto del parámetro lado por sí mismo."
   ]
  },
  {
   "cell_type": "markdown",
   "metadata": {},
   "source": [
    "### Ejemplo 2 \n",
    "Confeccionar una función que le enviemos como parámetros dos enteros y nos retorne el mayor."
   ]
  },
  {
   "cell_type": "code",
   "execution_count": 3,
   "metadata": {},
   "outputs": [
    {
     "name": "stdout",
     "output_type": "stream",
     "text": [
      "Enter a number1: -100\n",
      "Enter a number2: 0\n",
      "Greater number:  0\n"
     ]
    }
   ],
   "source": [
    "# function greater number\n",
    "# receives two values (integer)\n",
    "def greater_number(v1,v2):\n",
    "    if(v1>=v2):\n",
    "        return v1\n",
    "    else:\n",
    "        return v2\n",
    "\n",
    "# main\n",
    "v1=int(input(\"Enter a number1: \"))\n",
    "v2=int(input(\"Enter a number2: \"))\n",
    "print(\"Greater number: \",greater_number(v1,v2))\n",
    "\n",
    "    "
   ]
  },
  {
   "cell_type": "markdown",
   "metadata": {},
   "source": [
    "Cuando una función encuentra la palabra `return` no sigue ejecutando el resto de la función sino que sale a la línea del programa desde donde llamamos a dicha función.\n",
    "\n",
    "### Ejemplo 3\n",
    "Confeccionar una función que le enviemos como parámetro un string y nos retorne la cantidad de caracteres que tiene. En el bloque principal solicitar la carga de dos nombres por teclado y llamar a la función dos veces. Imprimir en el bloque principal cual de las dos palabras tiene más caracteres."
   ]
  },
  {
   "cell_type": "code",
   "execution_count": 8,
   "metadata": {},
   "outputs": [
    {
     "name": "stdout",
     "output_type": "stream",
     "text": [
      "Enter a text1: texto 1\n",
      "Enter a text2: texto2\n",
      "Length: Text1 ->  7 Text2 -> 6\n",
      "greater:  7\n"
     ]
    }
   ],
   "source": [
    "# function length text\n",
    "# parameter  a text (cad)\n",
    "def length_text(cad):\n",
    "    return len(cad)\n",
    "\n",
    "# main\n",
    "c1=input(\"Enter a text1: \")\n",
    "c2=input(\"Enter a text2: \")\n",
    "lengthC1=length_text(c1)\n",
    "lengthC2=length_text(c2)\n",
    "print(\"Length: Text1 -> \",lengthC1,\"Text2 ->\",lengthC2)\n",
    "print(\"greater: \",greater_number(lengthC1,lengthC2))"
   ]
  },
  {
   "cell_type": "markdown",
   "metadata": {},
   "source": [
    "## Problemas\n",
    "### Problema 1\n",
    "Elaborar una función que reciba tres enteros y nos retorne el valor promedio de los mismos."
   ]
  },
  {
   "cell_type": "code",
   "execution_count": 11,
   "metadata": {},
   "outputs": [
    {
     "name": "stdout",
     "output_type": "stream",
     "text": [
      "Enter a number1: 3.5\n",
      "Enter a number2: 4.8\n",
      "Enter a number3: 7.2\n",
      "Average of three number:  5.166666666666667\n"
     ]
    }
   ],
   "source": [
    "# function three numbers average\n",
    "def three_number_average(v1,v2,v3):\n",
    "    v=v1+v2+v3\n",
    "    v/=3\n",
    "    return v\n",
    "c1=float(input(\"Enter a number1: \"))\n",
    "c2=float(input(\"Enter a number2: \"))\n",
    "c3=float(input(\"Enter a number3: \"))\n",
    "print(\"Average of three number: \",three_number_average(c1,c2,c3))\n"
   ]
  },
  {
   "cell_type": "markdown",
   "metadata": {},
   "source": [
    "### Problema 2\n",
    "Confeccionar una función que calcule la superficie de un rectángulo y la retorne, la función recibe como parámetros los valores de dos de sus lados:"
   ]
  },
  {
   "cell_type": "code",
   "execution_count": 13,
   "metadata": {},
   "outputs": [
    {
     "name": "stdout",
     "output_type": "stream",
     "text": [
      "Enter a rectangle base: 3.6\n",
      "Enter a rectangle height: 6.5\n",
      "area:  23.400000000000002\n"
     ]
    }
   ],
   "source": [
    "# function area rectangle\n",
    "# base, height\n",
    "def area_rentangle(base,height):\n",
    "    return base*height\n",
    "\n",
    "# main\n",
    "b=float(input(\"Enter a rectangle base: \"))\n",
    "h=float(input(\"Enter a rectangle height: \"))\n",
    "print(\"area: \",area_rentangle(b,h))"
   ]
  },
  {
   "cell_type": "markdown",
   "metadata": {},
   "source": [
    "### Problema 3\n",
    "En el bloque principal del programa cargar los lados de dos rectángulos y luego mostrar cual de los dos tiene una superficie mayor."
   ]
  },
  {
   "cell_type": "code",
   "execution_count": 14,
   "metadata": {},
   "outputs": [
    {
     "name": "stdout",
     "output_type": "stream",
     "text": [
      "Enter a rectangle base: 3\n",
      "Enter a rectangle height: 2\n",
      "Enter a rectangle base: 4\n",
      "Enter a rectangle height: 2\n",
      "area1:  6.0 area2:  8.0\n",
      "greater area:  8.0\n"
     ]
    }
   ],
   "source": [
    "\n",
    "\n",
    "# main\n",
    "b=float(input(\"Enter a rectangle base: \"))\n",
    "h=float(input(\"Enter a rectangle height: \"))\n",
    "a1=area_rentangle(b,h)  \n",
    "b=float(input(\"Enter a rectangle base: \"))\n",
    "h=float(input(\"Enter a rectangle height: \"))\n",
    "a2=area_rentangle(b,h)  \n",
    "print(\"area1: \",a1, \"area2: \",a2)\n",
    "print(\"greater area: \", greater_number(a1,a2))\n"
   ]
  },
  {
   "cell_type": "markdown",
   "metadata": {},
   "source": [
    "### Problema 4\n",
    "Plantear una función que reciba un string en mayúsculas o minúsculas y retorne la cantidad de letras 'a' o 'A'"
   ]
  },
  {
   "cell_type": "code",
   "execution_count": 17,
   "metadata": {},
   "outputs": [
    {
     "name": "stdout",
     "output_type": "stream",
     "text": [
      "Enter text: today was A good day\n",
      "The number of letter a or A:  4\n"
     ]
    }
   ],
   "source": [
    "# count char 'a' or 'A'\n",
    "def count_char_a_A(cad):\n",
    "    count=0    \n",
    "    for f in range(len(cad)):\n",
    "        if(cad[f]=='a' or cad[f]=='A'):\n",
    "            count+=1\n",
    "    return count\n",
    "\n",
    "cd=input(\"Enter text: \")\n",
    "print(\"The number of letter a or A: \",count_char_a_A(cd))"
   ]
  }
 ],
 "metadata": {
  "kernelspec": {
   "display_name": "Python 3",
   "language": "python",
   "name": "python3"
  },
  "language_info": {
   "codemirror_mode": {
    "name": "ipython",
    "version": 3
   },
   "file_extension": ".py",
   "mimetype": "text/x-python",
   "name": "python",
   "nbconvert_exporter": "python",
   "pygments_lexer": "ipython3",
   "version": "3.7.6"
  }
 },
 "nbformat": 4,
 "nbformat_minor": 4
}
