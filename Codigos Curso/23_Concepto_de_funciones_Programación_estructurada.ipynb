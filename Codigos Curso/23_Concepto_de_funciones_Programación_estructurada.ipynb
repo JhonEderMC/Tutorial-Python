{
 "cells": [
  {
   "cell_type": "markdown",
   "metadata": {},
   "source": [
    "# 23 - Concepto de funciones - Programación estructurada\n",
    "Hasta ahora hemos trabajado con una metodología de programación lineal. Todas las instrucciones de nuestro archivo *.py se ejecutan en forma secuencial de principio a fin.\n",
    "\n",
    "Esta forma de organizar un programa solo puede ser llevado a cabo si el mismo es muy pequeño (decenas de líneas)\n",
    "\n",
    "Cuando los problemas a resolver tienden a ser más grandes la metodología de programación lineal se vuelve ineficiente y compleja.\n",
    "\n",
    "El segundo paradigma de programación que veremos es la programación estructurada.\n",
    "\n",
    "La programación estructurada busca dividir o descomponer un problema complejo en pequeños problemas. La solución de cada uno de esos pequeños problemas nos trae la solución del problema complejo.\n",
    "\n",
    "En Python el planteo de esas pequeñas soluciones al problema complejo se hace dividiendo el programa en funciones.\n",
    "\n",
    "Una función es un conjunto de instrucciones en Python que resuelven un problema específico.\n",
    "\n",
    "El lenguaje Python ya tiene incorporada algunas funciones básicas. Algunas de ellas ya las utilizamos en conceptos anteriores como son las funciones: print, len y range.\n",
    "\n",
    "Veamos ahora como crear nuestras propias funciones.\n",
    "\n",
    "El tema de funciones en un principio puede presentar dificultades para entenderlo y ver sus ventajas ante la metodología de programación lineal que veníamos trabajando en conceptos anteriores.\n",
    "\n",
    "Los primeros problemas que presentaremos nos puede parecer que sea más conveniente utilizar programación lineal en vez de programación estructurada por funciones.\n",
    "\n",
    "A medida que avancemos veremos que si un programa empieza a ser más complejo (cientos de líneas, miles de líneas o más) la división en pequeñas funciones nos permitirá tener un programa más ordenado y fácil de entender y por lo tanto en mantener.\n",
    "\n",
    "## Ejemplos\n",
    "### Ejemplo 1\n",
    "Confeccionar una aplicación que muestre una presentación en pantalla del programa. Solicite la carga de dos valores y nos muestre la suma. Mostrar finalmente un mensaje de despedida del programa.\n",
    "Implementar estas actividades en tres funciones.\n"
   ]
  },
  {
   "cell_type": "code",
   "execution_count": 5,
   "metadata": {},
   "outputs": [
    {
     "name": "stdout",
     "output_type": "stream",
     "text": [
      "Welcome, this program that allows loading two values by keyBoard\n",
      "it shows the result of sum\n",
      "*****************************\n",
      "Ente value1: 3\n",
      "Ente value2: 9\n",
      "Sum:  12\n",
      "thank you for uses this program\n",
      "*******************************\n",
      "goodbye\n"
     ]
    }
   ],
   "source": [
    "# program\n",
    "\n",
    "# function: presentation of program\n",
    "def presentation():\n",
    "    print(\"Welcome, this program that allows loading two values by keyBoard\")    \n",
    "    print(\"it shows the result of sum\")\n",
    "    print(\"*****************************\")\n",
    "\n",
    "# function: loading data and sum\n",
    "def loading_operation():\n",
    "    val1=int(input(\"Ente value1: \"))\n",
    "    val2=int(input(\"Ente value2: \"))\n",
    "    suma=val1+val2\n",
    "    print(\"Sum: \",suma)\n",
    "\n",
    "# goodbye\n",
    "def goodbye():\n",
    "    print(\"thank you for uses this program\")\n",
    "    print(\"*******************************\")\n",
    "    print(\"goodbye\")\n",
    "\n",
    "# main program\n",
    "presentation()\n",
    "loading_operation()\n",
    "goodbye()"
   ]
  },
  {
   "cell_type": "markdown",
   "metadata": {},
   "source": [
    "La forma de organizar nuestro programa cambia en forma radical.\n",
    "\n",
    "El programa ahora no empieza a ejecutarse en la línea 1.\n",
    "\n",
    "El programa principal comienza a ejecutarse luego del comentario \"programa principal\":\n",
    "\n",
    "`# main program\n",
    "presentation()\n",
    "loading_operation()\n",
    "goodbye()`\n",
    "\n",
    "Primero declaramos las tres funciones llamadas presentacion, carga_suma y finalizacion.\n",
    "\n",
    "La sintaxis para declarar una función es mediante la palabra clave def seguida por el nombre de la función (el nombre de la función no puede tener espacios en blanco, comenzar con un número y el único caracter especial permitido es el _ )\n",
    "\n",
    "Luego del nombre de la función deben ir entre paréntesis los datos que llegan, si no llegan datos como es el caso de nuestras tres funciones solo se disponen paréntesis abierto y cerrado. Al final disponemos los :\n",
    "\n",
    "Todo el bloque de la función se indenta cuatro espacios como venimos trabajando cuando definimos estructuras condicionales o repetitivas.\n",
    "\n",
    "Dentro de una función implementamos el algoritmo que pretendemos que resuelva esa función, por ejemplo la función presentacion tiene por objetivo mostrar en pantalla el objetivo del programa.\n",
    "\n",
    "La función carga_suma() permite ingresar dos enteros por teclado, sumarlos y mostrarlos en pantalla.\n",
    "\n",
    "Luego de definir las funciones tenemos al final de nuestro archivo *.py las llamadas de las funciones\n",
    "\n",
    "Si no hacemos las llamadas a las funciones los algoritmos que implementan las funciones nunca se ejecutarán.\n",
    "\n",
    "Cuando en el bloque del programa principal se llama una función hasta que no finalice no continua con la llamada a la siguiente función"
   ]
  },
  {
   "cell_type": "markdown",
   "metadata": {},
   "source": [
    "### Ejemplo 2\n",
    "Confeccionar una aplicación que solicite la carga de dos valores enteros y muestre su suma.\n",
    "Repetir la carga e impresion de la suma 5 veces.\n",
    "Mostrar una línea separadora después de cada vez que cargamos dos valores y su suma."
   ]
  },
  {
   "cell_type": "code",
   "execution_count": 20,
   "metadata": {},
   "outputs": [
    {
     "name": "stdout",
     "output_type": "stream",
     "text": [
      "Ente value1: 2\n",
      "enter value2:3\n",
      "sum:  5\n",
      "**********************\n",
      "Ente value1: 4\n",
      "enter value2:6\n",
      "sum:  10\n",
      "**********************\n",
      "Ente value1: 7\n",
      "enter value2:8\n",
      "sum:  15\n",
      "**********************\n",
      "Ente value1: 9\n",
      "enter value2:1\n",
      "sum:  10\n",
      "**********************\n",
      "Ente value1: 4\n",
      "enter value2:6\n",
      "sum:  10\n",
      "**********************\n"
     ]
    }
   ],
   "source": [
    "\n",
    "#function for loading values\n",
    "#keyBoard inpt\n",
    "def input_values():    \n",
    "    val1=int(input(\"Ente value1: \"))\n",
    "    val2=int(input(\"enter value2:\"))\n",
    "    suma=val1+val2\n",
    "    print(\"sum: \",suma)\n",
    "\n",
    "# separator\n",
    "def separator():\n",
    "    print(\"**********************\")\n",
    "# main\n",
    "for f in range(5):\n",
    "    input_values()\n",
    "    separator()\n",
    "    "
   ]
  },
  {
   "cell_type": "markdown",
   "metadata": {},
   "source": [
    "Como vemos podemos llamar a las funciones muchas veces en nuestro caso en particular 5 veces.\n",
    "\n",
    "Lo nuevo que debe quedar claro es que la llamada a las funciones desde el bloque principal de nuestro programa puede hacerse múltiples veces (esto es lógico, recordemos que print es una función ya creada en Python y la llamamos múltiples veces dentro de nuestro algoritmo)\n",
    "\n",
    "## Problemas\n",
    "## Problema 1\n",
    "Desarrollar un programa con dos funciones. La primer solicite el ingreso de un entero y muestre el cuadrado de dicho valor. La segunda que solicite la carga de dos valores y muestre el producto de los mismos. LLamar desde el bloque del programa principal a ambas funciones."
   ]
  },
  {
   "cell_type": "code",
   "execution_count": 24,
   "metadata": {},
   "outputs": [
    {
     "name": "stdout",
     "output_type": "stream",
     "text": [
      "Enter a number: 3\n",
      "squaring:  9\n",
      "**************************\n",
      "Enter a number1: 2\n",
      "Enter a number: 9\n",
      "multiplication:  18\n"
     ]
    }
   ],
   "source": [
    "# squaring a number\n",
    "def squaring():\n",
    "    val1=int(input(\"Enter a number: \"))\n",
    "    val1=val1**2\n",
    "    print(\"squaring: \",val1)\n",
    "    print(\"**************************\")\n",
    "\n",
    "# multiplication two numbers\n",
    "def multiplication():\n",
    "    val1=int(input(\"Enter a number1: \"))\n",
    "    val2=int(input(\"Enter a number: \"))\n",
    "    m=val1*val2\n",
    "    print(\"multiplication: \",m)\n",
    "    \n",
    "#main \n",
    "squaring()\n",
    "multiplication()"
   ]
  },
  {
   "cell_type": "markdown",
   "metadata": {},
   "source": [
    "### Problema 2\n",
    "Desarrollar un programa que solicite la carga de tres valores y muestre el menor. Desde el bloque principal del programa llamar 2 veces a dicha función (sin utilizar una estructura repetitiva)"
   ]
  },
  {
   "cell_type": "code",
   "execution_count": 27,
   "metadata": {},
   "outputs": [
    {
     "name": "stdout",
     "output_type": "stream",
     "text": [
      "Enter a number1: 3\n",
      "Enter a number2: 3\n",
      "Enter a number3: 3\n",
      "minor:  3\n",
      "***********************************\n",
      "Enter a number1: 2\n",
      "Enter a number2: 1\n",
      "Enter a number3: 4\n",
      "minor:  1\n",
      "***********************************\n"
     ]
    }
   ],
   "source": [
    "# lower number\n",
    "def lower_number():\n",
    "    v1=int(input(\"Enter a number1: \"))\n",
    "    v2=int(input(\"Enter a number2: \"))\n",
    "    v3=int(input(\"Enter a number3: \"))\n",
    "    #lower\n",
    "    if(v1<=v2 and v1<=v3):\n",
    "        m=v1\n",
    "    elif(v2<v1 and v2<v3):\n",
    "        m=v2\n",
    "    else:\n",
    "        m=v3\n",
    "    print(\"minor: \",m)\n",
    "    print(\"***********************************\")\n",
    "    \n",
    "#main\n",
    "lower_number()\n",
    "lower_number()"
   ]
  }
 ],
 "metadata": {
  "kernelspec": {
   "display_name": "Python 3",
   "language": "python",
   "name": "python3"
  },
  "language_info": {
   "codemirror_mode": {
    "name": "ipython",
    "version": 3
   },
   "file_extension": ".py",
   "mimetype": "text/x-python",
   "name": "python",
   "nbconvert_exporter": "python",
   "pygments_lexer": "ipython3",
   "version": "3.7.6"
  }
 },
 "nbformat": 4,
 "nbformat_minor": 4
}
