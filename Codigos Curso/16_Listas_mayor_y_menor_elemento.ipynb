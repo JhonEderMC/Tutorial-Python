{
 "cells": [
  {
   "cell_type": "markdown",
   "metadata": {},
   "source": [
    "# 16 - Listas: mayor y menor elemento\n",
    "Es una actividad muy común la búsqueda del mayor y menor elemento de una lista.\n",
    "**Es necesario que la lista tenga valores del mismo tipo** por ejemplo enteros. Pueden ser de tipo cadenas de caracteres y se busque cual es mayor o menor alfabéticamente, pero **no podemos buscar el mayor o menor si la lista tiene enteros y cadenas de caracteres al mismo tiempo.**\n",
    "\n",
    "## Ejemplos\n",
    "### Ejemplo 1\n",
    "Crear y cargar una lista con 5 enteros. Implementar un algoritmo que identifique el mayor valor de la lista."
   ]
  },
  {
   "cell_type": "code",
   "execution_count": 1,
   "metadata": {},
   "outputs": [
    {
     "name": "stdout",
     "output_type": "stream",
     "text": [
      "Enter a number: -5\n",
      "Enter a number: 3\n",
      "Enter a number: 5\n",
      "Enter a number: 7\n",
      "Enter a number: 4\n",
      "list:  [-5, 3, 5, 7, 4]\n",
      "The greater number:  7\n"
     ]
    }
   ],
   "source": [
    "# list of numbers\n",
    "#empty list\n",
    "listNumbers=[]\n",
    "# enter list\n",
    "for numb in range(5):\n",
    "    listNumbers.append(int(input(\"Enter a number: \")))\n",
    "print(\"list: \",listNumbers)\n",
    "# great Number\n",
    "# number auxiliar (it's take as greater)\n",
    "greatNumb=listNumbers[0]\n",
    "for f in range(1,len(listNumbers)):\n",
    "    # if it is greater\n",
    "    if(listNumbers[f]>greatNumb):\n",
    "        greatNumb=listNumbers[f]\n",
    "print(\"The greater number: \",greatNumb)        \n"
   ]
  },
  {
   "cell_type": "markdown",
   "metadata": {},
   "source": [
    "### Ejemplo 2\n",
    "Crear y cargar una lista con 5 enteros por teclado. Implementar un algoritmo que identifique el menor valor de la lista y la posición donde se encuentra."
   ]
  },
  {
   "cell_type": "code",
   "execution_count": null,
   "metadata": {},
   "outputs": [],
   "source": [
    "# list of numbers\n",
    "#empty list\n",
    "listNumbers=[]\n",
    "# enter list\n",
    "for numb in range(5):\n",
    "    listNumbers.append(int(input(\"Enter a number: \")))\n",
    "print(\"list: \",listNumbers)\n",
    "# min Number\n",
    "# number auxiliar (it's take as greater)\n",
    "minNumb=listNumbers[0]\n",
    "position=0\n",
    "for f in range(1,len(listNumbers)):\n",
    "    # if it is greater\n",
    "    if(listNumbers[f]<minNumb):\n",
    "        minNumb=listNumbers[f]\n",
    "        position=f\n",
    "print(\"The minor number: \",minNumb, \"in the position: \",position)                       "
   ]
  },
  {
   "cell_type": "markdown",
   "metadata": {},
   "source": [
    "## Problemas\n",
    "### Problema 1\n",
    "Ingresar por teclado los nombres de 5 personas y almacenarlos en una lista. Mostrar el nombre de persona menor en orden alfabético."
   ]
  },
  {
   "cell_type": "code",
   "execution_count": null,
   "metadata": {},
   "outputs": [],
   "source": [
    "# list names\n",
    "listNames=[]\n",
    "# enter list\n",
    "i=0\n",
    "while i<5:\n",
    "    listNames.append(input(\"Enter a name:\"))\n",
    "    i+=1\n",
    "print(\"List: \",listNames)\n",
    "# it is take as minor\n",
    "minorName=listNames[0]\n",
    "i=1\n",
    "while i<5:\n",
    "    if(listNames[i]<minorName):\n",
    "        minorName=listNames[i]\n",
    "    i+=1\n",
    "print(\"The minor alphabetic name is: \",minorName)\n"
   ]
  },
  {
   "cell_type": "markdown",
   "metadata": {},
   "source": [
    "### Problema 2\n",
    "Cargar una lista con 5 elementos enteros. Imprimir el mayor y un mensaje si se repite dentro de la lista (es decir si dicho valor se encuentra en 2 o más posiciones en la lista)"
   ]
  },
  {
   "cell_type": "code",
   "execution_count": null,
   "metadata": {},
   "outputs": [],
   "source": [
    "# list of numbers\n",
    "#empty list\n",
    "listNumbers=[]\n",
    "# enter list\n",
    "for numb in range(5):\n",
    "    listNumbers.append(int(input(\"Enter a number: \")))\n",
    "print(\"list: \",listNumbers)\n",
    "# great Number\n",
    "# number auxiliar (it's take as greater)\n",
    "greatNumb=listNumbers[0]\n",
    "for f in range(1,len(listNumbers)):\n",
    "    # if it is greater\n",
    "    if(listNumbers[f]>greatNumb):\n",
    "        greatNumb=listNumbers[f]\n",
    "# count repeat        \n",
    "countRepeat=0\n",
    "for numb in listNumbers:\n",
    "    if(numb==greatNumb):\n",
    "        countRepeat+=1\n",
    "# repeat\n",
    "if(countRepeat>1):\n",
    "    print(\"it's repeat\")\n",
    "else:\n",
    "    print(\"it is not repeat\")\n",
    "        \n",
    "        "
   ]
  },
  {
   "cell_type": "markdown",
   "metadata": {},
   "source": [
    "### Libre\n",
    "Ordena lista de numeros"
   ]
  },
  {
   "cell_type": "code",
   "execution_count": 1,
   "metadata": {},
   "outputs": [
    {
     "name": "stdout",
     "output_type": "stream",
     "text": [
      "Enter a number: 5\n",
      "Enter a number: 3\n",
      "Enter a number: 4\n",
      "Enter a number: 2\n",
      "Enter a number: 1\n",
      "List:  [5, 3, 4, 2, 1]\n",
      "List Ordered:  [1, 2, 3, 4, 5]\n"
     ]
    }
   ],
   "source": [
    "# list of numbers\n",
    "#empty list\n",
    "listNumbers=[]\n",
    "# enter list\n",
    "for numb in range(5):\n",
    "    listNumbers.append(int(input(\"Enter a number: \")))\n",
    "print(\"List: \",listNumbers)\n",
    "# list ordering\n",
    "# number auxiliar\n",
    "# auxNumb=listNumbers[0]\n",
    "for i in range (len(listNumbers)-1):\n",
    "    for f in range(len(listNumbers)-i-1):\n",
    "        # if it is not ordered\n",
    "        if(listNumbers[f]>listNumbers[f+1]):\n",
    "            auxNumb=listNumbers[f]\n",
    "            listNumbers[f]=listNumbers[f+1]\n",
    "            listNumbers[f+1]=auxNumb\n",
    "print(\"List Ordered: \",listNumbers)\n"
   ]
  }
 ],
 "metadata": {
  "kernelspec": {
   "display_name": "Python 3",
   "language": "python",
   "name": "python3"
  },
  "language_info": {
   "codemirror_mode": {
    "name": "ipython",
    "version": 3
   },
   "file_extension": ".py",
   "mimetype": "text/x-python",
   "name": "python",
   "nbconvert_exporter": "python",
   "pygments_lexer": "ipython3",
   "version": "3.7.6"
  }
 },
 "nbformat": 4,
 "nbformat_minor": 4
}
