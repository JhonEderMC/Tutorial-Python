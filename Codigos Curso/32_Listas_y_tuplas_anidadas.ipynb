{
 "cells": [
  {
   "cell_type": "markdown",
   "metadata": {},
   "source": [
    "# 32 - Listas y tuplas anidadas\n",
    "Hemos visto dos estructuras de datos fundamentales en Python que son las listas y las tuplas.\n",
    "\n",
    "La lista es una estructura mutable (es decir podemos modificar sus elementos, agregar y borrar) en cambio una tupla es una secuencia de datos inmutable, es decir una vez definida no puede cambiar.\n",
    "\n",
    "En Python vimos que podemos definir elementos de una lista que sean de tipo lista, en ese caso decimos que tenemos una lista anidada.\n",
    "\n",
    "Ahora que vimos tuplas también podemos crear tuplas anidadas.\n",
    "\n",
    "En general podemos crear y combinar tuplas con elementos de tipo lista y viceversa, es decir listas con componente tipo tupla\n",
    "## Ejemplos\n",
    "### Ejemplo 1"
   ]
  },
  {
   "cell_type": "code",
   "execution_count": 17,
   "metadata": {},
   "outputs": [
    {
     "name": "stdout",
     "output_type": "stream",
     "text": [
      "['Juan', 53, (25, 11, 1999)]\n",
      "Juan\n",
      "(25, 11, 1999)\n",
      "['Juan', 53, (25, 11, 1999), (1, 1, 2016)]\n",
      "['Sebastian', 53, (25, 11, 1999), (1, 1, 2016)]\n",
      "('Pedro', [7, 9])\n",
      "Pedro\n",
      "[7, 9]\n",
      "('Pedro', [7, 9, 10])\n",
      "('Pedro', [7, 8, 10])\n"
     ]
    }
   ],
   "source": [
    "# list\n",
    "empleado=[\"Juan\",53,(25,11,1999)]\n",
    "print(empleado)\n",
    "print(empleado[0])\n",
    "print(empleado[2])\n",
    "empleado.append((1,1,2016))\n",
    "print(empleado)\n",
    "empleado[0]=\"Sebastian\"\n",
    "print(empleado)\n",
    "# tuple\n",
    "alumno=(\"Pedro\",[7,9])\n",
    "print(alumno)\n",
    "print(alumno[0])\n",
    "print(alumno[1])\n",
    "# add to list inside tuple\n",
    "alumno[1].append(10)\n",
    "# modify the list\n",
    "print(alumno)\n",
    "alumno[1][1]=8\n",
    "print(alumno)"
   ]
  },
  {
   "cell_type": "markdown",
   "metadata": {},
   "source": [
    "Por ejemplo definimos la lista llamada empleado con tres elementos: en el primero almacenamos su nombre, en el segundo su edad y en el tercero la fecha de ingreso a trabajar en la empresa (esta se trata de una tupla) Podemos más adelante durante la ejecución del programa agregar otro elemento a la lista con por ejemplo la fecha que se fue de la empresa:\n",
    "\n",
    "`empleado=[\"Juan\",53,(25,11,1999)]\n",
    "print(empleado)\n",
    "empleado.append((1,1,2016))\n",
    "print(empleado) `\n",
    "\n",
    "Tenemos definida la tupla llamada alumno con dos elementos, en el primero almacenamos su nombre y en el segundo una lista con las notas que ha obtenido hasta ahora:\n",
    "\n",
    "`alumno=(\"pedro\",[7, 9])\n",
    "print(alumno)`\n",
    "\n",
    "### Ejemplo 2\n",
    "Almacenar en una lista de 5 elementos tuplas que guarden el nombre de un pais y la cantidad de habitantes.\n",
    "Definir tres funciones, en la primera cargar la lista, en la segunda imprimirla y en la tercera mostrar el nombre del país con mayor cantidad de habitantes."
   ]
  },
  {
   "cell_type": "code",
   "execution_count": 33,
   "metadata": {},
   "outputs": [
    {
     "name": "stdout",
     "output_type": "stream",
     "text": [
      "Enter the number of countries: 5\n",
      "Enter country name 1 of 5: Rusia\n",
      "Enter Rusia population: 146823000\n",
      "Enter country name 2 of 5: Brasil\n",
      "Enter Brasil population: 207012000\n",
      "Enter country name 3 of 5: Estados Unidos\n",
      "Enter Estados Unidos population: 325318000\n",
      "Enter country name 4 of 5: Francia\n",
      "Enter Francia population: 64765000\n",
      "Enter country name 5 of 5: China\n",
      "Enter China population: 1380996000\n",
      "Data: \n",
      "Rusia: 146823000\n",
      "Brasil: 207012000\n",
      "Estados Unidos: 325318000\n",
      "Francia: 64765000\n",
      "China: 1380996000\n",
      "Country with largest population: China\n"
     ]
    }
   ],
   "source": [
    "# function enter country data\n",
    "def country_enter_data():\n",
    "    # list\n",
    "    countryList=[]\n",
    "    # number of countries\n",
    "    n=int(input(\"Enter the number of countries: \"))\n",
    "    # enter data\n",
    "    for f in range(n):\n",
    "        # country name input\n",
    "        name=(input(f\"Enter country name {f+1} of {n}: \"))\n",
    "        # country population input\n",
    "        population=int(input(f\"Enter {name} population: \"))\n",
    "        #add to countryList                         \n",
    "        countryList.append((name,population))\n",
    "    return countryList\n",
    "\n",
    "# function print country data\n",
    "# list of tuples (name,population)\n",
    "def country_print_data(*country):\n",
    "    for f in range(len(country)):\n",
    "        print(country[f][0],country[f][1],sep=\": \")\n",
    "\n",
    "# country with the largest number of inhabitants\n",
    "def country_largest_inhabitant(*country):\n",
    "    # position country in list\n",
    "    position=0\n",
    "    # thake this with a largest\n",
    "    largest=country[0][1]\n",
    "    for f in range(1,len(country)):\n",
    "        # comparate\n",
    "        if(country[f][1]>largest):\n",
    "            position=f\n",
    "            largest=country[f][1]\n",
    "    return country[position][0]\n",
    "    \n",
    "    \n",
    "    \n",
    "# main\n",
    "# enter data\n",
    "listCountry=country_enter_data()\n",
    "print(\"Data: \")\n",
    "# unpack the list\n",
    "country_print_data(*listCountry)\n",
    "# print largest population country\n",
    "print(\"Country with largest population:\",country_largest_inhabitant(*listCountry))"
   ]
  },
  {
   "cell_type": "markdown",
   "metadata": {},
   "source": [
    "## Problemas propuestos\n",
    "### Problema 1\n",
    "Almacenar en una lista 5 empleados, cada elemento de la lista es una sub lista con el nombre del empleado junto a sus últimos tres sueldos (estos tres valores en una tupla)\n",
    "El programa debe tener las siguientes funciones:\n",
    "\n",
    "1)Carga de los nombres de empleados y sus últimos tres sueldos.\n",
    "\n",
    "2)Imprimir el monto total cobrado por cada empleado.\n",
    "\n",
    "3)Imprimir los nombres de empleados que tuvieron un ingreso trimestral mayor a 10000 en los últimos tres meses.\n",
    "Tener en cuenta que la estructura de datos si se carga por asignación debería ser similar a:\n",
    "\n",
    "    `empleados = [[\"juan\",(2000,3000,4233)] , [\"ana\",(3444,1000,5333)] ,  etc.   ]`"
   ]
  },
  {
   "cell_type": "code",
   "execution_count": 55,
   "metadata": {},
   "outputs": [
    {
     "name": "stdout",
     "output_type": "stream",
     "text": [
      "Enter a number employee: 5\n",
      "Enter employee name 1 of 5: Sergio\n",
      "Enter Sergio salary 1: 100\n",
      "Enter Sergio salary 2: 400\n",
      "Enter Sergio salary 3: 800\n",
      "Enter employee name 2 of 5: Juanes\n",
      "Enter Juanes salary 1: 700\n",
      "Enter Juanes salary 2: 300\n",
      "Enter Juanes salary 3: 400\n",
      "Enter employee name 3 of 5: Arbey\n",
      "Enter Arbey salary 1: 100\n",
      "Enter Arbey salary 2: 200\n",
      "Enter Arbey salary 3: 400\n",
      "Enter employee name 4 of 5: Pedro\n",
      "Enter Pedro salary 1: 100\n",
      "Enter Pedro salary 2: 300\n",
      "Enter Pedro salary 3: 400\n",
      "Enter employee name 5 of 5: Jualian\n",
      "Enter Jualian salary 1: 300\n",
      "Enter Jualian salary 2: 400\n",
      "Enter Jualian salary 3: 10\n",
      "[['Sergio', (100, 400, 800)], ['Juanes', (700, 300, 400)], ['Arbey', (100, 200, 400)], ['Pedro', (100, 300, 400)], ['Jualian', (300, 400, 10)]]\n",
      "*************************\n",
      "Data employee: \n",
      "Sergio:  1300\n",
      "Juanes:  1400\n",
      "Arbey:  700\n",
      "Pedro:  800\n",
      "Jualian:  710\n",
      "*************************\n",
      "Employer with quatrimestre greater than 1000: \n",
      "Jualian:  710\n"
     ]
    }
   ],
   "source": [
    "# function enter employee data\n",
    "def employee_enter_data():\n",
    "    listEmployee=[]\n",
    "    # enter number employee\n",
    "    n=int(input(\"Enter a number employee: \"))\n",
    "    # enter employee data\n",
    "    for f in range(n):        \n",
    "        name=input(f\"Enter employee name {f+1} of {n}: \")\n",
    "        s1=int(input(f\"Enter {name} salary 1: \"))\n",
    "        s2=int(input(f\"Enter {name} salary 2: \"))\n",
    "        s3=int(input(f\"Enter {name} salary 3: \"))\n",
    "        # add list name and tuple salary\n",
    "        listEmployee.append([name,(s1,s2,s3)])\n",
    "    return listEmployee\n",
    "\n",
    "# amount charged by each employee\n",
    "def employee_charge(employe):\n",
    "    # traverse     \n",
    "    for f in range(len(employe)):\n",
    "        # sum employee\n",
    "        s=0\n",
    "        for i in range(len(employe[f][1])):\n",
    "            # acumulate\n",
    "            s+=employe[f][1][i]\n",
    "        print (f\"{employe[f][0]}:  {s}\")\n",
    "            \n",
    "# employee with quatrimestrel greater than 1000\n",
    "def employee_amount_greater(employe):\n",
    "    for f in range(len(employe)):\n",
    "        # sum employee\n",
    "        s=0\n",
    "        for i in range(len(employe[f][1])):\n",
    "            # acumulate\n",
    "            s+=employe[f][1][i]\n",
    "    #if it is greater\n",
    "    if(s>100):             \n",
    "        print (f\"{employe[f][0]}:  {s}\")\n",
    "    \n",
    "# main\n",
    "s=0\n",
    "listEmployee=employee_enter_data()\n",
    "print(listEmployee)\n",
    "print(\"*\"*25)\n",
    "print(\"Data employee: \")\n",
    "employee_charge(listEmployee)\n",
    "print(\"*\"*25)\n",
    "print(\"Employer with quatrimestre greater than 1000: \")\n",
    "employee_amount_greater(listEmployee)    "
   ]
  },
  {
   "cell_type": "code",
   "execution_count": 54,
   "metadata": {},
   "outputs": [
    {
     "name": "stdout",
     "output_type": "stream",
     "text": [
      "Henry:  1300\n",
      "Farley:  450\n",
      "Mauricio:  650\n",
      "Sergio:  1100\n",
      "Santiago:  1400\n",
      "******************************\n"
     ]
    }
   ],
   "source": [
    "employee_charge(listEmployee)\n",
    "listEmploye[1][1][0]\n",
    "print(\"*\"*30)"
   ]
  },
  {
   "cell_type": "markdown",
   "metadata": {},
   "source": [
    "### Problema 2\n",
    "Se tiene que cargar los votos obtenidos por tres candidatos a una elección.\n",
    "En una lista cargar en la primer componente el nombre del candidato y en la segunda componente cargar una lista con componentes de tipo tupla con el nombre de la provincia y la cantidad de votos obtenidos en dicha provincia.\n",
    "Se deben cargar los datos por teclado, pero si se cargaran por asignación tendría una estructura similar a esta:\n",
    "\n",
    "`candidatos=[ (\"juan\",[(\"cordoba\",100),(\"buenos aires\",200)]) , (\"ana\", [(\"cordoba\",55)]) , (\"luis\", [(\"buenos aires\",20)]) ]`\n",
    "\n",
    "1) Función para cargar todos los candidatos, sus nombres y las provincias con los votos obtenidos.\n",
    "\n",
    "2) Imprimir el nombre del candidato y la cantidad total de votos obtenidos en todas las provincias.\n"
   ]
  },
  {
   "cell_type": "code",
   "execution_count": 34,
   "metadata": {},
   "outputs": [
    {
     "name": "stdout",
     "output_type": "stream",
     "text": [
      "Enter the candidate's 1 name 3: Henry\n",
      "The number of deparments: 3\n",
      "Enter deparment's name1 of 3: Antioquia\n",
      "Enter the number of vote Antioquia: 1000\n",
      "Enter deparment's name2 of 3: Chocho\n",
      "Enter the number of vote Chocho: 800\n",
      "Enter deparment's name3 of 3: Valle\n",
      "Enter the number of vote Valle: 600\n",
      "Enter the candidate's 2 name 3: Luisa\n",
      "The number of deparments: 2\n",
      "Enter deparment's name1 of 2: Cordoba\n",
      "Enter the number of vote Cordoba: 800\n",
      "Enter deparment's name2 of 2: Huila\n",
      "Enter the number of vote Huila: 400\n",
      "Enter the candidate's 3 name 3: Diego\n",
      "The number of deparments: 1\n",
      "Enter deparment's name1 of 1: Cundinamarca\n",
      "Enter the number of vote Cundinamarca: 1000\n",
      "Data candidate and votes: \n",
      "Henry --> 2400\n",
      "Luisa --> 1200\n",
      "Diego --> 1000\n"
     ]
    }
   ],
   "source": [
    "## function candidates and votes by departments\n",
    "# the number of votes in each deparment\n",
    "def candidate_votes_deparment():\n",
    "    listVote=[]\n",
    "    for f in range(3):\n",
    "        # number of deparments\n",
    "        name=input(f\"Enter the candidate's {f+1} name {3}: \")\n",
    "        n=int(input(\"The number of deparments: \"))        \n",
    "        # enter department and number of votes\n",
    "        listDp=[]\n",
    "        for i in range(n):\n",
    "            deparment=input(f\"Enter deparment's name{i+1} of {n}: \")\n",
    "            vote=int(input(f\"Enter the number of vote {deparment}: \"))\n",
    "            # create tuple\n",
    "            v=((deparment,vote))\n",
    "            # add list\n",
    "            listDp.append(v)  \n",
    "        # add main list\n",
    "        listVote.append((name,listDp))\n",
    "    return listVote\n",
    "\n",
    "# function print number of votes\n",
    "def candidate_number_vote(listV):\n",
    "    for f in range(len(listV)):\n",
    "        # acmulate\n",
    "        suma=0\n",
    "        # in cuple\n",
    "        for i in range(len(listV[f][1])):\n",
    "            # sum votes [(name)(tupla(departamento,votos))]\n",
    "            suma+=listV[f][1][i][1]\n",
    "        print(f\"{listV[f][0]} --> {suma}\")\n",
    "    \n",
    "  #main\n",
    "listV=candidate_votes_deparment()\n",
    "#listV\n",
    "print(\"Data candidate and votes: \")\n",
    "candidate_number_vote(listV)"
   ]
  },
  {
   "cell_type": "code",
   "execution_count": 30,
   "metadata": {},
   "outputs": [
    {
     "ename": "TypeError",
     "evalue": "candidate_votes_deparment() takes 0 positional arguments but 3 were given",
     "output_type": "error",
     "traceback": [
      "\u001b[1;31m---------------------------------------------------------------------------\u001b[0m",
      "\u001b[1;31mTypeError\u001b[0m                                 Traceback (most recent call last)",
      "\u001b[1;32m<ipython-input-30-59ef141d4212>\u001b[0m in \u001b[0;36m<module>\u001b[1;34m\u001b[0m\n\u001b[0;32m      3\u001b[0m \u001b[0mlistV\u001b[0m\u001b[1;33m[\u001b[0m\u001b[1;36m0\u001b[0m\u001b[1;33m]\u001b[0m\u001b[1;33m[\u001b[0m\u001b[1;36m0\u001b[0m\u001b[1;33m]\u001b[0m\u001b[1;33m\u001b[0m\u001b[1;33m\u001b[0m\u001b[0m\n\u001b[0;32m      4\u001b[0m \u001b[0mlistV\u001b[0m\u001b[1;33m\u001b[0m\u001b[1;33m\u001b[0m\u001b[0m\n\u001b[1;32m----> 5\u001b[1;33m \u001b[0mcandidate_votes_deparment\u001b[0m\u001b[1;33m(\u001b[0m\u001b[1;33m*\u001b[0m\u001b[0mlistV\u001b[0m\u001b[1;33m)\u001b[0m\u001b[1;33m\u001b[0m\u001b[1;33m\u001b[0m\u001b[0m\n\u001b[0m",
      "\u001b[1;31mTypeError\u001b[0m: candidate_votes_deparment() takes 0 positional arguments but 3 were given"
     ]
    }
   ],
   "source": [
    "#listV[0][1][0][1]\n",
    "#listV[0][1][1][1]\n",
    "listV[0][0]\n",
    "listV\n",
    "candidate_votes_deparment(*listV)"
   ]
  }
 ],
 "metadata": {
  "kernelspec": {
   "display_name": "Python 3",
   "language": "python",
   "name": "python3"
  },
  "language_info": {
   "codemirror_mode": {
    "name": "ipython",
    "version": 3
   },
   "file_extension": ".py",
   "mimetype": "text/x-python",
   "name": "python",
   "nbconvert_exporter": "python",
   "pygments_lexer": "ipython3",
   "version": "3.7.6"
  }
 },
 "nbformat": 4,
 "nbformat_minor": 4
}
