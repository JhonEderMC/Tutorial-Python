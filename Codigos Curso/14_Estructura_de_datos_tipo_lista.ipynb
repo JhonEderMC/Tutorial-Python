{
 "cells": [
  {
   "cell_type": "markdown",
   "metadata": {},
   "source": [
    "# 14 - Estructura de datos tipo lista\n",
    "Hasta ahora hemos trabajado con variables que permiten almacenar un único valor:\n",
    "\n",
    "`edad=12\n",
    "altura=1.79\n",
    "nombre=\"juan\"`\n",
    "\n",
    "\n",
    "En Python existe un tipo de variable que permite almacenar una colección de datos y luego acceder por medio de un subíndice (similar a los string)\n",
    "\n",
    "## Creación de la lista por asignación\n",
    "Para crear una lista por asignación debemos indicar sus elementos encerrados entre corchetes y separados por coma.\n",
    "`\n",
    "lista1=[10, 5, 3]                       # lista de enteros\n",
    "lista2=[1.78, 2.66, 1.55, 89,4]         # lista de valores float\n",
    "lista3=[\"lunes\", \"martes\", \"miercoles\"] # lista de string\n",
    "lista4=[\"juan\", 45, 1.92]               # lista con elementos de distinto tipo\n",
    "`\n",
    "Si queremos conocer la cantidad de elementos de una lista podemos llamar a la función `len`:\n",
    "\n",
    "`lista1=[10, 5, 3]   # lista de enteros\n",
    "print(len(lista1))  # imprime un 3`\n",
    "\n",
    "## Ejemplos\n",
    "### Ejemplo 1\n",
    "Definir una lista que almacene 5 enteros. Sumar todos sus elementos y mostrar dicha suma."
   ]
  },
  {
   "cell_type": "code",
   "execution_count": 8,
   "metadata": {
    "scrolled": true
   },
   "outputs": [
    {
     "name": "stdout",
     "output_type": "stream",
     "text": [
      "List:  [1, 2, 3, 4, 5]\n",
      "sum:  15\n",
      "With a while: \n",
      "sum:  15\n"
     ]
    }
   ],
   "source": [
    "# list\n",
    "list1=[1,2,3,4,5]\n",
    "# sum\n",
    "suma=0\n",
    "print(\"List: \",list1)\n",
    "for number in list1:\n",
    "    suma+=number\n",
    "print(\"sum: \",suma)\n",
    "# with a while\n",
    "print(\"With a while: \")\n",
    "suma=0\n",
    "i=0\n",
    "while i<len(list1):\n",
    "    suma+=list1[i]\n",
    "    #increase counter\n",
    "    i+=1\n",
    "print(\"sum: \",suma)"
   ]
  },
  {
   "cell_type": "markdown",
   "metadata": {},
   "source": [
    "### Ejemplo 2\n",
    "Definir una lista por asignación que almacene los nombres de los primeros cuatro meses de año. Mostrar el primer y último elemento de la lista solamente.\n"
   ]
  },
  {
   "cell_type": "code",
   "execution_count": 11,
   "metadata": {},
   "outputs": [
    {
     "name": "stdout",
     "output_type": "stream",
     "text": [
      "January\n",
      "April\n"
     ]
    },
    {
     "data": {
      "text/plain": [
       "True"
      ]
     },
     "execution_count": 11,
     "metadata": {},
     "output_type": "execute_result"
    }
   ],
   "source": [
    "#list\n",
    "list1=[\"January\",\"Febrary\",\"March\",\"April\"]\n",
    "print(list1[0])\n",
    "print(list1[3])\n",
    "\n",
    "\"March\" in list1"
   ]
  },
  {
   "cell_type": "markdown",
   "metadata": {},
   "source": [
    "### Ejemplo 3\n",
    "Definir una lista por asignación que almacene en la primer componente el nombre de un alumno y en las dos siguientes sus notas. Imprimir luego el nombre y el promedio de las dos notas."
   ]
  },
  {
   "cell_type": "code",
   "execution_count": 1,
   "metadata": {},
   "outputs": [
    {
     "name": "stdout",
     "output_type": "stream",
     "text": [
      "Diana with average grade: 3.95\n"
     ]
    }
   ],
   "source": [
    "# Stundent list\n",
    "studentList=[\"Diana\", 4.2,3.7]\n",
    "print(f\"{studentList[0]} with average grade: {(studentList[1]+studentList[2])/2}\")"
   ]
  },
  {
   "cell_type": "markdown",
   "metadata": {},
   "source": [
    "## Problemas\n",
    "### Problema 1\n",
    "Definir por asignación una lista con 8 elementos enteros. Contar cuantos de dichos valores almacenan un valor superior a 100."
   ]
  },
  {
   "cell_type": "code",
   "execution_count": 16,
   "metadata": {},
   "outputs": [
    {
     "name": "stdout",
     "output_type": "stream",
     "text": [
      "The amount of numbers greater than 100 are:  2\n"
     ]
    }
   ],
   "source": [
    "# list\n",
    "list1=[1,20,3,40,500,6,700,9,100]\n",
    "# count greater than 100\n",
    "countGreat=0\n",
    "for numb in list1:\n",
    "    if(numb>100):\n",
    "        countGreat+=1\n",
    "print(\"The amount of numbers greater than 100 are: \",countGreat)        "
   ]
  },
  {
   "cell_type": "markdown",
   "metadata": {},
   "source": [
    "### Problema 2\n",
    "Definir una lista por asignación con 5 enteros. Mostrar por pantalla solo los elementos con valor iguales o superiores a 7."
   ]
  },
  {
   "cell_type": "code",
   "execution_count": 17,
   "metadata": {},
   "outputs": [
    {
     "name": "stdout",
     "output_type": "stream",
     "text": [
      "10\n",
      "7\n",
      "9\n"
     ]
    }
   ],
   "source": [
    "# list\n",
    "list1=[1,4,10,7,9]\n",
    "for numb in list1:\n",
    "    if(numb>=7):\n",
    "        print(numb)"
   ]
  },
  {
   "cell_type": "markdown",
   "metadata": {},
   "source": [
    "### Problema 3\n",
    "Definir una lista que almacene por asignación los nombres de 5 personas. Contar cuantos de esos nombres tienen 5 o más caracteres."
   ]
  },
  {
   "cell_type": "code",
   "execution_count": 20,
   "metadata": {},
   "outputs": [
    {
     "name": "stdout",
     "output_type": "stream",
     "text": [
      "The amount:  4\n",
      "The amount:  4\n"
     ]
    }
   ],
   "source": [
    "# list\n",
    "text=[\"Jhon\",\"Leidy\",\"Arbey\",\"Camila\",\"Valentina\"]\n",
    "# count number of characters\n",
    "countCh=0\n",
    "for name in text:\n",
    "    if(len(name)>=5):\n",
    "        countCh+=1\n",
    "print(\"The amount: \",countCh)\n",
    "\n",
    "#With while\n",
    "countCh=0\n",
    "i=0\n",
    "while i<len(text):\n",
    "    if(len(text[i])>=5):\n",
    "        countCh+=1\n",
    "    # increase counter    \n",
    "    i+=1\n",
    "print(\"The amount: \",countCh)"
   ]
  }
 ],
 "metadata": {
  "kernelspec": {
   "display_name": "Python 3",
   "language": "python",
   "name": "python3"
  },
  "language_info": {
   "codemirror_mode": {
    "name": "ipython",
    "version": 3
   },
   "file_extension": ".py",
   "mimetype": "text/x-python",
   "name": "python",
   "nbconvert_exporter": "python",
   "pygments_lexer": "ipython3",
   "version": "3.7.6"
  }
 },
 "nbformat": 4,
 "nbformat_minor": 4
}
