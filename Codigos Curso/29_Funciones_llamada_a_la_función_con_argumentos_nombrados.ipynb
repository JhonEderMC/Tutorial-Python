{
 "cells": [
  {
   "cell_type": "markdown",
   "metadata": {},
   "source": [
    "# 29 - Funciones: llamada a la función con argumentos nombrados\n",
    "Esta característica de Python nos permite llamar a la función indicando en cualquier orden los parámetros de la misma, pero debemos especificar en la llamada el nombre del parámetro y el valor a enviarle.\n",
    "\n",
    "## Ejemplos\n",
    "### Ejemplo 1\n",
    "Confeccionar una función que reciba el nombre de un operario, el pago por hora y la cantidad de horas trabajadas. Debe mostrar su sueldo y el nombre. Hacer la llamada de la función mediante argumentos nombrados."
   ]
  },
  {
   "cell_type": "code",
   "execution_count": 6,
   "metadata": {
    "scrolled": true
   },
   "outputs": [
    {
     "name": "stdout",
     "output_type": "stream",
     "text": [
      "Operator:\n",
      "Name:  Pepe\n",
      "Salary:  62.400000000000006 |\n",
      "Operator:\n",
      "Name:  Jhon\n",
      "Salary:  240 |\n",
      "Operator:\n",
      "Name:  Estiben\n",
      "Salary:  200 |\n"
     ]
    }
   ],
   "source": [
    "# operator data\n",
    "def operator_data(name,salary,hours):\n",
    "    print(\"Name: \",name)\n",
    "    print(\"Salary: \",salary*hours,end= \" \")\n",
    "    print(\"|\")\n",
    "    \n",
    "print (\"Operator:\")    \n",
    "operator_data(\"Pepe\",10.4,6)\n",
    "print (\"Operator:\")    \n",
    "operator_data(name=\"Jhon\",salary=20,hours=12)  \n",
    "print (\"Operator:\")    \n",
    "operator_data(salary=20,hours=10,name=\"Estiben\")\n"
   ]
  },
  {
   "cell_type": "markdown",
   "metadata": {},
   "source": [
    "Pero también podemos indicar los datos en cualquier orden pero con la obligación de anteceder el nombre del parámetro:\n",
    "\n",
    "   `operator_data(salary=20,hours=10,name=\"Estiben\")`\n",
    "   \n",
    " **Nota**: La función print tiene un parámetro llamado `end`, también hay que tener en cuenta que este parámetro por defecto tiene asignado \"\\n\" que es el salto de línea y es por eso que cada vez que se ejecuta un print se produce un salto de línea.\n",
    "Podemos indicar al parámetro end otro valor, por ejemplo un guión (en este caso espacio en blanco):\n",
    "\n",
    " `print(\"Salary: \",salary*hours,end= \" \")`\n",
    " \n",
    "### Ejemplo 2\n",
    "Cargar una lista de 10 enteros, luego mostrarlos por pantalla a cada elemento separados por una coma.\n"
   ]
  },
  {
   "cell_type": "code",
   "execution_count": 8,
   "metadata": {},
   "outputs": [
    {
     "name": "stdout",
     "output_type": "stream",
     "text": [
      "The amount of list: 10\n",
      "Enter a number 1 of 10 :  1\n",
      "Enter a number 2 of 10 :  2\n",
      "Enter a number 3 of 10 :  3\n",
      "Enter a number 4 of 10 :  4\n",
      "Enter a number 5 of 10 :  5\n",
      "Enter a number 6 of 10 :  6\n",
      "Enter a number 7 of 10 :  7\n",
      "Enter a number 8 of 10 :  8\n",
      "Enter a number 9 of 10 :  9\n",
      "Enter a number 10 of 10 :  10\n",
      "Numbers:   1, 2, 3, 4, 5, 6, 7, 8, 9, 10, "
     ]
    }
   ],
   "source": [
    "# function create list numbers\n",
    "def create_list_numb():\n",
    "    #number list\n",
    "    listNumber=[]\n",
    "    # the length of list\n",
    "    n=int(input(\"The amount of list: \"))\n",
    "    for f in range(n):\n",
    "        # input number\n",
    "        v1=int(input(f\"Enter a number {f+1} of {n} :  \"))\n",
    "        # add list\n",
    "        listNumber.append(v1)\n",
    "    return listNumber\n",
    "\n",
    "# main\n",
    "# create list\n",
    "listNumber=create_list_numb()\n",
    "# print list\n",
    "print(\"Numbers: \", end=\"  \")\n",
    "# this list is separate with comma\n",
    "for number in listNumber:\n",
    "    print(number, end=\", \")\n",
    "\n"
   ]
  },
  {
   "cell_type": "markdown",
   "metadata": {},
   "source": [
    "Lo nuevo en este problema aparece cuando imprimimos los elementos de la lista, como necesitamos que se muestren todos en la misma línea y separados por coma cargamos en el parámetro end la cadena \",\":  `print(number, end=\", \")`\n",
    "\n",
    "**Nota:** Otro argumento nombrado importante para la función print de Python se llama **\"sep\"**, este indica que debe mostrarse entre cada dato a mostrar en la misma llamada print.\n",
    "Por ejemplo si ejecutamos:\n"
   ]
  },
  {
   "cell_type": "code",
   "execution_count": 9,
   "metadata": {},
   "outputs": [
    {
     "name": "stdout",
     "output_type": "stream",
     "text": [
      "uno dos tres\n"
     ]
    }
   ],
   "source": [
    "print(\"uno\",\"dos\",\"tres\")"
   ]
  },
  {
   "cell_type": "markdown",
   "metadata": {},
   "source": [
    "Luego el resultado es la impresión de los string en la misma línea y separados por un caracter en blanco (esto debido a que el parámetro sep tiene un valor por defecto de un espacio en blanco (sep=\" \"): uno dos tres\n",
    "\n",
    "Entonces podemos asignar al parámetro sep el valor que necesitemos, por ejemplo una coma:"
   ]
  },
  {
   "cell_type": "code",
   "execution_count": 10,
   "metadata": {},
   "outputs": [
    {
     "name": "stdout",
     "output_type": "stream",
     "text": [
      "uno,dos,tres\n"
     ]
    }
   ],
   "source": [
    "print(\"uno\",\"dos\",\"tres\",sep=\",\")"
   ]
  },
  {
   "cell_type": "markdown",
   "metadata": {},
   "source": [
    "## Problema propuesto\n",
    "### Problema 1\n",
    "Elaborar una función que muestre la tabla de multiplicar del valor que le enviemos como parámetro. Definir un segundo parámetro llamado termino que por defecto almacene el valor 10. Se deben mostrar tantos términos de la tabla de multiplicar como lo indica el segundo parámetro.\n",
    "Llamar a la función desde el bloque principal de nuestro programa con argumentos nombrados."
   ]
  },
  {
   "cell_type": "code",
   "execution_count": 18,
   "metadata": {},
   "outputs": [
    {
     "name": "stdout",
     "output_type": "stream",
     "text": [
      "Multiplication table: \n",
      "3 6 9 12 15 18 21 24 27 \n",
      "Multiplication table: \n",
      "2 4 6 8 10 12 14 16 18 20 22 "
     ]
    }
   ],
   "source": [
    "# function table of multiplication table\n",
    "# param number, until \n",
    "def multiplication_table(number,until=12):\n",
    "    for f in range(1,until):\n",
    "        print(number*f, end=\" \")\n",
    "        \n",
    "# main\n",
    "print(\"Multiplication table: \")\n",
    "multiplication_table(3,10)\n",
    "print(\"\\nMultiplication table: \")\n",
    "multiplication_table(2)"
   ]
  }
 ],
 "metadata": {
  "kernelspec": {
   "display_name": "Python 3",
   "language": "python",
   "name": "python3"
  },
  "language_info": {
   "codemirror_mode": {
    "name": "ipython",
    "version": 3
   },
   "file_extension": ".py",
   "mimetype": "text/x-python",
   "name": "python",
   "nbconvert_exporter": "python",
   "pygments_lexer": "ipython3",
   "version": "3.7.6"
  }
 },
 "nbformat": 4,
 "nbformat_minor": 4
}
