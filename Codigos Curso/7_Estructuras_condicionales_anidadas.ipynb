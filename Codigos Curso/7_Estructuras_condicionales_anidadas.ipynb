{
 "cells": [
  {
   "attachments": {
    "image.png": {
     "image/png": "[encoded data removed]"
    }
   },
   "cell_type": "markdown",
   "metadata": {},
   "source": [
    "# 7 - Estructuras condicionales anidadas\n",
    "Estamos en presencia de una estructura condicional anidada cuando por la rama del verdadero o el falso de una estructura condicional hay otra estructura condicional.\n",
    "![image.png](attachment:image.png)\n",
    "El diagrama de flujo que se presenta contiene dos estructuras condicionales. La principal se trata de una estructura condicional compuesta y la segunda es una estructura condicional simple y está contenida por la rama del falso de la primer estructura.\n",
    "Es común que se presenten estructuras condicionales anidadas aún más complejas.\n",
    "\n",
    "## Ejemplo 1\n",
    "Confeccionar un programa que pida por teclado tres notas de un alumno, calcule el promedio e imprima alguno de estos mensajes:\n",
    "Si el promedio es >=3.5 mostrar \"Promocionado\".\n",
    "Si el promedio es >=2.8 y <3.5 mostrar \"Regular\".\n",
    "Si el promedio es <2.8 mostrar \"Reprobado\"."
   ]
  },
  {
   "cell_type": "code",
   "execution_count": 6,
   "metadata": {},
   "outputs": [
    {
     "name": "stdout",
     "output_type": "stream",
     "text": [
      "Enter grade1:3\n",
      "Enter grade2:2\n",
      "Enter grade3:3\n",
      "The sutudent is no promoved  2.6666666666666665\n"
     ]
    }
   ],
   "source": [
    "#Enter stundent's grade\n",
    "grade1 = float (input(\"Enter grade1:\"))\n",
    "grade2 = float (input(\"Enter grade2:\"))\n",
    "grade3 = float (input(\"Enter grade3:\"))\n",
    "#average grade\n",
    "average=(grade1+grade2+grade3)/3\n",
    "#promoted or not\n",
    "if(average>= 3.5):\n",
    "    print(\"The student's promoved \", average)\n",
    "elif(average >=2.8 and average <3.5):\n",
    "    print(\"The student's regular \", average)\n",
    "elif(average<=2.8):\n",
    "    print(\"The sutudent is no promoved \",average)"
   ]
  },
  {
   "cell_type": "markdown",
   "metadata": {},
   "source": [
    "### Problema 1\n",
    "Se cargan por teclado tres números distintos. Mostrar por pantalla el mayor de ellos."
   ]
  },
  {
   "cell_type": "code",
   "execution_count": 10,
   "metadata": {},
   "outputs": [
    {
     "name": "stdout",
     "output_type": "stream",
     "text": [
      "Enter a number1: 9\n",
      "Enter a number2: 3\n",
      "Enter a number3: 10\n",
      "The greater number is:  10\n"
     ]
    }
   ],
   "source": [
    "#numbers\n",
    "numb1=int (input(\"Enter a number1: \"))\n",
    "numb2=int (input(\"Enter a number2: \"))\n",
    "numb3=int (input(\"Enter a number3: \"))\n",
    "#greater number\n",
    "if(numb1>=numb2 and numb1>=numb3):\n",
    "    print(\"The greater number is: \",numb1)\n",
    "elif(numb2>numb1 and numb2>numb3):\n",
    "    print(\"The greater number is: \",numb2)\n",
    "elif(numb3>numb1 and numb3>numb1):\n",
    "    print(\"The greater number is: \",numb3)\n",
    "    "
   ]
  },
  {
   "cell_type": "markdown",
   "metadata": {},
   "source": [
    "### Problema 2\n",
    "Se ingresa por teclado un valor entero, mostrar una leyenda que indique si el número es positivo, negativo o nulo (es decir cero)"
   ]
  },
  {
   "cell_type": "code",
   "execution_count": 14,
   "metadata": {},
   "outputs": [
    {
     "name": "stdout",
     "output_type": "stream",
     "text": [
      "Enter the number11\n",
      "The number is positivo\n"
     ]
    }
   ],
   "source": [
    "#number\n",
    "number = int (input(\"Enter the number: \"))\n",
    "if(number<0): #negative\n",
    "    print(\"The number is negative\")\n",
    "elif(number==0): #zero\n",
    "    print(\"The number is zero\")\n",
    "else : #positive\n",
    "    print(\"The number is positivo\")\n"
   ]
  },
  {
   "cell_type": "markdown",
   "metadata": {},
   "source": [
    "### problema 3\n",
    "Confeccionar un programa que permita cargar un número entero positivo de hasta tres cifras y muestre un mensaje indicando si tiene 1, 2, o 3 cifras. Mostrar un mensaje de error si el número de cifras es mayor."
   ]
  },
  {
   "cell_type": "code",
   "execution_count": 22,
   "metadata": {},
   "outputs": [
    {
     "name": "stdout",
     "output_type": "stream",
     "text": [
      "Enter the number-1000\n",
      "Error!\n"
     ]
    }
   ],
   "source": [
    "#number\n",
    "number = int (input(\"Enter the number\"))\n",
    "if(number<0):\n",
    "    number=number*-1\n",
    "if(number>=0 and number<10): # 1 digit\n",
    "    print(\"The number has one digit\")\n",
    "elif(number>=10 and number<100): #2 digit\n",
    "    print(\"The number has two digits\")\n",
    "elif (number>=100 and number<1000) : # 3 digits\n",
    "    print(\"The number has three digits\")\n",
    "elif (number>=1000): #error\n",
    "    print(\"Error!\")"
   ]
  },
  {
   "cell_type": "markdown",
   "metadata": {},
   "source": [
    "### Problema 4\n",
    "Un postulante a un empleo, realiza un test de capacitación, se obtuvo la siguiente información: cantidad total de preguntas que se le realizaron y la cantidad de preguntas que contestó correctamente. Se pide confeccionar un programa que ingrese los dos datos por teclado e informe el nivel del mismo `según el porcentaje de respuestas correctas que ha obtenido`, y sabiendo que:\n",
    "\n",
    "* Nivel máximo:\tPorcentaje>=90% <     \n",
    "* Nivel medio:\tPorcentaje>=75% y<90%          \n",
    "* Nivel regular:\tPorcentaje>=50% y <75% \n",
    "* Fuera de nivel:\tPorcentaje<50%\n",
    "\n"
   ]
  },
  {
   "cell_type": "code",
   "execution_count": 30,
   "metadata": {},
   "outputs": [
    {
     "name": "stdout",
     "output_type": "stream",
     "text": [
      "Enter the number of question: 20\n",
      "number of correct answers: 9\n",
      "out level\n",
      "45.0\n"
     ]
    }
   ],
   "source": [
    "#number of questions\n",
    "num_Questions=int(input(\"Enter the number of question: \"))\n",
    "num_Correct_Answerns=int(input(\"number of correct answers: \"))\n",
    "#percentage\n",
    "percentage=float(num_Correct_Answerns*100)/num_Questions\n",
    "#level\n",
    "if(percentage>=90):\n",
    "    print(\"max level\")\n",
    "elif (percentage>=75 and percentage<90):\n",
    "    print(\"mediun level\")\n",
    "elif (percentage>=50 and percentage<75):\n",
    "    print (\"regular level\")\n",
    "elif(percentage<50):\n",
    "    print(\"out level\")\n",
    "print(percentage)\n"
   ]
  }
 ],
 "metadata": {
  "kernelspec": {
   "display_name": "Python 3",
   "language": "python",
   "name": "python3"
  },
  "language_info": {
   "codemirror_mode": {
    "name": "ipython",
    "version": 3
   },
   "file_extension": ".py",
   "mimetype": "text/x-python",
   "name": "python",
   "nbconvert_exporter": "python",
   "pygments_lexer": "ipython3",
   "version": "3.7.6"
  }
 },
 "nbformat": 4,
 "nbformat_minor": 4
}
