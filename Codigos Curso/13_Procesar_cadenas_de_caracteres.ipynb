{
 "cells": [
  {
   "cell_type": "markdown",
   "metadata": {},
   "source": [
    "# 13 - Procesar cadenas de caracteres\n",
    "a hemos visto que podemos cargar una cadena de caracteres por asignación:\n",
    "`\n",
    "#con doble comillas\n",
    "cadena1=\"juan\"\n",
    "#el resultado es igual con simple comillas\n",
    "cadena2='ana'`\n",
    "También podemos cargarla por teclado:             \n",
    "\n",
    "nombre=input(\"Ingrese su nombre:\")\n",
    "Podemos utilizar los operadores relacionales para identificar si dos cadenas son iguales, distintas o cual es la mayor alfabética:\n",
    "\n",
    "`== Igualdad`  \n",
    "\n",
    "`!= Desigualdad`\n",
    "\n",
    "`< menor`\n",
    "\n",
    "`<= menor o igual`\n",
    "\n",
    "`> mayor`\n",
    "\n",
    "`>= mayor o igual`\n",
    "\n",
    "Como su nombre lo indica una cadena de caracteres está formada generalmente por varios caracteres (de todos modos podría tener solo un caracter o ser una cadena vacía)\n",
    "Podemos acceder en forma individual a cada caracter del string mediante un subíndice:\n",
    "\n",
    "`nombre='juan'\n",
    "print(nombre[0])   #se imprime una j\n",
    "if nombre[0]==\"j\": #verificamos si el primer caracter del string es una j\n",
    "    print(nombre)\n",
    "    print(\"comienza con la letra j\")`\n",
    "    \n",
    "Los subíndices comienzan a numerarse a partir del cero.\n",
    "\n",
    "Si queremos conocer la longitud de un string en Python disponemos de una función llamada len que retorna la cantidad de caracteres que contiene:\n",
    "\n",
    "`nombre='juan'\n",
    "print(len(nombre))`\n",
    "\n",
    "El programa anterior imprime un 4 ya que la cadena nombre almacena 'juan' que tiene cuatro caracteres.\n",
    "## Ejemplos \n",
    "### Ejemplo 1\n",
    "Realizar la carga del nombre de una persona y luego mostrar el primer caracter del nombre y la cantidad de letras que lo componen."
   ]
  },
  {
   "cell_type": "code",
   "execution_count": 2,
   "metadata": {
    "scrolled": true
   },
   "outputs": [
    {
     "name": "stdout",
     "output_type": "stream",
     "text": [
      "Enter a name: Jhon\n",
      "The first character of Jhon is: J\n",
      "The length of Jhon is: 4\n"
     ]
    }
   ],
   "source": [
    "name=input(\"Enter a name: \")\n",
    "print(f\"The first character of {name} is: {name[0]}\")\n",
    "print(f\"The length of {name} is: {len(name)}\")"
   ]
  },
  {
   "cell_type": "markdown",
   "metadata": {},
   "source": [
    "### Ejemplo 2 \n",
    "Solicitar la carga del nombre de una persona en minúsculas. Mostrar un mensaje si comienza con vocal dicho nombre."
   ]
  },
  {
   "cell_type": "code",
   "execution_count": 4,
   "metadata": {},
   "outputs": [
    {
     "name": "stdout",
     "output_type": "stream",
     "text": [
      "Enter a name: arbey\n",
      "arbey begins with a vowel\n"
     ]
    }
   ],
   "source": [
    "#name\n",
    "name=input(\"Enter a name: \")\n",
    "if(name[0]==\"a\" or name[0]==\"e\" or name[0]==\"i\" or name[0]==\"o\" or name[0]==\"u\"):\n",
    "    print(f\"{name} begins with a vowel\")\n",
    "else:\n",
    "    print(f\"{name} does not begin with a vowel\")"
   ]
  },
  {
   "cell_type": "markdown",
   "metadata": {},
   "source": [
    "### Ejemplo 3\n",
    "Ingresar un mail por teclado. Verificar si el string ingresado contiene solo un caracter \"@\"."
   ]
  },
  {
   "cell_type": "code",
   "execution_count": 13,
   "metadata": {},
   "outputs": [
    {
     "name": "stdout",
     "output_type": "stream",
     "text": [
      "enter a email: jhoneder@hotmail.com\n",
      "The email has one @\n"
     ]
    }
   ],
   "source": [
    "# mail\n",
    "mail=input(\"enter a email: \")\n",
    "#counter while\n",
    "i=0\n",
    "counterArroba=0\n",
    "while i<len(mail):\n",
    "    if(mail[i]==\"@\"):        \n",
    "        counterArroba+=1        \n",
    "    #increase counter\n",
    "    i+=1\n",
    "if(counterArroba==1):\n",
    "    print(\"The email has one @\")\n",
    "else:\n",
    "    print(\"Incorrect\")"
   ]
  },
  {
   "cell_type": "markdown",
   "metadata": {},
   "source": [
    "## Métodos propios de las cadenas de caracteres.\n",
    "Los string tienen una serie de métodos (funciones aplicables solo a los string) que nos facilitan la creación de nuestros programas.\n",
    "\n",
    "Los primeros tres métodos que veremos se llaman: lower, upper y capitalize.\n",
    "\n",
    "**upper() :** devuelve una cadena de caracteres convertida todos sus caracteres a mayúsculas.\n",
    "\n",
    "**lower() :** devuelve una cadena de caracteres convertida todos sus caracteres a minúsculas.\n",
    "\n",
    "**capitalize() :** devuelve una cadena de caracteres convertida a mayúscula solo su primer caracter y todos los demás a minúsculas.\n",
    "\n",
    "### Ejemplo 4\n",
    "Inicializar un string con la cadena \"mAriA\" luego llamar a sus métodos upper(), lower() y capitalize(), guardar los datos retornados en otros string y mostrarlos por pantalla.\n"
   ]
  },
  {
   "cell_type": "code",
   "execution_count": 28,
   "metadata": {
    "scrolled": true
   },
   "outputs": [
    {
     "name": "stdout",
     "output_type": "stream",
     "text": [
      "mAriA\n",
      "Upper case: MARIA\n",
      "Lower case:  maria\n",
      "Capitalizae case:  Maria\n"
     ]
    }
   ],
   "source": [
    "text1=\"mAriA\"\n",
    "#upper case\n",
    "print(text1)\n",
    "text2=text1.upper()\n",
    "print(f\"Upper case: {text2}\")\n",
    "#lower case\n",
    "text2=text1.lower()\n",
    "print(\"Lower case: \",text2)\n",
    "text2=text1.capitalize()\n",
    "print(\"Capitalizae case: \",text2)"
   ]
  },
  {
   "cell_type": "code",
   "execution_count": 25,
   "metadata": {
    "scrolled": true
   },
   "outputs": [
    {
     "name": "stdout",
     "output_type": "stream",
     "text": [
      "Help on built-in function upper:\n",
      "\n",
      "upper() method of builtins.str instance\n",
      "    Return a copy of the string converted to uppercase.\n",
      "\n"
     ]
    }
   ],
   "source": [
    "text1=\"ss\"\n",
    "help(text1.upper)"
   ]
  },
  {
   "cell_type": "markdown",
   "metadata": {},
   "source": [
    "## Problemas\n",
    "### Problema 1\n",
    "Cargar una oración por teclado. Mostrar luego cuantos espacios en blanco se ingresaron. Tener en cuenta que un espacio en blanco es igual a\n",
    "\" \", en cambio una cadena vacía es \"\"\n"
   ]
  },
  {
   "cell_type": "code",
   "execution_count": 40,
   "metadata": {},
   "outputs": [
    {
     "name": "stdout",
     "output_type": "stream",
     "text": [
      "Enter text: Jhon Eder Mosquera Cáceres\n",
      "The blanck space:  3\n"
     ]
    }
   ],
   "source": [
    "#count blank Space\n",
    "countBlank=0\n",
    "text=input(\"Enter text: \")\n",
    "for f in range(len(text)):\n",
    "    if(text[f]==\" \"):\n",
    "        countBlank+=1\n",
    "print(\"The blanck space: \",countBlank)\n",
    "        "
   ]
  },
  {
   "cell_type": "markdown",
   "metadata": {},
   "source": [
    "### Problema 2\n",
    "Ingresar una oración que pueden tener letras tanto en mayúsculas como minúsculas. Contar la cantidad de vocales. "
   ]
  },
  {
   "cell_type": "code",
   "execution_count": 2,
   "metadata": {},
   "outputs": [
    {
     "name": "stdout",
     "output_type": "stream",
     "text": [
      "Enter text: Esto es un Texto\n",
      "The number of vowels:  6\n"
     ]
    }
   ],
   "source": [
    "#text (Esto es un texto): 6\n",
    "text=input(\"Enter text: \")\n",
    "#auxiliar text (lower case)\n",
    "textAuxt=text.lower()\n",
    "#count vowel\n",
    "countVowel=0\n",
    "#scroll text\n",
    "for f in range(len(textAuxt)):\n",
    "    x=textAuxt[f]\n",
    "    # a vowel\n",
    "    if(x=='a' or x=='e' or x=='i' or x=='o' or x=='u'):\n",
    "        countVowel+=1\n",
    "print(\"The number of vowels: \",countVowel)"
   ]
  },
  {
   "cell_type": "markdown",
   "metadata": {},
   "source": [
    "### Problema 3\n",
    "Solicitar el ingreso de una clave por teclado y almacenarla en una cadena de caracteres. Controlar que el string ingresado tenga entre 10 y 20 caracteres para que sea válido, en caso contrario mostrar un mensaje de error."
   ]
  },
  {
   "cell_type": "code",
   "execution_count": 4,
   "metadata": {},
   "outputs": [
    {
     "name": "stdout",
     "output_type": "stream",
     "text": [
      "Enter password: jhon\n",
      "The password should have between 10 and 20 characters\n",
      "Enter password: 21314\n",
      "The password should have between 10 and 20 characters\n",
      "Enter password: jhon21314\n",
      "The password should have between 10 and 20 characters\n",
      "Enter password: jhon.4560032\n"
     ]
    }
   ],
   "source": [
    "# password\n",
    "password=\"\"\n",
    "# The passWord is correct\n",
    "passWordCorrect=False\n",
    "while (passWordCorrect!=True):\n",
    "    password=input(\"Enter password: \")\n",
    "    # it should have between 10 and 20 characters\n",
    "    if(len(password)>=10 and len(password)<=20):\n",
    "        passWordCorrect=True\n",
    "    else:\n",
    "        print(\"The password should have between 10 and 20 characters\")\n",
    "        \n",
    "    \n"
   ]
  }
 ],
 "metadata": {
  "kernelspec": {
   "display_name": "Python 3",
   "language": "python",
   "name": "python3"
  },
  "language_info": {
   "codemirror_mode": {
    "name": "ipython",
    "version": 3
   },
   "file_extension": ".py",
   "mimetype": "text/x-python",
   "name": "python",
   "nbconvert_exporter": "python",
   "pygments_lexer": "ipython3",
   "version": "3.7.6"
  }
 },
 "nbformat": 4,
 "nbformat_minor": 4
}
