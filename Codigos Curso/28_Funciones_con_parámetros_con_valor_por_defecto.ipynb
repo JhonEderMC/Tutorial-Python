{
 "cells": [
  {
   "cell_type": "markdown",
   "metadata": {},
   "source": [
    "# 28 - Funciones: con parámetros con valor por defecto\n",
    "En Python se pueden definir parámetros y asignarles un dato en la misma cabecera de la función. Luego cuando llamamos a la función podemos o no enviarle un valor al parámetro.\n",
    "\n",
    "Los parámetros por defecto nos permiten crear funciones más flexibles y que se pueden emplear en distintas circunstancias.\n",
    "\n",
    "### Ejemplo\n",
    "Confeccionar una función que reciba un string como parámetro y en forma opcional un segundo string con un caracter. La función debe mostrar el string subrayado con el caracter que indica el segundo parámetro"
   ]
  },
  {
   "cell_type": "code",
   "execution_count": 2,
   "metadata": {},
   "outputs": [
    {
     "name": "stdout",
     "output_type": "stream",
     "text": [
      "administration system\n",
      "*********************\n",
      "Ventas\n",
      "------\n"
     ]
    }
   ],
   "source": [
    "# function underline\n",
    "def title_underline(title,character=\"*\"):\n",
    "    print(title)\n",
    "    print(character*len(title))\n",
    "    \n",
    "# main\n",
    "title_underline(\"administration system\")\n",
    "title_underline(\"Ventas\",\"-\")\n",
    "    "
   ]
  },
  {
   "cell_type": "markdown",
   "metadata": {},
   "source": [
    "Lo primero importante en notar que la llamada a la función `title_underline` la podemos hacer enviándole un dato o dos datos:\n",
    "\n",
    "`title_underline(\"administration system\")`\n",
    "`title_underline(\"Ventas\",\"-\")` \n",
    "Esto no podría ser correcto si no utilizamos una sintaxis especial cuando declaramos los parámetros de la función:\n",
    "\n",
    "`\n",
    "def title_underline(title,character=\"*\"):\n",
    "    print(title)\n",
    "    print(character*len(title)) `\n",
    "    \n",
    "Como vemos el parámetro caracter tiene una asignación de un valor por defecto para los casos que llamamos a la función con un solo parámetro.\n",
    "\n",
    "Cuando la llamamos a la función `title_underline` con un solo parámetro luego el parámetro caracter almacena el valor \"*\". Si llamamos a la función y le pasamos dos parámetros en nuestro ejemplo caracter almacena el string \"-\"\n",
    "\n",
    "Para mostrar subrayado el titulo procedemos a imprimir el caracter del segundo parámetro tantas veces como caracteres tenga el string del titulo. Utilizamos una propiedad de los string en Python que nos permite utilizar el operador matemático * y generar un string del largo del título:\n",
    "\n",
    "    print(character*len(title))\n",
    "    \n",
    "**Importante**\n",
    "\n",
    "Los parámetros por defecto deben ser los últimos que se declaren en la función. Se genera un error sintáctico si tratamos de definir una función indicando primero el o los parámetros con valores por defecto:\n",
    "\n",
    "### Problema \n",
    "Confeccionar una función que reciba entre 2 y 5 enteros. La misma nos debe retornar la suma de dichos valores. Debe tener tres parámetros por defecto.\n",
    "    "
   ]
  },
  {
   "cell_type": "code",
   "execution_count": 11,
   "metadata": {},
   "outputs": [
    {
     "name": "stdout",
     "output_type": "stream",
     "text": [
      "Sum 1+2\n",
      "Suma:  3\n",
      "Sum 1+2+3\n",
      "Suma:  9\n",
      "Sum 1+2+3+4\n",
      "Suma:  13\n",
      "Sum 1+2+3+4+5\n",
      "Suma:  18\n"
     ]
    }
   ],
   "source": [
    "# function sum five values\n",
    "def sum_values(v1,v2,v3=0,v4=0,v5=0):\n",
    "    suma=v1+v2+v3+v3+v4+v5\n",
    "    return suma\n",
    "\n",
    "# main\n",
    "print(\"Sum 1+2\")\n",
    "print(\"Suma: \",sum_values(1,2))\n",
    "print(\"Sum 1+2+3\")\n",
    "print(\"Suma: \",sum_values(1,2,3))\n",
    "print(\"Sum 1+2+3+4\")\n",
    "print(\"Suma: \",sum_values(1,2,3,4))\n",
    "print(\"Sum 1+2+3+4+5\")\n",
    "print(\"Suma: \",sum_values(1,2,3,4,5))\n",
    "\n",
    "    "
   ]
  },
  {
   "cell_type": "code",
   "execution_count": 10,
   "metadata": {},
   "outputs": [
    {
     "name": "stdout",
     "output_type": "stream",
     "text": [
      "Help on function sum_values in module __main__:\n",
      "\n",
      "sum_values(v1, v2, v3=0, v4=0, v5=0)\n",
      "    # function sum five values\n",
      "\n"
     ]
    }
   ],
   "source": [
    "help(sum_values)"
   ]
  }
 ],
 "metadata": {
  "kernelspec": {
   "display_name": "Python 3",
   "language": "python",
   "name": "python3"
  },
  "language_info": {
   "codemirror_mode": {
    "name": "ipython",
    "version": 3
   },
   "file_extension": ".py",
   "mimetype": "text/x-python",
   "name": "python",
   "nbconvert_exporter": "python",
   "pygments_lexer": "ipython3",
   "version": "3.7.6"
  }
 },
 "nbformat": 4,
 "nbformat_minor": 4
}
