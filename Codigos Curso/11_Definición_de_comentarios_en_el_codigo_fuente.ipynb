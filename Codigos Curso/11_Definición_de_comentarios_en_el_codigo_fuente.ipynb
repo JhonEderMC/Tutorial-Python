{
 "cells": [
  {
   "cell_type": "markdown",
   "metadata": {},
   "source": [
    "# 11 - Definición de comentarios en el código fuente\n",
    "Un programa en Python puede definir además del algoritmo propiamente dicho una serie de comentarios en el código fuente que sirvan para aclarar los objetivos de ciertas partes del programa.\n",
    "\n",
    "Tengamos en cuenta que un programa puede requerir mantenimiento del mismo en el futuro. Cuando hay que implementar cambios es bueno encontrar en el programa comentarios sobre el objetivo de las distintas partes del algoritmo, sobretodo si es complejo.\n",
    "\n",
    "Existen dos formas de definir comentarios en Python:\n",
    "\n",
    "Comentarios de una sola línea, se emplea el caracter #:\n",
    "\n",
    "`#definimos tres contadores\n",
    "conta1=0\n",
    "conta2=0\n",
    "conta3=0 `\n",
    "\n",
    "\n",
    "Todo lo que disponemos después del caracter # no se ejecuta\n",
    "\n",
    "Comentarios de varias líneas:\n",
    "\n",
    "`\n",
    "\"\"\"Definimos tres contadores\n",
    "   que se muestran si son distintos a cero\"\"\"\n",
    "conta1=0\n",
    "conta2=0\n",
    "conta3=0  `\n",
    "\n",
    "Se deben utilizar tres comillas simples o dobles seguidas al principio y al final del comentario.\n",
    "\n",
    "### Problema 1\n",
    "Realizar un programa que solicite la carga de valores enteros por teclado y los sume. Finalizar la carga al ingresar el valor -1. Dejar como comentario dentro del código fuente el enunciado del problema."
   ]
  },
  {
   "cell_type": "code",
   "execution_count": 2,
   "metadata": {},
   "outputs": [
    {
     "name": "stdout",
     "output_type": "stream",
     "text": [
      "Number(Stopt with -1):1\n",
      "Number(Stopt with -1):2\n",
      "Number(Stopt with -1):3\n",
      "Number(Stopt with -1):4\n",
      "Number(Stopt with -1):5\n",
      "Number(Stopt with -1):6\n",
      "Number(Stopt with -1):7\n",
      "Number(Stopt with -1):8\n",
      "Number(Stopt with -1):9\n",
      "Number(Stopt with -1):10\n",
      "Number(Stopt with -1):-1\n",
      "Sum:  55\n"
     ]
    }
   ],
   "source": [
    "\"\"\"\n",
    "Realizar un programa que solicite la carga de valores enteros \n",
    "por teclado y los sume. Finalizar la carga al ingresar el valor -1. \n",
    "Dejar como comentario dentro del código fuente el enunciado del problema.\n",
    "\"\"\"\n",
    "# stop with -1\n",
    "number=0\n",
    "sum=0\n",
    "while number!=-1:\n",
    "    number=int(input(\"Number(Stopt with -1):\"))\n",
    "    if( number!=-1):\n",
    "        #acumulate\n",
    "        sum+=number\n",
    "print(\"Sum: \",sum)\n"
   ]
  }
 ],
 "metadata": {
  "kernelspec": {
   "display_name": "Python 3",
   "language": "python",
   "name": "python3"
  },
  "language_info": {
   "codemirror_mode": {
    "name": "ipython",
    "version": 3
   },
   "file_extension": ".py",
   "mimetype": "text/x-python",
   "name": "python",
   "nbconvert_exporter": "python",
   "pygments_lexer": "ipython3",
   "version": "3.7.6"
  }
 },
 "nbformat": 4,
 "nbformat_minor": 4
}
