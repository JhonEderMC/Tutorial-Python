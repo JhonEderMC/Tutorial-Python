{
 "cells": [
  {
   "cell_type": "markdown",
   "metadata": {},
   "source": [
    "# 22 - Listas: eliminación de elementos\n",
    "Hemos visto que una lista la podemos iniciar por asignación indicando sus elementos.\n",
    "\n",
    "`lista=[10, 20, 30, 40]`\n",
    "\n",
    "También podemos agregarle elementos al final mediante el método append:\n",
    "\n",
    "`lista.append(120)`\n",
    "\n",
    "Si ahora imprimimos la lista tenemos como resultado:\n",
    "\n",
    "`[10, 20, 30, 40, 120]`\n",
    "\n",
    "Otra característica fundamental de las listas en Python es que podemos eliminar cualquiera de sus componentes llamando al método pop e indicando la posición del elemento a borrar:\n",
    "\n",
    "`lista.pop(0)`\n",
    "\n",
    "Ahora si imprimimos la lista luego de eliminar el primer elemento el resultado es:\n",
    "\n",
    "`[20, 30, 40, 120]`\n",
    "\n",
    "Otra cosa que hay que hacer notar que cuando un elemento de la lista se elimina no queda una posición vacía, sino se desplazan todos los elementos de la derecha una posición.\n",
    "\n",
    "El método pop retorna el valor almacenado en la lista en la posición indicada, aparte de borrarlo.\n",
    "\n",
    "`lista=[10, 20, 30, 40]\n",
    "print(lista.pop(0)) # imprime un 10`\n",
    "## Ejemplos\n",
    "### Ejemplo 1\n",
    "Crear una lista por asignación con 5 enteros. Eliminar el primero, el tercero y el último de la lista."
   ]
  },
  {
   "cell_type": "code",
   "execution_count": 3,
   "metadata": {},
   "outputs": [
    {
     "name": "stdout",
     "output_type": "stream",
     "text": [
      "[10, 20, 30, 40, 50]\n",
      "[20, 30, 40, 50]\n",
      "[20, 40, 50]\n",
      "[20, 40]\n"
     ]
    }
   ],
   "source": [
    "list1=[10, 20, 30, 40, 50]\n",
    "# print list\n",
    "print(list1)\n",
    "#delete first\n",
    "list1.pop(0)\n",
    "print(list1)\n",
    "# delete third\n",
    "list1.pop(1)\n",
    "print(list1)\n",
    "# deleted last\n",
    "list1.pop(2)\n",
    "print(list1)"
   ]
  },
  {
   "cell_type": "markdown",
   "metadata": {},
   "source": [
    "## Ejemplo 2\n",
    "Crear una lista y almacenar 10 enteros pedidos por teclado. Eliminar todos los elementos que sean iguales al número entero 5."
   ]
  },
  {
   "cell_type": "code",
   "execution_count": 9,
   "metadata": {},
   "outputs": [
    {
     "name": "stdout",
     "output_type": "stream",
     "text": [
      "Enter a number1: 2\n",
      "Enter a number2: 3\n",
      "Enter a number3: 4\n",
      "Enter a number4: 5\n",
      "Enter a number5: 7\n",
      "Enter a number6: 8\n",
      "Enter a number7: 5\n",
      "Enter a number8: 2\n",
      "Enter a number9: 3\n",
      "Enter a number10: 5\n",
      "List:  [2, 3, 4, 5, 7, 8, 5, 2, 3, 5]\n",
      "List:  [2, 3, 4, 7, 8, 2, 3]\n"
     ]
    }
   ],
   "source": [
    "#list\n",
    "list1=[]\n",
    "# enter data\n",
    "for f in range(10):\n",
    "    list1.append(int(input(f\"Enter a number{f+1}: \")))\n",
    "#print list\n",
    "print(\"List: \",list1)\n",
    "# deleted number 5\n",
    "#counter number o deleted (left Shift)\n",
    "i=0\n",
    "for f in range(len(list1)-i):\n",
    "    #if it's number five\n",
    "    #left shift, \n",
    "    x=f-i\n",
    "    if(list1[x]==5):\n",
    "        #deleted\n",
    "        list1.pop(x)\n",
    "        i+=1\n",
    "#print list\n",
    "print(\"List: \",list1)"
   ]
  },
  {
   "cell_type": "markdown",
   "metadata": {},
   "source": [
    "Otra forma con while"
   ]
  },
  {
   "cell_type": "code",
   "execution_count": 13,
   "metadata": {},
   "outputs": [
    {
     "name": "stdout",
     "output_type": "stream",
     "text": [
      "Enter a number1: 5\n",
      "Enter a number2: 3\n",
      "Enter a number3: 4\n",
      "Enter a number4: 5\n",
      "Enter a number5: 2\n",
      "Enter a number6: 4\n",
      "Enter a number7: 5\n",
      "Enter a number8: 3\n",
      "Enter a number9: 2\n",
      "Enter a number10: 5\n",
      "List:  [5, 3, 4, 5, 2, 4, 5, 3, 2, 5]\n",
      "List:  [3, 4, 2, 4, 3, 2]\n"
     ]
    }
   ],
   "source": [
    "# list\n",
    "list1=[]\n",
    "# enter data\n",
    "for f in range(10):\n",
    "    list1.append(int(input(f\"Enter a number{f+1}: \")))\n",
    "#print list\n",
    "print(\"List: \",list1)\n",
    "# counter deleted\n",
    "i=0\n",
    "while i<len(list1):\n",
    "    if(list1[i]==5):\n",
    "        list1.pop(i)\n",
    "    else:\n",
    "        i+=1\n",
    "print(\"List: \",list1)"
   ]
  },
  {
   "cell_type": "markdown",
   "metadata": {},
   "source": [
    "### Acotación: otra forma de eliminar elementos de una lista\n",
    "Para eliminar elementos de una lista también es empleada la función \"**del**\" pasando como parámetro la referencia de la componente a eliminar:\n",
    "\n",
    "`lista=[10, 20, 30, 40, 50]\n",
    "\n",
    "print(lista)\n",
    "\n",
    "del(lista[0])\n",
    "del(lista[1])\n",
    "del(lista[2])\n",
    "\n",
    "print(lista) # 20 40`"
   ]
  },
  {
   "cell_type": "code",
   "execution_count": 4,
   "metadata": {},
   "outputs": [
    {
     "name": "stdout",
     "output_type": "stream",
     "text": [
      "[10, 20, 30, 40, 50]\n",
      "[20, 40]\n"
     ]
    }
   ],
   "source": [
    "list2=[10, 20, 30, 40, 50]\n",
    "print(list2)\n",
    "del(list2[0])\n",
    "del(list2[1])\n",
    "del(list2[2])\n",
    "print(list2)"
   ]
  },
  {
   "cell_type": "code",
   "execution_count": 10,
   "metadata": {},
   "outputs": [
    {
     "data": {
      "text/plain": [
       "3198"
      ]
     },
     "execution_count": 10,
     "metadata": {},
     "output_type": "execute_result"
    }
   ],
   "source": [
    "10566-7368"
   ]
  },
  {
   "cell_type": "markdown",
   "metadata": {},
   "source": [
    "## Problemas propuestos\n",
    "### Problema 1\n",
    "Crear dos listas paralelas. En la primera ingresar los nombres de empleados y en la segunda los sueldos de cada empleado.\n",
    "Ingresar por teclado cuando inicia el programa la cantidad de empleados de la empresa.\n",
    "Borrar luego todos los empleados que tienen un sueldo mayor a 10000 (tanto el sueldo como su nombre)"
   ]
  },
  {
   "cell_type": "code",
   "execution_count": 3,
   "metadata": {
    "scrolled": true
   },
   "outputs": [
    {
     "name": "stdout",
     "output_type": "stream",
     "text": [
      "The number of employee: 4\n",
      "Enter the employee name1: Santiago\n",
      "Enter Santiago's salary: 1000\n",
      "Enter the employee name2: Jualiana\n",
      "Enter Jualiana's salary: 600\n",
      "Enter the employee name3: Jenny\n",
      "Enter Jenny's salary: 100\n",
      "Enter the employee name4: Luisa\n",
      "Enter Luisa's salary: 2000\n",
      "Employees data:  \n",
      "Name: Santiago -- Salary: $1000\n",
      "Name: Jualiana -- Salary: $600\n",
      "Name: Jenny -- Salary: $100\n",
      "Name: Luisa -- Salary: $2000\n",
      "Employees data:  \n",
      "Name: Santiago -- Salary: $1000\n",
      "Name: Jualiana -- Salary: $600\n",
      "Name: Jenny -- Salary: $100\n"
     ]
    }
   ],
   "source": [
    "## list \n",
    "# employees name\n",
    "listName=[]\n",
    "# employees Salary\n",
    "listSalary=[]\n",
    "# the number of employee\n",
    "n=int(input(\"The number of employee: \"))\n",
    "# enter employee data\n",
    "for f in range(n):\n",
    "    # add empy\n",
    "    listName.append([])\n",
    "    # add employee name\n",
    "    listName[f].append(input(f\"Enter the employee name{f+1}: \"))\n",
    "    # add empty\n",
    "    listSalary.append([])\n",
    "    # add employee salary\n",
    "    listSalary[f].append(int(input(f\"Enter {listName[f][0]}'s salary: \")))\n",
    "    \n",
    "# print data\n",
    "print (\"Employees data:  \")\n",
    "for f in range (len(listName)):\n",
    "    print(f\"Name: {listName[f][0]} -- Salary: ${listSalary[f][0]}\")\n",
    "\n",
    "# deleted employees whose salary is greater than 1000i\n",
    "# counter\n",
    "i=0\n",
    "while i<len(listSalary):\n",
    "    # compare if employee is greater than 1000\n",
    "    if (listSalary[i][0]>1000):\n",
    "        # elimined this employee\n",
    "        listName.pop(i)\n",
    "        listSalary.pop(i)\n",
    "        # the list is moved to the left one position(length (list)-1)\n",
    "    else:\n",
    "        #increase counter\n",
    "        i+=1\n",
    "# print data        \n",
    "print (\"Employees data:  \")\n",
    "for f in range (len(listName)):\n",
    "    print(f\"Name: {listName[f][0]} -- Salary: ${listSalary[f][0]}\")"
   ]
  },
  {
   "cell_type": "markdown",
   "metadata": {},
   "source": [
    "### Problema 2\n",
    "Crear una lista de 5 enteros y cargarlos por teclado. Borrar los elementos mayores o iguales a 10 y generar una nueva lista con dichos valores."
   ]
  },
  {
   "cell_type": "code",
   "execution_count": 12,
   "metadata": {},
   "outputs": [
    {
     "name": "stdout",
     "output_type": "stream",
     "text": [
      "Enter a number1: 11\n",
      "Enter a number2: 12\n",
      "Enter a number3: 14\n",
      "Enter a number4: 0\n",
      "Enter a number5: 7\n",
      "List: [11, 12, 14, 0, 7]\n",
      "list deleted: [0, 7]\n"
     ]
    }
   ],
   "source": [
    "# list numbers\n",
    "listNumb=[]\n",
    "# list of numbers deleted\n",
    "listNumbDeleted=[]\n",
    "# enter numbers\n",
    "for f in range(5):\n",
    "    listNumb.append(int(input(f\"Enter a number{f+1}: \")))\n",
    "\n",
    "# new list\n",
    "#listNumbDeleted=listNumb\n",
    "listNumbDeleted=listNumb.copy()\n",
    "# deleted numbers are greater than 10\n",
    "#counter \n",
    "i=0\n",
    "while i<len(listNumbDeleted):\n",
    "    # this number is greater\n",
    "    if(listNumbDeleted[i]>10):\n",
    "        # deleted number\n",
    "        listNumbDeleted.pop(i)\n",
    "        # the list is moved to the left one position\n",
    "    #counter   \n",
    "    else:\n",
    "        i+=1\n",
    "print(\"List:\",listNumb)\n",
    "print(\"list deleted:\", listNumbDeleted)\n",
    "\n",
    "    \n",
    "    "
   ]
  },
  {
   "cell_type": "code",
   "execution_count": 16,
   "metadata": {},
   "outputs": [
    {
     "name": "stdout",
     "output_type": "stream",
     "text": [
      "[1, 2, 3, 4, 5, 6, 7]\n",
      "[1, 2, 3, 4, 5, 6, 7]\n",
      "[2, 3, 4, 5]\n"
     ]
    }
   ],
   "source": [
    "# Otra forma de copiar\n",
    "a=[1,2,3,4,5,6,7]\n",
    "b=a[:]\n",
    "c=a[1:5]\n",
    "print(a)\n",
    "print(b)\n",
    "print(c)"
   ]
  }
 ],
 "metadata": {
  "kernelspec": {
   "display_name": "Python 3",
   "language": "python",
   "name": "python3"
  },
  "language_info": {
   "codemirror_mode": {
    "name": "ipython",
    "version": 3
   },
   "file_extension": ".py",
   "mimetype": "text/x-python",
   "name": "python",
   "nbconvert_exporter": "python",
   "pygments_lexer": "ipython3",
   "version": "3.7.6"
  }
 },
 "nbformat": 4,
 "nbformat_minor": 4
}
