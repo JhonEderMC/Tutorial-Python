{
 "cells": [
  {
   "cell_type": "markdown",
   "metadata": {},
   "source": [
    "# 37 - Porciones de listas, tuplas y cadenas de caracteres\n",
    "El lenguaje Python nos facilita una sintaxis muy sencilla par recuperar un trozo de una lista, tupla o cadena de caracteres.\n",
    "\n",
    "Veremos con una serie de ejemplos como podemos rescatar uno o varios elementos de las estructuras de datos mencionadas.\n",
    "\n",
    "## Ejemplos\n",
    "### Ejemplo 1"
   ]
  },
  {
   "cell_type": "code",
   "execution_count": 4,
   "metadata": {},
   "outputs": [
    {
     "name": "stdout",
     "output_type": "stream",
     "text": [
      "[2, 3, 4]\n",
      "[1, 2]\n",
      "[0, 1, 2]\n",
      "[2, 3, 4, 5, 6]\n"
     ]
    }
   ],
   "source": [
    "list1=[0,1,2,3,4,5,6]\n",
    "list2=list1[2:5] # print 2,3,4\n",
    "print(list2)\n",
    "list3=list1[1:3]# print 1,2\n",
    "print(list3)\n",
    "list4=list1[:3]# print 0,1,2\n",
    "print(list4)\n",
    "list5=list1[2:] # print 2,3,4,5,6\n",
    "print(list5)"
   ]
  },
  {
   "cell_type": "markdown",
   "metadata": {},
   "source": [
    "Para recuperar una \"porción\" o trozo de una lista debemos indicar en el subíndice dos valores separados por el caracter \":\".\n",
    "Del lado izquierdo indicamos a partir de que elementos queremos recuperar y del lado derecho hasta cual posición sin incluir dicho valor.\n",
    "\n",
    "Por ejemplo con la sintaxis:\n",
    "\n",
    "`\n",
    "list1=[0,1,2,3,4,5,6]\n",
    "list2=list1[2:5] # print 2,3,4\n",
    "print(list2)\n",
    "list3=list1[1:3]# print 1,2 `\n",
    "\n",
    "También es posible no indicar alguno de los dos valores:\n",
    "\n",
    "`list4=list1[:3]\n",
    "print(list4) # 0,1,2`\n",
    "\n",
    "Si no indicamos el primer valor estamos diciendo que queremos recuperar desde el principio de la lista hasta la posición menos uno indicada después de los dos puntos.\n",
    "\n",
    "En cambio si no indicamos el valor después de los dos puntos se recupera hasta el final de la lista:\n",
    "\n",
    "`list5=list1[2:]\n",
    "print(list5) # 2,3,4,5,6`\n",
    "\n",
    "### Ejemplo 2\n",
    "Confeccionar una función que le enviemos un número de mes como parámetro y nos retorne una tupla con todos los nombres de meses que faltan hasta fin de año."
   ]
  },
  {
   "cell_type": "code",
   "execution_count": 7,
   "metadata": {},
   "outputs": [
    {
     "name": "stdout",
     "output_type": "stream",
     "text": [
      "Imprimir los nombres de meses que faltan hasta fin de año\n",
      "Ingrese el numero de mes:3\n",
      "('May', 'June', 'July', 'August', 'September', 'October', 'November', 'December')\n"
     ]
    }
   ],
   "source": [
    "# function months \n",
    "def month_cut(pos=0):\n",
    "    month=(\"January\",\"February\",\"March\",\"May\",\"June\",\"July\",\"August\",\"September\",\"October\",\"November\",\"December\")\n",
    "    return month[pos:]\n",
    "\n",
    "#main     \n",
    "print(\"Imprimir los nombres de meses que faltan hasta fin de año\")\n",
    "numb=int(input(\"Ingrese el numero de mes:\"))\n",
    "m=month_cut(numb)\n",
    "print(m)\n",
    "    "
   ]
  },
  {
   "cell_type": "markdown",
   "metadata": {},
   "source": [
    "Utilizamos el concepto de porciones que nos brinda Python para recuperar en forma muy sencilla un trozo de una tupla. La función month_cut recibe como parámetro un entero y retorna una tupla:\n",
    "\n",
    "`\n",
    "def month_cut(pos=0):\n",
    "    month=(\"January\",\"February\",\"March\",\"May\",\"June\",\"July\",\"August\",\"September\",\"October\",\"November\",\"December\")\n",
    "    return month[pos:] `\n",
    "\n",
    "Como vemos generamos una tupla a partir del valor \"numeromes\" hasta el final de la tupla:\n",
    "\n",
    "    return month[pos:] \n",
    "    \n",
    "**Hay que tener en cuenta que el concepto de \"porciones\" se puede aplicar en forma indistinta a listas, tuplas y cadenas de caracteres.**\n",
    "\n",
    "### Ejemplo 3\n",
    "Confeccionar una función que reciba una cadena de caracteres y nos devuelva los tres primeros.\n",
    "En el bloque principal del programa definir una tupla con los nombres de meses. Mostrar por pantalla los primeros tres caracteres de cada mes."
   ]
  },
  {
   "cell_type": "code",
   "execution_count": 17,
   "metadata": {},
   "outputs": [
    {
     "name": "stdout",
     "output_type": "stream",
     "text": [
      "Jan - Feb - Mar - May - Jun - Jul - Aug - Sep - Oct - Nov - Dec - "
     ]
    }
   ],
   "source": [
    "#function firts three character\n",
    "# return first three character\n",
    "def first_three_character(cad):\n",
    "    return cad[:3]\n",
    "\n",
    "# function print months\n",
    "def month_print(month):\n",
    "    for m in month:\n",
    "        print(first_three_character(m),end=\" - \")\n",
    "\n",
    "#main\n",
    "month=(\"January\",\"February\",\"March\",\"May\",\"June\",\"July\",\"August\",\"September\",\"October\",\"November\",\"December\")\n",
    "month_print(month)"
   ]
  },
  {
   "cell_type": "markdown",
   "metadata": {},
   "source": [
    "La función first_three_character recibe un string y retorna los tres primeros caracteres:\n",
    "\n",
    "`def first_three_character(cad):\n",
    "    return cad[:3] `\n",
    "\n",
    "Otra forma"
   ]
  },
  {
   "cell_type": "code",
   "execution_count": 14,
   "metadata": {
    "scrolled": true
   },
   "outputs": [
    {
     "name": "stdout",
     "output_type": "stream",
     "text": [
      "Original: \n",
      "January - February - March - May - June - July - August - September - October - November - December - \n",
      "Cut: \n",
      "Jan - Feb - Mar - May - Jun - Jul - Aug - Sep - Oct - Nov - Dec - "
     ]
    }
   ],
   "source": [
    "\n",
    "# function first three characters\n",
    "def month_three_characters(mnth):\n",
    "    # empty list\n",
    "    m=[]\n",
    "    for month in mnth:\n",
    "        #add to list and extract first thre characters\n",
    "        m.append(month[:3])\n",
    "    # convert to tuple    \n",
    "    m=tuple(m)\n",
    "    return m\n",
    "\n",
    "# function print months\n",
    "def month_print(month):\n",
    "    for m in month:\n",
    "        print(m, end=\" - \")\n",
    "\n",
    "#main\n",
    "month=(\"January\",\"February\",\"March\",\"May\",\"June\",\"July\",\"August\",\"September\",\"October\",\"November\",\"December\")\n",
    "m=month_three_characters(month)\n",
    "print(\"Original: \")\n",
    "month_print(month)\n",
    "print(\"\\nCut: \")\n",
    "month_print(m)"
   ]
  },
  {
   "cell_type": "markdown",
   "metadata": {},
   "source": [
    "### Acotaciones\n",
    "El comando \"del\" de Python para la eliminación de componentes de una lista también funcionan con la sintaxis de porciones:"
   ]
  },
  {
   "cell_type": "code",
   "execution_count": 20,
   "metadata": {},
   "outputs": [
    {
     "data": {
      "text/plain": [
       "[0, 1, 5, 6]"
      ]
     },
     "execution_count": 20,
     "metadata": {},
     "output_type": "execute_result"
    }
   ],
   "source": [
    "list1=[0,1,2,3,4,5,6]\n",
    "del(list1[2:5]) # eliminated parameters of position 2,3,4\n",
    "list1"
   ]
  },
  {
   "cell_type": "markdown",
   "metadata": {},
   "source": [
    "## Problemas\n",
    "### Problema 1\n",
    "Realizar un programa que contenga las siguientes funciones:\n",
    "1. Carga de una lista de 10 enteros.\n",
    "2. Recibir una lista y retornar otra con la primer mitad (se sabe que siempre llega una lista con una cantidad par de elementos)\n",
    "3. Imprimir una lista."
   ]
  },
  {
   "cell_type": "code",
   "execution_count": 22,
   "metadata": {},
   "outputs": [
    {
     "name": "stdout",
     "output_type": "stream",
     "text": [
      "Enter a number1 of 10: 1\n",
      "Enter a number2 of 10: 2\n",
      "Enter a number3 of 10: 3\n",
      "Enter a number4 of 10: 4\n",
      "Enter a number5 of 10: 5\n",
      "Enter a number6 of 10: 6\n",
      "Enter a number7 of 10: 7\n",
      "Enter a number8 of 10: 8\n",
      "Enter a number9 of 10: 9\n",
      "Enter a number10 of 10: 10\n",
      "[1, 2, 3, 4, 5, 6, 7, 8, 9, 10]\n",
      "\n",
      "***********************************\n",
      "1 - 2 - 3 - 4 - 5 - 6 - 7 - 8 - 9 - 10 - \n",
      "***********************************\n",
      "1 - 2 - 3 - 4 - 5 - "
     ]
    }
   ],
   "source": [
    "# function create list numbers\n",
    "# return list\n",
    "def number_create():\n",
    "    i=0\n",
    "    numberList=[]\n",
    "    while i<10:\n",
    "        numb=int(input(f\"Enter a number{i+1} of 10: \"))\n",
    "        numberList.append(numb)\n",
    "        i+=1\n",
    "    return numberList\n",
    "\n",
    "# function return first half list\n",
    "def number_return_half(numb):\n",
    "    return numb[:len(numb)//2]\n",
    "\n",
    "# print list\n",
    "def list_print(v):\n",
    "    for x in v:\n",
    "        print(x, end=\" - \")\n",
    "#main\n",
    "# created list\n",
    "number=number_create()\n",
    "# print orignal list\n",
    "print(number)\n",
    "print()\n",
    "print(\"*\"*35)\n",
    "list_print(number)\n",
    "print()\n",
    "print(\"*\"*35)\n",
    "list_print(number_return_half(number))"
   ]
  },
  {
   "cell_type": "markdown",
   "metadata": {},
   "source": [
    "### Problema 2\n",
    "Cargar una cadena por teclado luego:\n",
    "1. Imprimir los dos primeros caracteres.\n",
    "2. Imprimir los dos últimos\n",
    "3. Imprimir todos menos el primero y el último caracter."
   ]
  },
  {
   "cell_type": "code",
   "execution_count": 24,
   "metadata": {},
   "outputs": [
    {
     "name": "stdout",
     "output_type": "stream",
     "text": [
      "Enter a text:abcdef\n",
      "Three first characters: abc\n",
      "The last two  characters: ef\n",
      "First all but the first and the last character: bcde\n"
     ]
    }
   ],
   "source": [
    "text=input(\"Enter a text: \")\n",
    "print(\"Three first characters:\",text[:3])\n",
    "print(\"The last two  characters:\",text[len(text)-2:])\n",
    "print(\"First all but the first and the last character:\",text[1:len(text)-1])\n",
    "    "
   ]
  }
 ],
 "metadata": {
  "kernelspec": {
   "display_name": "Python 3",
   "language": "python",
   "name": "python3"
  },
  "language_info": {
   "codemirror_mode": {
    "name": "ipython",
    "version": 3
   },
   "file_extension": ".py",
   "mimetype": "text/x-python",
   "name": "python",
   "nbconvert_exporter": "python",
   "pygments_lexer": "ipython3",
   "version": "3.7.6"
  }
 },
 "nbformat": 4,
 "nbformat_minor": 4
}
