{
 "cells": [
  {
   "attachments": {
    "image.png": {
     "image/png": "[encoded data removed]"
    }
   },
   "cell_type": "markdown",
   "metadata": {},
   "source": [
    "# 9 - Estructura repetitiva while\n",
    "Hasta ahora hemos empleado estructuras SECUENCIALES y CONDICIONALES. Existe otro tipo de estructuras tan importantes como las anteriores que son las estructuras REPETITIVAS.\n",
    "\n",
    "Una estructura repetitiva permite ejecutar una instrucción o un conjunto de instrucciones varias veces.\n",
    "\n",
    "Una ejecución repetitiva de sentencias se caracteriza por:\n",
    "- La sentencia o las sentencias que se repiten.\n",
    "- El test o prueba de condición antes de cada repetición, que motivará que se repitan o no las instrucciones.\n",
    "\n",
    "Estructura repetitiva while.\n",
    "Representación gráfica de la estructura while:\n",
    "![image.png](attachment:image.png)\n",
    "No debemos confundir la representación gráfica de la estructura repetitiva while (Mientras) con la estructura condicional if (Si)\n",
    "\n",
    "Funcionamiento: En primer lugar se verifica la condición, si la misma resulta verdadera se ejecutan las operaciones que indicamos por la rama del Verdadero.\n",
    "A la rama del verdadero la graficamos en la parte inferior de la condición. Una línea al final del bloque de repetición la conecta con la parte superior de la estructura repetitiva.\n",
    "En caso que la condición sea Falsa continúa por la rama del Falso y sale de la estructura repetitiva para continuar con la ejecución del algoritmo.\n",
    "\n",
    "`El bloque se repite MIENTRAS la condición sea Verdadera.`\n",
    "\n",
    "**Importante**: Si la condición siempre retorna verdadero estamos en presencia de un ciclo repetitivo infinito. Dicha situación es un error de programación lógico, nunca finalizará el programa.\n",
    "\n",
    "## Ejemplos\n",
    "\n",
    "### Ejemplo 1\n",
    "Realizar un programa que imprima en pantalla los números del 1 al 100."
   ]
  },
  {
   "cell_type": "code",
   "execution_count": 2,
   "metadata": {},
   "outputs": [
    {
     "name": "stdout",
     "output_type": "stream",
     "text": [
      "1\n",
      "2\n",
      "3\n",
      "4\n",
      "5\n",
      "6\n",
      "7\n",
      "8\n",
      "9\n",
      "10\n",
      "11\n",
      "12\n",
      "13\n",
      "14\n",
      "15\n",
      "16\n",
      "17\n",
      "18\n",
      "19\n",
      "20\n",
      "21\n",
      "22\n",
      "23\n",
      "24\n",
      "25\n",
      "26\n",
      "27\n",
      "28\n",
      "29\n",
      "30\n",
      "31\n",
      "32\n",
      "33\n",
      "34\n",
      "35\n",
      "36\n",
      "37\n",
      "38\n",
      "39\n",
      "40\n",
      "41\n",
      "42\n",
      "43\n",
      "44\n",
      "45\n",
      "46\n",
      "47\n",
      "48\n",
      "49\n",
      "50\n",
      "51\n",
      "52\n",
      "53\n",
      "54\n",
      "55\n",
      "56\n",
      "57\n",
      "58\n",
      "59\n",
      "60\n",
      "61\n",
      "62\n",
      "63\n",
      "64\n",
      "65\n",
      "66\n",
      "67\n",
      "68\n",
      "69\n",
      "70\n",
      "71\n",
      "72\n",
      "73\n",
      "74\n",
      "75\n",
      "76\n",
      "77\n",
      "78\n",
      "79\n",
      "80\n",
      "81\n",
      "82\n",
      "83\n",
      "84\n",
      "85\n",
      "86\n",
      "87\n",
      "88\n",
      "89\n",
      "90\n",
      "91\n",
      "92\n",
      "93\n",
      "94\n",
      "95\n",
      "96\n",
      "97\n",
      "98\n",
      "99\n",
      "100\n"
     ]
    }
   ],
   "source": [
    "# Number\n",
    "x=1\n",
    "while x<=100:\n",
    "    print(x)  \n",
    "    x+=1\n"
   ]
  },
  {
   "cell_type": "markdown",
   "metadata": {},
   "source": [
    "### Ejemplo 2\n",
    "Codificar un programa que solicite la carga de un valor positivo y nos muestre desde 1 hasta el valor ingresado de uno en uno."
   ]
  },
  {
   "cell_type": "code",
   "execution_count": null,
   "metadata": {},
   "outputs": [],
   "source": [
    "# Number\n",
    "n= int (input(\"Enter the number: \"))\n",
    "x=1\n",
    "while (x<=n):\n",
    "    print(x)\n",
    "    x+=1"
   ]
  },
  {
   "cell_type": "markdown",
   "metadata": {},
   "source": [
    "### Ejemplo 3 \n",
    "Desarrollar un programa que permita la carga de 10 valores por teclado y nos muestre posteriormente la suma de los valores ingresados y su promedio."
   ]
  },
  {
   "cell_type": "code",
   "execution_count": 1,
   "metadata": {},
   "outputs": [
    {
     "name": "stdout",
     "output_type": "stream",
     "text": [
      "Enter a number:1\n",
      "Enter a number:2\n",
      "Enter a number:3\n",
      "Enter a number:4\n",
      "Enter a number:5\n",
      "Enter a number:6\n",
      "Enter a number:7\n",
      "Enter a number:8\n",
      "Enter a number:9\n",
      "Enter a number:10\n",
      "The addiction is 55 and the average is 5.5 \n"
     ]
    }
   ],
   "source": [
    "# count\n",
    "i=(int)(1) \n",
    "# acumulate\n",
    "sum=0\n",
    "while i<=10:\n",
    "    x=int(input(r\"Enter a number:\" ))\n",
    "    sum+=x\n",
    "    i+=1\n",
    "#average\n",
    "prom=sum/10    \n",
    "print(f\"The addiction is {sum} and the average is {prom} \")"
   ]
  },
  {
   "cell_type": "markdown",
   "metadata": {},
   "source": [
    "### Ejemplo 4\n",
    "Una planta que fabrica perfiles de hierro posee un lote de n piezas.\n",
    "Confeccionar un programa que pida ingresar por teclado la cantidad de piezas a procesar y luego ingrese la longitud de cada perfil; sabiendo que la pieza cuya longitud esté comprendida en el rango de 1.20 y 1.30 son aptas. Imprimir por pantalla la cantidad de piezas aptas que hay en el lote."
   ]
  },
  {
   "cell_type": "code",
   "execution_count": null,
   "metadata": {},
   "outputs": [],
   "source": [
    "# number of pieces in the lot\n",
    "n=int(input(\"Enter the number of pieces in the lot: \"))\n",
    "# counters\n",
    "# while\n",
    "i=1 \n",
    "# good pieces\n",
    "amount=0\n",
    "while (i<=n):\n",
    "    # lenght of piece\n",
    "    piece=float(input(\"Enter the piece: \"))\n",
    "    # count good pieces\n",
    "    if (piece>=1.20 and piece<=1.30):\n",
    "        amount+=1\n",
    "    # increase counter    \n",
    "    i+=1\n",
    "print(f\"The good pieces is {amount}\")"
   ]
  },
  {
   "cell_type": "markdown",
   "metadata": {},
   "source": [
    "## Problemas\n",
    "### problema 1\n",
    "Escribir un programa que solicite ingresar 10 notas de alumnos y nos informe cuántos tienen notas mayores o iguales a 3 y cuántos menores."
   ]
  },
  {
   "cell_type": "code",
   "execution_count": 1,
   "metadata": {},
   "outputs": [
    {
     "name": "stdout",
     "output_type": "stream",
     "text": [
      "Enter grade:4\n",
      "Enter grade:3.6\n",
      "Enter grade:3.49\n",
      "Enter grade:2\n",
      "Enter grade:2.5\n",
      "Enter grade:4\n",
      "Enter grade:3.3\n",
      "Enter grade:3.7\n",
      "Enter grade:4\n",
      "Enter grade:5\n",
      "the number of stundts with greater grade: 6\n",
      "The number of stundets with less grade: 4 \n"
     ]
    }
   ],
   "source": [
    "i=1\n",
    "# counter greater\n",
    "countGreater=0\n",
    "while (i<=10):\n",
    "    # grades\n",
    "    grade=float(input(\"Enter grade:\"))\n",
    "    # if it is greater than 3.5\n",
    "    if(grade>=3.5):\n",
    "        # acumulate\n",
    "        countGreater+=1\n",
    "    # increase count    \n",
    "    i+=1\n",
    "print(f\"the number of stundts with greater grade: {countGreater}\")\n",
    "print(f\"The number of stundets with less grade: {10-countGreater} \")"
   ]
  },
  {
   "cell_type": "markdown",
   "metadata": {},
   "source": [
    "### Problema 2 \n",
    "Se ingresan un conjunto de n alturas de personas por teclado. Mostrar la altura promedio de las personas"
   ]
  },
  {
   "cell_type": "code",
   "execution_count": 11,
   "metadata": {},
   "outputs": [
    {
     "name": "stdout",
     "output_type": "stream",
     "text": [
      "Enter the number of people:3\n",
      "The person's height: 1.9\n",
      "The person's height: 1.74\n",
      "The person's height: 1.5\n",
      "The average heigth is: 1.7133333333333332\n"
     ]
    }
   ],
   "source": [
    "# number of people\n",
    "n=int (input(\"Enter the number of people:\"))\n",
    "# count\n",
    "i=1\n",
    "# acumualte heights\n",
    "addiHeight=0\n",
    "while i<=n:\n",
    "    height=float (input (\"The person's height: \"))\n",
    "    #acumulate\n",
    "    addiHeight+=height\n",
    "    # increase counter\n",
    "    i+=1\n",
    "# average heights\n",
    "averageHeight=addiHeight/n\n",
    "print(f\"The average heigth is: {averageHeight}\")"
   ]
  },
  {
   "cell_type": "markdown",
   "metadata": {},
   "source": [
    "### Problema 3\n",
    "En una empresa trabajan n empleados cuyos sueldos oscilan entre $100 y  $500, realizar un programa que lea los sueldos que cobra cada empleado e informe cuántos empleados cobran entre $100 y $300 y cuántos cobran más de $300. Además el programa deberá informar el importe que gasta la empresa en sueldos al personal."
   ]
  },
  {
   "cell_type": "code",
   "execution_count": 1,
   "metadata": {},
   "outputs": [
    {
     "name": "stdout",
     "output_type": "stream",
     "text": [
      "Enter the number of employee: 5\n",
      "300\n",
      "100\n",
      "90\n",
      "400\n",
      "600\n",
      "The number of employee with salary between 100 and 300: 2\n",
      "The number of employee with salary greater than 300: 2\n"
     ]
    }
   ],
   "source": [
    "# number of employeer\n",
    "n = int(input(\"Enter the number of employee: \"))\n",
    "# counters\n",
    "i=1 # while\n",
    "count100and300=0 #salaries in range\n",
    "countGreat300=0\n",
    "while (i<=n):\n",
    "    # input salary\n",
    "    salary=int(input())   \n",
    "    if(salary>=100 and salary <=300):\n",
    "        count100and300+=1\n",
    "    elif (salary>300):\n",
    "        countGreat300+=1\n",
    "    # increase counter while\n",
    "    i+=1\n",
    "print(f\"The number of employee with salary between 100 and 300: {count100and300}\")\n",
    "print(f\"The number of employee with salary greater than 300: {countGreat300}\")"
   ]
  },
  {
   "cell_type": "markdown",
   "metadata": {},
   "source": [
    "### Problema 4\n",
    "Realizar un programa que imprima 25 términos de la serie 11 - 22 - 33 - 44, etc. (No se ingresan valores por teclado)"
   ]
  },
  {
   "cell_type": "code",
   "execution_count": 2,
   "metadata": {},
   "outputs": [
    {
     "name": "stdout",
     "output_type": "stream",
     "text": [
      "11\n",
      "22\n",
      "33\n",
      "44\n",
      "55\n",
      "66\n",
      "77\n",
      "88\n",
      "99\n",
      "110\n",
      "121\n",
      "132\n",
      "143\n",
      "154\n",
      "165\n",
      "176\n",
      "187\n",
      "198\n",
      "209\n",
      "220\n",
      "231\n",
      "242\n",
      "253\n",
      "264\n",
      "275\n"
     ]
    }
   ],
   "source": [
    "i=1\n",
    "while i<=25:\n",
    "    print(f\"{11*i}\")\n",
    "    i+=1"
   ]
  },
  {
   "cell_type": "markdown",
   "metadata": {},
   "source": [
    "### Problema 5\n",
    "Mostrar los múltiplos de 8 hasta el valor 500. Debe aparecer en pantalla 8 - 16 - 24, etc."
   ]
  },
  {
   "cell_type": "code",
   "execution_count": 8,
   "metadata": {},
   "outputs": [
    {
     "name": "stdout",
     "output_type": "stream",
     "text": [
      "8\n",
      "16\n",
      "24\n",
      "32\n",
      "40\n",
      "48\n",
      "56\n",
      "64\n",
      "72\n",
      "80\n",
      "88\n",
      "96\n",
      "104\n",
      "112\n",
      "120\n",
      "128\n",
      "136\n",
      "144\n",
      "152\n",
      "160\n",
      "168\n",
      "176\n",
      "184\n",
      "192\n",
      "200\n",
      "208\n",
      "216\n",
      "224\n",
      "232\n",
      "240\n",
      "248\n",
      "256\n",
      "264\n",
      "272\n",
      "280\n",
      "288\n",
      "296\n",
      "304\n",
      "312\n",
      "320\n",
      "328\n",
      "336\n",
      "344\n",
      "352\n",
      "360\n",
      "368\n",
      "376\n",
      "384\n",
      "392\n",
      "400\n",
      "408\n",
      "416\n",
      "424\n",
      "432\n",
      "440\n",
      "448\n",
      "456\n",
      "464\n",
      "472\n",
      "480\n",
      "488\n",
      "496\n",
      "504\n"
     ]
    }
   ],
   "source": [
    "i=1\n",
    "x=0\n",
    "while (x<500):\n",
    "    x=8*i\n",
    "    print(x)\n",
    "    i+=1    "
   ]
  },
  {
   "cell_type": "markdown",
   "metadata": {},
   "source": [
    "### Problema 6\n",
    "Desarrollar un programa que permita cargar n números enteros y luego nos informe cuántos valores fueron pares y cuántos impares."
   ]
  },
  {
   "cell_type": "code",
   "execution_count": 10,
   "metadata": {},
   "outputs": [
    {
     "name": "stdout",
     "output_type": "stream",
     "text": [
      "Enter amount of numbers: 6\n",
      "Enter a number:1\n",
      "Enter a number:2\n",
      "Enter a number:3\n",
      "Enter a number:4\n",
      "Enter a number:5\n",
      "Enter a number:6\n",
      "Enter a number:7\n",
      "The amount of even numbers: 3\n",
      "The amount of odd numbers: 4\n"
     ]
    }
   ],
   "source": [
    "# The amount of number\n",
    "n=int(input(\"Enter amount of numbers: \"))\n",
    "# counters\n",
    "# while\n",
    "i=1\n",
    "# odd numbers\n",
    "oddNumbers=0\n",
    "# even numbers\n",
    "evenNumbers=0\n",
    "while (i<=n):\n",
    "    # input number\n",
    "    number=int (input(\"Enter a number:\"))\n",
    "    #if it is a even number\n",
    "    if(number%2==0):\n",
    "        evenNumbers+=1\n",
    "    else:\n",
    "        oddNumbers+=1\n",
    "    #increase counter while\n",
    "    i+=1\n",
    "print (f\"The amount of even numbers: {evenNumbers}\")\n",
    "print (f\"The amount of odd numbers: {oddNumbers}\")\n"
   ]
  }
 ],
 "metadata": {
  "kernelspec": {
   "display_name": "Python 3",
   "language": "python",
   "name": "python3"
  },
  "language_info": {
   "codemirror_mode": {
    "name": "ipython",
    "version": 3
   },
   "file_extension": ".py",
   "mimetype": "text/x-python",
   "name": "python",
   "nbconvert_exporter": "python",
   "pygments_lexer": "ipython3",
   "version": "3.7.6"
  }
 },
 "nbformat": 4,
 "nbformat_minor": 4
}
