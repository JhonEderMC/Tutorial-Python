{
 "cells": [
  {
   "cell_type": "markdown",
   "metadata": {},
   "source": [
    "# 19 - Listas: ordenamiento con listas paralelas\n",
    "Cuando se tienen listas paralelas y se ordenan los elementos de una de ellas hay que tener la precaución de intercambiar los elementos de las listas paralelas.\n",
    "\n",
    "### Ejemplo 1\n",
    "Confeccionar un programa que permita cargar los nombres de 5 alumnos y sus notas respectivas. Luego ordenar las notas de mayor a menor. Imprimir las notas y los nombres de los alumnos."
   ]
  },
  {
   "cell_type": "code",
   "execution_count": 1,
   "metadata": {},
   "outputs": [
    {
     "name": "stdout",
     "output_type": "stream",
     "text": [
      "Enter student's name1: Laura\n",
      "Enter student's note1: 3.2\n",
      "Enter student's name2: Sebastian \n",
      "Enter student's note2: 3.6\n",
      "Enter student's name3: Jhon\n",
      "Enter student's note3: 3.5\n",
      "Enter student's name4: Alejandro\n",
      "Enter student's note4: 3.3\n",
      "Enter student's name5: Pablo\n",
      "Enter student's note5: 2.96\n",
      "Names:  ['Laura', 'Sebastian ', 'Jhon', 'Alejandro', 'Pablo']\n",
      "Note:  [3.2, 3.6, 3.5, 3.3, 2.96]\n",
      "Names:  ['Sebastian ', 'Jhon', 'Alejandro', 'Laura', 'Pablo']\n",
      "Notes:  [3.6, 3.5, 3.3, 3.2, 2.96]\n"
     ]
    }
   ],
   "source": [
    "# data stundents\n",
    "listName=[]\n",
    "listNote=[]\n",
    "# enter data\n",
    "for f in range(5):\n",
    "    listName.append(input(f\"Enter student's name{f+1}: \"))\n",
    "    listNote.append(float(input(f\"Enter student's note{f+1}: \")))\n",
    "print(\"Names: \",listName)    \n",
    "print(\"Note: \",listNote)\n",
    "\n",
    "# ordered greater to minor\n",
    "for k in range(len(listNote)-1):\n",
    "    for f in range(len(listNote)-1-k):\n",
    "        if(listNote[f]<listNote[f+1]):\n",
    "            auxNote=listNote[f]\n",
    "            auxName=listName[f]\n",
    "            listNote[f]=listNote[f+1]\n",
    "            listName[f]=listName[f+1]\n",
    "            listNote[f+1]=auxNote\n",
    "            listName[f+1]=auxName\n",
    "# print data\n",
    "print(\"Names: \",listName)\n",
    "print(\"Notes: \",listNote)"
   ]
  },
  {
   "cell_type": "markdown",
   "metadata": {},
   "source": [
    "Lo nuevo se presenta cuando ordenamos la lista de notas de mayor a menor. La condición dentro de los dos ciclos repetitivos depende de la lista notas, pero en el caso que se verifique verdadera intercambiamos tanto los elementos de la lista notas como el de la lista alumnos con el fin que continúen paralelas"
   ]
  },
  {
   "cell_type": "markdown",
   "metadata": {},
   "source": [
    "## Problemas\n",
    "### Problema 1\n",
    "Crear y cargar en un lista los nombres de 5 países y en otra lista paralela la cantidad de habitantes del mismo. Ordenar alfabéticamente e imprimir los resultados. Por último ordenar con respecto a la cantidad de habitantes (de mayor a menor) e imprimir nuevamente."
   ]
  },
  {
   "cell_type": "code",
   "execution_count": 4,
   "metadata": {},
   "outputs": [
    {
     "name": "stdout",
     "output_type": "stream",
     "text": [
      "Enter country name1: Colombia\n",
      "Enter population of Colombia: 49067000\n",
      "Enter country name2: Alemania\n",
      "Enter population of Alemania: 82605000\n",
      "Enter country name3: Japón\n",
      "Enter population of Japón: 126905000\n",
      "Enter country name4: Brasil\n",
      "Enter population of Brasil: 207012000\n",
      "Enter country name5: Estados Unidos\n",
      "Enter population of Estados Unidos: 325318000\n",
      "Estados Unidos: 325318000 \n",
      "Brasil: 207012000 \n",
      "Japón: 126905000 \n",
      "Alemania: 82605000 \n",
      "Colombia: 49067000 \n"
     ]
    }
   ],
   "source": [
    "# list countriesn and population\n",
    "listCountry=[]\n",
    "listPopulation=[]\n",
    "# enter data\n",
    "for f in range(5):\n",
    "    listCountry.append(input(f\"Enter country name{f+1}: \"))\n",
    "    listPopulation.append(int(input(f\"Enter population of {listCountry[f]}: \")))\n",
    "# ordered by population\n",
    "for k in range(len(listCountry)-1):\n",
    "    for f in range(len(listCountry)-1-k):\n",
    "        if (listPopulation[f]<listPopulation[f+1]):\n",
    "            auxPop=listPopulation[f]\n",
    "            auxCou=listCountry[f]            \n",
    "            listPopulation[f]=listPopulation[f+1]\n",
    "            listCountry[f]=listCountry[f+1]\n",
    "            listPopulation[f+1]=auxPop\n",
    "            listCountry[f+1]=auxCou\n",
    "# print list ordered by population\n",
    "i=0\n",
    "while i<len(listPopulation):\n",
    "    print(f\"{listCountry[i]}: {listPopulation[i]} \")\n",
    "    i+=1\n",
    "    \n"
   ]
  }
 ],
 "metadata": {
  "kernelspec": {
   "display_name": "Python 3",
   "language": "python",
   "name": "python3"
  },
  "language_info": {
   "codemirror_mode": {
    "name": "ipython",
    "version": 3
   },
   "file_extension": ".py",
   "mimetype": "text/x-python",
   "name": "python",
   "nbconvert_exporter": "python",
   "pygments_lexer": "ipython3",
   "version": "3.7.6"
  }
 },
 "nbformat": 4,
 "nbformat_minor": 4
}
