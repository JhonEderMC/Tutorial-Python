{
 "cells": [
  {
   "cell_type": "markdown",
   "metadata": {},
   "source": [
    "# 31 - Estructura de datos tipo Tupla\n",
    "\n",
    "Hemos desarrollado gran cantidad de algoritmos empleando tipos de datos simples como enteros, flotantes, cadenas de caracteres y estructuras de datos tipo lista.\n",
    "\n",
    "Vamos a ver otra estructura de datos llamada Tupla.\n",
    "\n",
    "Una tupla permite almacenar una colección de datos no necesariamente del mismo tipo. **Los datos de la tupla son inmutables a diferencia de las listas que son mutables.\n",
    "\n",
    "Una vez inicializada la tupla no podemos agregar, borrar o modificar sus elementos.\n",
    "\n",
    "**La sintaxis para definir una tupla es indicar entre paréntesis sus valores:**\n",
    "\n",
    "## Ejemplos \n",
    "### Ejemplo 1\n",
    "Definir varias tuplas e imprimir sus elementos."
   ]
  },
  {
   "cell_type": "code",
   "execution_count": 5,
   "metadata": {},
   "outputs": [
    {
     "name": "stdout",
     "output_type": "stream",
     "text": [
      "(1, 2, 3, 4, 5)\n",
      "(12, 'March', 2020)\n",
      "('Sergio', 'diego', 'Jualian')\n",
      "1,5\n",
      "2020\n",
      "diego\n"
     ]
    }
   ],
   "source": [
    "# tuplas\n",
    "integer=(1,2,3,4,5)\n",
    "date=(12,\"March\",2020)\n",
    "name=(\"Sergio\",\"diego\",\"Jualian\")\n",
    "print(integer)\n",
    "print(date)\n",
    "print(name)\n",
    "print(integer[0],integer[4],sep=\",\")\n",
    "print(date[2])\n",
    "print(name[1])"
   ]
  },
  {
   "cell_type": "markdown",
   "metadata": {},
   "source": [
    "El lenguaje Python diferencia una tupla de una lista en el momento que la definimos:\n",
    "x=[....]  ---> lista\n",
    "x=(....)  ---> tupla\n",
    "\n",
    "**Nota:** Es muy **IMPORTANTE** tener en cuenta que los elementos de la tupla son inmutables, es incorrecto tratar de hacer esta asignación a un elemento de la tupla:"
   ]
  },
  {
   "cell_type": "code",
   "execution_count": 6,
   "metadata": {},
   "outputs": [
    {
     "ename": "TypeError",
     "evalue": "'tuple' object does not support item assignment",
     "output_type": "error",
     "traceback": [
      "\u001b[1;31m---------------------------------------------------------------------------\u001b[0m",
      "\u001b[1;31mTypeError\u001b[0m                                 Traceback (most recent call last)",
      "\u001b[1;32m<ipython-input-6-d55b585b058f>\u001b[0m in \u001b[0;36m<module>\u001b[1;34m\u001b[0m\n\u001b[1;32m----> 1\u001b[1;33m \u001b[0minteger\u001b[0m\u001b[1;33m[\u001b[0m\u001b[1;36m0\u001b[0m\u001b[1;33m]\u001b[0m\u001b[1;33m=\u001b[0m\u001b[1;36m3\u001b[0m\u001b[1;33m\u001b[0m\u001b[1;33m\u001b[0m\u001b[0m\n\u001b[0m",
      "\u001b[1;31mTypeError\u001b[0m: 'tuple' object does not support item assignment"
     ]
    }
   ],
   "source": [
    "integer[0]=3 \n",
    "# this its a error!\n",
    "# the tuples are immutable"
   ]
  },
  {
   "cell_type": "markdown",
   "metadata": {},
   "source": [
    "**Utilizamos una tupla para agrupar datos que por su naturaleza están relacionados y que no serán modificados durante la ejecución del programa.**"
   ]
  },
  {
   "cell_type": "markdown",
   "metadata": {},
   "source": [
    "### Ejemplo 2\n",
    "Desarrollar una función que solicite la carga del dia, mes y año y almacene dichos datos en una tupla que luego debe retornar. La segunda función a implementar debe recibir una tupla con la fecha y mostrarla por pantalla."
   ]
  },
  {
   "cell_type": "code",
   "execution_count": 9,
   "metadata": {},
   "outputs": [
    {
     "name": "stdout",
     "output_type": "stream",
     "text": [
      "Enter a day: 07\n",
      "Enter a month: 01\n",
      "Enter a year: 1992\n",
      "Tuple:  7/1/1992\n"
     ]
    }
   ],
   "source": [
    "# function enter tuple  date\n",
    "# day-month,year\n",
    "def enter_date():\n",
    "    # tuple date    \n",
    "    day=int(input(\"Enter a day: \"))\n",
    "    month=int(input(\"Enter a month: \"))\n",
    "    year=int(input(\"Enter a year: \"))\n",
    "    #return tuple\n",
    "    return (day,month,year)\n",
    "\n",
    "# main\n",
    "date=enter_date()\n",
    "print(\"Tuple: \",end=\" \")\n",
    "print(date[0],date[1],date[2],sep=\"/\")"
   ]
  },
  {
   "cell_type": "markdown",
   "metadata": {},
   "source": [
    "En la función enter_date cargamos tres enteros por teclado y procedemos a crear una tupla indicando entre paréntesis los nombres de las tres variables y procedemos a retornarla:\n",
    "`def enter_date():\n",
    "    # tuple date    \n",
    "    day=int(input(\"Enter a day: \"))\n",
    "    month=int(input(\"Enter a month: \"))\n",
    "    year=int(input(\"Enter a year: \"))\n",
    "    #return tuple\n",
    "    return (day,month,year) `\n",
    "    \n",
    "En el bloque principal llamamos a la función enter_date y el valor devuelto se almacena en la variable fecha (recordemos que la función devuelve una tupla):\n",
    "\n",
    "`date=enter_date()`\n",
    "\n",
    "Definimos una función que recibe la tupla y procede a mostrar el contenido separado por el caracter \"/\":\n",
    "\n",
    "### Conversión de tuplas a listas y viceversa.\n",
    "Otra herramienta que nos proporciona Python es la conversión de tuplas a listas y viceversa mediante las funciones:\n",
    "\n",
    "`list(parametro de tipo tupla)\n",
    "tuple(parametro de tipo lista) `\n"
   ]
  },
  {
   "cell_type": "code",
   "execution_count": 14,
   "metadata": {},
   "outputs": [
    {
     "name": "stdout",
     "output_type": "stream",
     "text": [
      "[1, 2, 'text', 3, 'dos']\n",
      "(1, 2, 'text', 3, 'dos')\n"
     ]
    }
   ],
   "source": [
    "# tuple\n",
    "c=(1,2,\"text\",3,\"dos\")\n",
    "# tuple to list\n",
    "c1=list(c)\n",
    "print(c1)\n",
    "# list to tople\n",
    "c2=tuple(c1)\n",
    "print(c2)"
   ]
  },
  {
   "cell_type": "markdown",
   "metadata": {},
   "source": [
    "## Problemas propuestos\n",
    "### Problema 1\n",
    "Confeccionar un programa con las siguientes funciones:\n",
    "\n",
    "1)Cargar una lista de 5 enteros.\n",
    "\n",
    "2)Retornar el mayor y menor valor de la lista mediante una tupla.\n",
    "Desempaquetar la tupla en el bloque principal y mostrar el mayor y menor."
   ]
  },
  {
   "cell_type": "code",
   "execution_count": 15,
   "metadata": {
    "scrolled": true
   },
   "outputs": [
    {
     "name": "stdout",
     "output_type": "stream",
     "text": [
      "Enter a length of list: 5\n",
      "Enter the number1  of 5: 1\n",
      "Enter the number2  of 5: -2\n",
      "Enter the number3  of 5: 3\n",
      "Enter the number4  of 5: -4\n",
      "Enter the number5  of 5: 5\n",
      "Minimum value of list: -4\n",
      "Greater value of list: 5\n"
     ]
    }
   ],
   "source": [
    "# enter list of length n\n",
    "def enter_list():\n",
    "    # empty list\n",
    "    list1=[]\n",
    "    # length list n\n",
    "    n=int(input(\"Enter a length of list: \"))\n",
    "    # input list\n",
    "    for f in range(n):\n",
    "        # enter a number\n",
    "        v=int(input(f\"Enter the number{f+1}  of {n}: \"))\n",
    "        # add number\n",
    "        list1.append(v)\n",
    "    # return list\n",
    "    return list1\n",
    "\n",
    "# function greater and minimum\n",
    "def list_greater_minimum(lista):\n",
    "    minimum=lista[0]\n",
    "    greater=lista[0]\n",
    "    for f in range(1,len(lista)):\n",
    "        if(lista[f]>greater):\n",
    "            greater=lista[f]\n",
    "        elif(lista[f]<minimum):\n",
    "            minimum=lista[f]\n",
    "    # return tuple       \n",
    "    return (minimum,greater)\n",
    "        \n",
    "        \n",
    "    \n",
    "# main\n",
    "list1=enter_list()\n",
    "# minimum and greater\n",
    "(minimum,greater)=list_greater_minimum(list1)\n",
    "print(\"Minimum value of list:\",minimum)\n",
    "print(\"Greater value of list:\",greater)       \n",
    "        "
   ]
  },
  {
   "cell_type": "markdown",
   "metadata": {},
   "source": [
    "### Problema 2\n",
    "Confeccionar un programa con las siguientes funciones:\n",
    "\n",
    "1)Cargar el nombre de un empleado y su sueldo. Retornar una tupla con dichos valores\n",
    "\n",
    "2)Una función que reciba como parámetro dos tuplas con los nombres y sueldos de empleados y muestre el nombre del empleado con sueldo mayor.\n",
    "En el bloque principal del programa llamar dos veces a la función de carga y seguidamente llamar a la función que muestra el nombre de empleado con sueldo mayor."
   ]
  },
  {
   "cell_type": "code",
   "execution_count": 3,
   "metadata": {},
   "outputs": [
    {
     "name": "stdout",
     "output_type": "stream",
     "text": [
      "Enter a employee name: Jualiana\n",
      "Enter Jualiana salary: $4000\n",
      "Enter a employee name: Yesid\n",
      "Enter Yesid salary: $2000\n",
      "Employee with greater salary:  Jualiana\n"
     ]
    }
   ],
   "source": [
    "# enter employee data\n",
    "def employee_data():\n",
    "    # name\n",
    "    name=input(\"Enter a employee name: \")\n",
    "    # salary\n",
    "    salary=float(input(f\"Enter {name} salary: $\"))\n",
    "    # return cuple\n",
    "    return (name,salary)\n",
    "\n",
    "#function employe greater  salary\n",
    "# receives two cuples employe (name,salary)\n",
    "def employee_greater_salary(employee1,employee2):\n",
    "    #greater salary\n",
    "    if(employee1[1]>employee2[1]):\n",
    "        return employee1[0]\n",
    "    elif(employee1[1]<employee2[1]):\n",
    "        return employee2[0]\n",
    "    else:\n",
    "        return \"They're equals\"\n",
    "    \n",
    "\n",
    "# main\n",
    "employee1=employee_data()\n",
    "employee2=employee_data()\n",
    "name=employee_greater_salary(employee1,employee2)\n",
    "print(\"Employee with greater salary: \",name)"
   ]
  }
 ],
 "metadata": {
  "kernelspec": {
   "display_name": "Python 3",
   "language": "python",
   "name": "python3"
  },
  "language_info": {
   "codemirror_mode": {
    "name": "ipython",
    "version": 3
   },
   "file_extension": ".py",
   "mimetype": "text/x-python",
   "name": "python",
   "nbconvert_exporter": "python",
   "pygments_lexer": "ipython3",
   "version": "3.7.6"
  }
 },
 "nbformat": 4,
 "nbformat_minor": 4
}
