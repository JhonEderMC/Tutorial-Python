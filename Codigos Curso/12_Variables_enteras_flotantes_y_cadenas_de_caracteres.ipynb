{
 "cells": [
  {
   "cell_type": "markdown",
   "metadata": {},
   "source": [
    "# 12 - Variables enteras, flotantes y cadenas de caracteres\n",
    "Hasta este momento hemos visto como definir variables enteras y flotantes. Realizar su carga por asignación y por teclado.\n",
    "\n",
    "Para iniciarlas por asignación utilizamos el operador =\n",
    "\n",
    " `#definición de una variable entera\n",
    "cantidad=20`\n",
    "`#definición de una variable flotante\n",
    "altura=1.92` \n",
    "\n",
    "Como vemos el intérprete de Python diferencia una variable flotante de una variable entera por la presencia del caracter punto.\n",
    "\n",
    "Para realizar la carga por teclado utilizando la función input debemos llamar a la función int o float para convertir el dato devuelto por input:\n",
    "\n",
    "`cantidad=int(input(\"Ingresar la cantidad de personas:\"))\n",
    "altura=float(input(\"Ingresar la altura de la persona en metros ej:1.70:\")) `\n",
    "A estos dos tipos de datos fundamentales (int y float) se suma un tipo de dato muy utilizado que son las cadenas de caracteres.\n",
    "\n",
    "Una cadena de caracteres está compuesta por uno o más caracteres. También podemos iniciar una cadena de caracteres por asignación o ingresarla por teclado.\n",
    "\n",
    "Inicialización de una cadena por asignación:\n",
    "\n",
    "`#definición e inicio de una cadena de caracteres\n",
    "dia=\"lunes\"`\n",
    "Igual resultado obtenemos si utilizamos la comilla simple:\n",
    "\n",
    "`#definición e inicio de una cadena de caracteres\n",
    "dia='lunes'`\n",
    "Para la carga por teclado de una cadena de caracteres utilizamos la función input que retorna una cadena de caracteres:\n",
    "\n",
    "nombre=input(\"ingrese su nombre:\")\n",
    "\n",
    "## Ejemplos\n",
    "### Ejemplo 1\n",
    "Realizar la carga por teclado del nombre, edad y altura de dos personas. Mostrar por pantalla el nombre de la persona con mayor altura."
   ]
  },
  {
   "cell_type": "code",
   "execution_count": 2,
   "metadata": {},
   "outputs": [
    {
     "name": "stdout",
     "output_type": "stream",
     "text": [
      "Enter person's name: Jhon Eder\n",
      "Enter person's age: 25\n",
      "Enter person's heigth: 1.9\n",
      "Enter person's name: Muaricio\n",
      "Enter person's age: 31\n",
      "Enter person's heigth: 1.9\n",
      "Graeter height is:  Jhon Eder  -  Muaricio\n"
     ]
    }
   ],
   "source": [
    "# people data\n",
    "name1=input(\"Enter person's name: \")\n",
    "#age\n",
    "age1=int(input(\"Enter person's age: \"))\n",
    "# heigth\n",
    "height1=float(input(\"Enter person's heigth: \"))\n",
    "name2=input(\"Enter person's name: \")\n",
    "age2=int(input(\"Enter person's age: \"))\n",
    "height2=float(input(\"Enter person's heigth: \"))\n",
    "# greater height\n",
    "if(height1>height2):\n",
    "    print(\"Graeter height is: \",name1)\n",
    "elif(height2>height1):\n",
    "    print(\"Graeter height is: \",name2)\n",
    "else:\n",
    "    print(\"Graeter height is: \",name1,\" - \",name2)"
   ]
  },
  {
   "cell_type": "markdown",
   "metadata": {},
   "source": [
    "### Ejemplo 2\n",
    "Realizar la carga de dos nombres por teclado. Mostrar cual de los dos es mayor alfabéticamente o si son iguales."
   ]
  },
  {
   "cell_type": "code",
   "execution_count": 10,
   "metadata": {},
   "outputs": [
    {
     "name": "stdout",
     "output_type": "stream",
     "text": [
      "Enter name1: Jhon Eder Mosquera\n",
      "Enter name1: Leidy Mosquera\n",
      "The Leidy Mosquera is alphabetic greater than Jhon Eder Mosquera\n"
     ]
    }
   ],
   "source": [
    "# name\n",
    "name1=input(\"Enter name1: \")\n",
    "name2=input(\"Enter name1: \")\n",
    "if(name1>name2):\n",
    "    print(f\"The {name1} is alphabetic greater than {name2}\")\n",
    "elif(name2>name1):\n",
    "    print(f\"The {name2} is alphabetic greater than {name1}\")\n",
    "elif(name1==name2):\n",
    "    print(\"The names are alphabetic equals\")"
   ]
  },
  {
   "cell_type": "markdown",
   "metadata": {},
   "source": [
    "### Ejemplo 3\n",
    "Realizar la carga de enteros por teclado. Preguntar después que ingresa el valor si desea cargar otro valor debiendo el operador ingresar la cadena 'si' o 'no' por teclado.\n",
    "Mostrar la suma de los valores ingresados."
   ]
  },
  {
   "cell_type": "code",
   "execution_count": 11,
   "metadata": {},
   "outputs": [
    {
     "name": "stdout",
     "output_type": "stream",
     "text": [
      "Enter a number: 1\n",
      "Do you want to load and other number(yes/no): yes\n",
      "Enter a number: 5\n",
      "Do you want to load and other number(yes/no): yes\n",
      "Enter a number: 2\n",
      "Do you want to load and other number(yes/no): yes\n",
      "Enter a number: 2\n",
      "Do you want to load and other number(yes/no): no\n",
      "\n",
      "The sum was: 10\n"
     ]
    }
   ],
   "source": [
    "# default\n",
    "option=\"yes\"\n",
    "sum=0\n",
    "while(option!=\"no\"):    \n",
    "    number=int(input(\"Enter a number: \"))\n",
    "    sum+=number\n",
    "    option=input(\"Do you want to load and other number(yes/no): \")\n",
    "print(f\"\\nThe sum was: {sum}\")\n",
    "    "
   ]
  }
 ],
 "metadata": {
  "kernelspec": {
   "display_name": "Python 3",
   "language": "python",
   "name": "python3"
  },
  "language_info": {
   "codemirror_mode": {
    "name": "ipython",
    "version": 3
   },
   "file_extension": ".py",
   "mimetype": "text/x-python",
   "name": "python",
   "nbconvert_exporter": "python",
   "pygments_lexer": "ipython3",
   "version": "3.7.6"
  }
 },
 "nbformat": 4,
 "nbformat_minor": 4
}
