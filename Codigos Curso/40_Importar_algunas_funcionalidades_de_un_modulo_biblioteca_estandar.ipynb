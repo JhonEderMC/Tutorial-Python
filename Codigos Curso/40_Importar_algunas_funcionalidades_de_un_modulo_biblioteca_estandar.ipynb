{
 "cells": [
  {
   "cell_type": "markdown",
   "metadata": {},
   "source": [
    "# 40 Importar algunas funcionalidades de un módulo de la biblioteca estándar de Python\n",
    "\n",
    "Hemos visto que para importar toda la funcionalidad de un módulo de la Biblioteca estándar de Python utilizamos la palabra clave import y seguidamente el nombre del módulo:\n",
    "\n",
    "`import random`\n",
    "\n",
    "Con esa sintaxis todas las funcionalidades del módulo \"random\" pueden ser accedidas desde nuestro módulo.\n",
    "\n",
    "Ahora veremos que en Python tenemos otra sintaxis para las situaciones que queremos acceder a una o pocas funcionalidades de un módulo.\n",
    "\n",
    "Por ejemplo si queremos acceder solo a la función randint del módulo random en Python lo podemos expresar con la siguiente sintaxis:\n",
    "\n",
    "`from random import randint`\n",
    "\n",
    "Utilizamos la palabra clave *from* y seguidamente el nombre del módulo de donde queremos importar funcionalidades del mismo. Luego indicamos la palabra clave *import* y la funcionalidad que queremos importar, en nuestro ejemplo la función *randint*.\n",
    "\n",
    "También cambia como utilizamos la función randint dentro de nuestro módulo:\n",
    "\n",
    "`valor=randint(1,10)\n",
    "print(valor)`\n",
    "\n",
    "Como vemos no le antecedemos ningún nombre de módulo y hacemos referencia directamente a la función importada.\n",
    "\n",
    "Si necesitamos importar más de una funcionalidad de un módulo debemos separar por comas las funcionalidades importadas:\n",
    "\n",
    "`from random import randint,shuffle`\n",
    "\n",
    "## Ejemplos\n",
    "### Ejemplo 1\n",
    "\n",
    "Confeccionar un programa que solicite la carga de un valor entero por teclado y luego nos muestre la raíz cuadrada del número y el valor elevado al cubo.\n",
    "\n",
    "Para resolver este problema utilizaremos dos funcionalidades que nos provee el módulo math de la biblioteca estándar de Python. Podemos consultar el módulo math [aquí](https://docs.python.org/3/library/math.html)"
   ]
  },
  {
   "cell_type": "code",
   "execution_count": 2,
   "metadata": {},
   "outputs": [
    {
     "name": "stdout",
     "output_type": "stream",
     "text": [
      "Enter a  integer number: 4\n",
      "Square root: 2.0\n",
      "The cube of a 4 : 64.0\n"
     ]
    }
   ],
   "source": [
    "from math import pow, sqrt\n",
    "# import number\n",
    "v=int(input(\"Enter a  integer number: \"))\n",
    "# square root\n",
    "r1=sqrt(v)\n",
    "# the cube of a number\n",
    "r2=pow(v,3)\n",
    "print(\"Square root:\",r1)\n",
    "print(f\"The cube of a {v} :\",r2)\n"
   ]
  },
  {
   "cell_type": "markdown",
   "metadata": {},
   "source": [
    "El módulo math tiene dos funciones llamadas sqrt (para obtener la raíz cuadrada) y la función pow para elevar un valor a cierta potencia.\n",
    "\n",
    "Utilizamos la sintaxis para importar solo dichas dos funcionalidades del módulo math:\n",
    "\n",
    "`from math import sqrt, pow`\n",
    "\n",
    "`r1=sqrt(valor)`\n",
    "\n",
    "Lo mismo para llamar la función pow:\n",
    "\n",
    "`r2=pow(valor,3)`\n",
    "\n",
    "### Definición de alias para una funcionalidad\n",
    "Podemos definir un nombre distinto para una funcionalidad que importamos de otro módulo. Esto puede tener como objetivo que nuestro programa sea más legible o evitar que un nombre de función que importamos colisione con un nombre de función de nuestro propio módulo.\n",
    "\n",
    "Resolveremos el mismo problema anterior pero definiendo dos alias para las funciones sqrt y pow del módulo math."
   ]
  },
  {
   "cell_type": "code",
   "execution_count": 6,
   "metadata": {
    "collapsed": true
   },
   "outputs": [
    {
     "name": "stdout",
     "output_type": "stream",
     "text": [
      "Enter a integer number: 4\n",
      "Raiz cuadrada: 2.0\n",
      "Elevado al cubo: 64.0\n"
     ]
    }
   ],
   "source": [
    "# alias\n",
    "from math import sqrt as raiz, pow as elevado\n",
    "value=int(input(\"Enter a integer number: \"))\n",
    "r1=raiz(value)\n",
    "r2=elevado(value,3)\n",
    "print(\"Raiz cuadrada:\",r1)\n",
    "print(\"Elevado al cubo:\",r2)"
   ]
  },
  {
   "cell_type": "markdown",
   "metadata": {},
   "source": [
    "Como vemos para definir un alias a una funcionalidad que importamos de un módulo debemos disponer la palabra clave as seguida del nuevo nombre:\n",
    "\n",
    "`from math import sqrt as raiz, pow as elevado`\n",
    "\n",
    "Luego para utilizar la funcionalidad que importamos debemos hacerlo mediante el alias y no con el nombre definido en el módulo que importamos:\n",
    "\n",
    "`r1=raiz(value)\n",
    "r2=elevado(value,3)`\n",
    "\n",
    "### Problema 1\n",
    "Calcular el factorial de un número ingresado por teclado."
   ]
  },
  {
   "cell_type": "code",
   "execution_count": 11,
   "metadata": {
    "scrolled": true
   },
   "outputs": [
    {
     "name": "stdout",
     "output_type": "stream",
     "text": [
      "Enter a integer number: 4\n",
      "The factorioal 4 is: 24\n"
     ]
    }
   ],
   "source": [
    "from math import factorial\n",
    "\n",
    "value=int(input(\"Enter a integer number: \"))\n",
    "fact=factorial(value)\n",
    "print(f\"The factorioal {value} is:\",fact)\n"
   ]
  },
  {
   "cell_type": "code",
   "execution_count": 12,
   "metadata": {},
   "outputs": [],
   "source": []
  }
 ],
 "metadata": {
  "kernelspec": {
   "display_name": "Python 3",
   "language": "python",
   "name": "python3"
  },
  "language_info": {
   "codemirror_mode": {
    "name": "ipython",
    "version": 3
   },
   "file_extension": ".py",
   "mimetype": "text/x-python",
   "name": "python",
   "nbconvert_exporter": "python",
   "pygments_lexer": "ipython3",
   "version": "3.7.6"
  }
 },
 "nbformat": 4,
 "nbformat_minor": 4
}
